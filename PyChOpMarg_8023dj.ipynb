{
 "cells": [
  {
   "cell_type": "markdown",
   "id": "4296fe0b-8b35-4dcd-bace-54a3bb9eaeca",
   "metadata": {},
   "source": [
    "# _PyChOpMarg_ for IEEE 802.3dj\n",
    "\n",
    "Original author: David Banas <capn.freako@gmail.com>  \n",
    "Original date:   August 17, 2024\n",
    "\n",
    "Copyright &copy; 2024 David Banas; all rights reserved World wide."
   ]
  },
  {
   "cell_type": "markdown",
   "id": "c4ad37e6-16ad-4e4e-b2b3-81b2210d1118",
   "metadata": {},
   "source": [
    "## Introduction\n",
    "\n",
    "This [Jupyter](https://jupyter.org) notebook is intended to help debug recent additions made to the [_PyChOpMarg_](https://pychopmarg.readthedocs.io/en/latest/index.html) Python package in support of the coming IEEE 802.3dj Ethernet standard for 100 GBaud. signalling (200 Gbps using PAM-4).  \n",
    "I run it from my `pychopmarg` Python virtual environment, into which I've installed:\n",
    "\n",
    "- `jupyter`\n",
    "- `PyChOpMarg`\n",
    "\n",
    "This new addition to the 802.3 standard introduces some significant changes to the way equalization optimization is performed for COM analysis.\n",
    "And I am trying to bring the _PyChOpMarg_ package up-to-date with those changes.\n",
    "I look at the results of applying COM to certain example channels pertinent to the work of the IEEE 802.3dj task force."
   ]
  },
  {
   "cell_type": "markdown",
   "id": "d3feda0b-be49-48a3-aa26-ccbd6733a8b4",
   "metadata": {},
   "source": [
    "## Imports & Utilities\n",
    "\n",
    "Here, we import everything we need and define some useful utilities.\n"
   ]
  },
  {
   "cell_type": "code",
   "execution_count": 1,
   "id": "cfba0026-350f-47c4-94e2-9b0d297d0302",
   "metadata": {
    "execution": {
     "iopub.execute_input": "2024-10-21T10:54:22.585976Z",
     "iopub.status.busy": "2024-10-21T10:54:22.585884Z",
     "iopub.status.idle": "2024-10-21T10:54:23.368688Z",
     "shell.execute_reply": "2024-10-21T10:54:23.367442Z",
     "shell.execute_reply.started": "2024-10-21T10:54:22.585966Z"
    }
   },
   "outputs": [
    {
     "ename": "TypeError",
     "evalue": "property() got an unexpected keyword argument 'depends_on'",
     "output_type": "error",
     "traceback": [
      "\u001b[0;31m---------------------------------------------------------------------------\u001b[0m",
      "\u001b[0;31mTypeError\u001b[0m                                 Traceback (most recent call last)",
      "Cell \u001b[0;32mIn[1], line 17\u001b[0m\n\u001b[1;32m     14\u001b[0m \u001b[38;5;28;01mfrom\u001b[39;00m \u001b[38;5;21;01mtime\u001b[39;00m            \u001b[38;5;28;01mimport\u001b[39;00m time\n\u001b[1;32m     15\u001b[0m \u001b[38;5;28;01mfrom\u001b[39;00m \u001b[38;5;21;01mtyping\u001b[39;00m          \u001b[38;5;28;01mimport\u001b[39;00m Any, TypeAlias\n\u001b[0;32m---> 17\u001b[0m \u001b[38;5;28;01mfrom\u001b[39;00m \u001b[38;5;21;01mpychopmarg\u001b[39;00m\u001b[38;5;21;01m.\u001b[39;00m\u001b[38;5;21;01mcom\u001b[39;00m    \u001b[38;5;28;01mimport\u001b[39;00m COM, OptMode\n\u001b[1;32m     18\u001b[0m \u001b[38;5;28;01mfrom\u001b[39;00m \u001b[38;5;21;01mpychopmarg\u001b[39;00m\u001b[38;5;21;01m.\u001b[39;00m\u001b[38;5;21;01mcommon\u001b[39;00m \u001b[38;5;28;01mimport\u001b[39;00m \u001b[38;5;241m*\u001b[39m\n\u001b[1;32m     20\u001b[0m ChnlGrpName: TypeAlias \u001b[38;5;241m=\u001b[39m \u001b[38;5;28mstr\u001b[39m  \u001b[38;5;66;03m# channel group name\u001b[39;00m\n",
      "File \u001b[0;32m~/prj/PyChOpMarg/src/pychopmarg/com.py:142\u001b[0m\n\u001b[1;32m    138\u001b[0m                 res \u001b[38;5;241m+\u001b[39m\u001b[38;5;241m=\u001b[39m \u001b[38;5;124mf\u001b[39m\u001b[38;5;124m\"\u001b[39m\u001b[38;5;124m \u001b[39m\u001b[38;5;132;01m{\u001b[39;00mw\u001b[38;5;132;01m:\u001b[39;00m\u001b[38;5;124m5.2f\u001b[39m\u001b[38;5;132;01m}\u001b[39;00m\u001b[38;5;124m\"\u001b[39m\n\u001b[1;32m    139\u001b[0m     \u001b[38;5;28;01mreturn\u001b[39;00m res\n\u001b[0;32m--> 142\u001b[0m \u001b[38;5;28;43;01mclass\u001b[39;49;00m\u001b[43m \u001b[49m\u001b[38;5;21;43;01mCOM\u001b[39;49;00m\u001b[43m(\u001b[49m\u001b[43m)\u001b[49m\u001b[43m:\u001b[49m\n\u001b[1;32m    143\u001b[0m \u001b[43m    \u001b[49m\u001b[38;5;124;43m\"\u001b[39;49m\u001b[38;5;124;43mEncoding of the IEEE 802.3-22 Annex 93A/178A \u001b[39;49m\u001b[38;5;124;43m'\u001b[39;49m\u001b[38;5;124;43mChannel Operating Margin\u001b[39;49m\u001b[38;5;124;43m'\u001b[39;49m\u001b[38;5;124;43m (COM) specification.\u001b[39;49m\u001b[38;5;124;43m\"\u001b[39;49m\n\u001b[1;32m    145\u001b[0m \u001b[43m    \u001b[49m\u001b[43mstatus_str\u001b[49m\u001b[43m \u001b[49m\u001b[38;5;241;43m=\u001b[39;49m\u001b[43m \u001b[49m\u001b[38;5;28;43mstr\u001b[39;49m\u001b[43m(\u001b[49m\u001b[38;5;124;43m\"\u001b[39;49m\u001b[38;5;124;43mReady\u001b[39;49m\u001b[38;5;124;43m\"\u001b[39;49m\u001b[43m)\u001b[49m\n",
      "File \u001b[0;32m~/prj/PyChOpMarg/src/pychopmarg/com.py:390\u001b[0m, in \u001b[0;36mCOM\u001b[0;34m()\u001b[0m\n\u001b[1;32m    387\u001b[0m     \u001b[38;5;28;01mreturn\u001b[39;00m num \u001b[38;5;241m/\u001b[39m den\n\u001b[1;32m    389\u001b[0m \u001b[38;5;66;03m# - All possible Tx/Rx tap weight combinations.\u001b[39;00m\n\u001b[0;32m--> 390\u001b[0m tx_combs \u001b[38;5;241m=\u001b[39m \u001b[38;5;28;43mproperty\u001b[39;49m\u001b[43m(\u001b[49m\u001b[38;5;28;43mlist\u001b[39;49m\u001b[43m,\u001b[49m\u001b[43m \u001b[49m\u001b[43mdepends_on\u001b[49m\u001b[38;5;241;43m=\u001b[39;49m\u001b[43m[\u001b[49m\u001b[38;5;124;43m'\u001b[39;49m\u001b[38;5;124;43mtx_taps_min\u001b[39;49m\u001b[38;5;124;43m'\u001b[39;49m\u001b[43m,\u001b[49m\u001b[43m \u001b[49m\u001b[38;5;124;43m'\u001b[39;49m\u001b[38;5;124;43mtx_taps_max\u001b[39;49m\u001b[38;5;124;43m'\u001b[39;49m\u001b[43m,\u001b[49m\u001b[43m \u001b[49m\u001b[38;5;124;43m'\u001b[39;49m\u001b[38;5;124;43mtx_taps_step\u001b[39;49m\u001b[38;5;124;43m'\u001b[39;49m\u001b[43m]\u001b[49m\u001b[43m)\u001b[49m\n\u001b[1;32m    392\u001b[0m \u001b[38;5;28;01mdef\u001b[39;00m \u001b[38;5;21m_get_tx_combs\u001b[39m(\u001b[38;5;28mself\u001b[39m):\n\u001b[1;32m    393\u001b[0m \u001b[38;5;250m    \u001b[39m\u001b[38;5;124;03m\"\"\"\u001b[39;00m\n\u001b[1;32m    394\u001b[0m \u001b[38;5;124;03m    All possible Tx tap weight combinations.\u001b[39;00m\n\u001b[1;32m    395\u001b[0m \u001b[38;5;124;03m    \"\"\"\u001b[39;00m\n",
      "\u001b[0;31mTypeError\u001b[0m: property() got an unexpected keyword argument 'depends_on'"
     ]
    }
   ],
   "source": [
    "%matplotlib inline\n",
    "%load_ext autoreload\n",
    "%autoreload 2\n",
    "    \n",
    "import numpy   as np\n",
    "import re\n",
    "\n",
    "import skrf as rf\n",
    "\n",
    "from matplotlib      import pyplot as plt\n",
    "from numpy.fft       import fftshift, irfft, rfft\n",
    "from pathlib         import Path\n",
    "from random          import choice, sample\n",
    "from time            import time\n",
    "from typing          import Any, TypeAlias\n",
    "\n",
    "from pychopmarg.com    import COM, OptMode\n",
    "from pychopmarg.common import *\n",
    "\n",
    "ChnlGrpName: TypeAlias = str  # channel group name\n",
    "ChnlSetName: TypeAlias = str  # channel set name (the stem of the thru channel s4p file name)\n",
    "ChnlTypName: TypeAlias = str  # channel type name (\"thru\", \"next\", or \"fext\")\n",
    "ChnlSetComp: TypeAlias = rf.Network | list[rf.Network]   # i.e. - a thru channel, or a list of NEXT/FEXT channels\n",
    "ChnlSet:     TypeAlias = dict[ChnlTypName, ChnlSetComp]\n",
    "\n",
    "\n",
    "def fwhm(pr: Rvec) -> float:\n",
    "    \"\"\"\n",
    "    Measure the full width at half maximum of the given pulse response.\n",
    "    \n",
    "    Args:\n",
    "        pr: Pulse response to measure.\n",
    "        \n",
    "    Returns:\n",
    "        fwhm: Full width at half max of largest peak in given signal.\n",
    "\n",
    "    Notes:\n",
    "        1. Used to characterize the _bandwidth_ of a given channel.\n",
    "    \"\"\"\n",
    "    pk_loc = np.where(pr == max(pr))[0][0]\n",
    "    half_max = 0.5 * pr[pk_loc]\n",
    "    left_hm = pk_loc\n",
    "    while left_hm > 0 and pr[left_hm] > half_max:\n",
    "        left_hm -= 1\n",
    "    right_hm = pk_loc\n",
    "    while right_hm < (len(pr) - 1) and pr[right_hm] > half_max:\n",
    "        right_hm += 1\n",
    "    return right_hm - left_hm\n",
    "\n",
    "\n",
    "def reflectivity(pr: Rvec) -> float:\n",
    "    \"\"\"\n",
    "    Measure the _reflectivity_ of a channel with the given pulse response.\n",
    "    \n",
    "    Args:\n",
    "        pr: Pulse response of channel.\n",
    "        \n",
    "    Returns:\n",
    "        ref: Reflectivity of channel.\n",
    "\n",
    "    Notes:\n",
    "        1. Use sum of: delta-x weighted by power at delta-x.\n",
    "    \"\"\"\n",
    "    pk_loc = np.where(pr == max(pr))[0][0]\n",
    "    return sum([dn * y**2 for dn, y in enumerate(pr[pk_loc:])])\n",
    "    \n",
    "\n",
    "def get_channel_sets(path: Path) -> dict[ChnlGrpName, list[ChnlSet]]:\n",
    "    \"\"\"\n",
    "    Return all available groups of channel sets in the given path.\n",
    "\n",
    "    Args:\n",
    "        path: The folder in which to begin searching.\n",
    "            (Assumed to contain some number of sub-directories,\n",
    "            in which the actual channel sets are contained.)\n",
    "\n",
    "    Returns:\n",
    "        Dictionary of channel groups, each containing a list of channel sets.\n",
    "\n",
    "    Notes:\n",
    "        1. A \"channel set\" is a dictionary containing a thru channel and some number\n",
    "            of NEXT and FEXT aggressors.\n",
    "    \"\"\"\n",
    "    \n",
    "    chnl_groups = list(filter(lambda p: p.is_dir(), path.iterdir()))\n",
    "    chnl_groups.sort()\n",
    "    channels = {}\n",
    "    for chnl_grp in chnl_groups:\n",
    "        channels[chnl_grp.name] = []\n",
    "        thru_chnls = list(chnl_grp.glob(\"*[tT][hH][rR][uU]*.[sS]4[pP]\"))  # No global option for case insensitive glob().\n",
    "        thru_chnls.sort()\n",
    "        for thru_chnl in thru_chnls:\n",
    "            nexts = list(chnl_grp.glob(re.sub(\"thru\", \"[nN][eE][xX][tT][0-9]\", thru_chnl.name, flags=re.IGNORECASE)))\n",
    "            nexts.sort()\n",
    "            fexts = list(chnl_grp.glob(re.sub(\"thru\", \"[fF][eE][xX][tT][0-9]\", thru_chnl.name, flags=re.IGNORECASE)))\n",
    "            fexts.sort()\n",
    "            channels[chnl_grp.name].append({  # Here we're constructing a \"channel set\" dictionary.\n",
    "                \"thru\": thru_chnl,\n",
    "                \"next\": nexts,\n",
    "                \"fext\": fexts\n",
    "            })\n",
    "    return channels\n",
    "\n",
    "\n",
    "def run_com(\n",
    "    chnl_sets: list[tuple[ChnlGrpName, list[ChnlSet]]],\n",
    "    params: COMParams,\n",
    "    opt_mode: OptMode = OptMode.MMSE\n",
    ") -> dict[ChnlGrpName, dict[ChnlSetName, COM]]:\n",
    "    \"\"\"\n",
    "    Run COM on a list of grouped channel sets.\n",
    "\n",
    "    Args:\n",
    "        chnl_sets: List of pairs, each consisting of:\n",
    "            - ch_grp_name: The group name for this list of channel sets.\n",
    "            - ch_sets: List of channel sets to run.\n",
    "        params: The COM configuration parameters to use.\n",
    "\n",
    "    Keyword Args:\n",
    "        opt_mode: The optimization mode desired.\n",
    "            Default: OptMode.MMSE\n",
    "    \n",
    "    Returns:\n",
    "        2D dictionary indexed by channel group name, then by channel set name, containing the completed COM objects.\n",
    "    \"\"\"\n",
    "\n",
    "    theCOMs = {}\n",
    "    for grp, ch_set in chnl_sets:\n",
    "        lbl = ch_set['thru'].stem\n",
    "        theCOM = COM()\n",
    "        theCOM.set_params(params)\n",
    "        theCOM.chnl_s4p_thru = ch_set[\"thru\"]\n",
    "        n_fexts = len(ch_set[\"fext\"])\n",
    "        if n_fexts > 5:\n",
    "            theCOM.chnl_s4p_fext6 = ch_set[\"fext\"][5]\n",
    "        if n_fexts > 4:\n",
    "            theCOM.chnl_s4p_fext5 = ch_set[\"fext\"][4]\n",
    "        if n_fexts > 3:\n",
    "            theCOM.chnl_s4p_fext4 = ch_set[\"fext\"][3]\n",
    "        if n_fexts > 2:\n",
    "            theCOM.chnl_s4p_fext3 = ch_set[\"fext\"][2]\n",
    "        if n_fexts > 1:\n",
    "            theCOM.chnl_s4p_fext2 = ch_set[\"fext\"][1]\n",
    "        if n_fexts > 0:\n",
    "            theCOM.chnl_s4p_fext1 = ch_set[\"fext\"][0]\n",
    "        n_nexts = len(ch_set[\"next\"])\n",
    "        if n_nexts > 5:\n",
    "            theCOM.chnl_s4p_next6 = ch_set[\"next\"][5]\n",
    "        if n_nexts > 4:\n",
    "            theCOM.chnl_s4p_next5 = ch_set[\"next\"][4]\n",
    "        if n_nexts > 3:\n",
    "            theCOM.chnl_s4p_next4 = ch_set[\"next\"][3]\n",
    "        if n_nexts > 2:\n",
    "            theCOM.chnl_s4p_next3 = ch_set[\"next\"][2]\n",
    "        if n_nexts > 1:\n",
    "            theCOM.chnl_s4p_next2 = ch_set[\"next\"][1]\n",
    "        if n_nexts > 0:\n",
    "            theCOM.chnl_s4p_next1 = ch_set[\"next\"][0]\n",
    "        \n",
    "        # Calling the object calculates the COM value, as well as many other intermediate results.\n",
    "        com = theCOM(opt_mode=opt_mode)\n",
    "    \n",
    "        if grp in theCOMs:\n",
    "            theCOMs[grp].update({ch_set['thru'].stem: theCOM})\n",
    "        else:\n",
    "            theCOMs.update({grp: {ch_set['thru'].stem: theCOM}})\n",
    "\n",
    "    return theCOMs\n",
    "\n",
    "\n",
    "def dBm_Hz(x: Rvec) -> Rvec:\n",
    "    \"Convert (V^2/Hz) to (dBm/Hz), assuming 100 Ohm system impedance.\"\n",
    "    return 10 * np.log10(1e3 * x / 100)\n",
    "\n",
    "\n",
    "def mag_dB(x: Cvec) -> Rvec:\n",
    "    \"Return the magnitude in dB of a complex amplitude vector.\"\n",
    "    return 20 * np.log10(np.abs(x))\n",
    "\n",
    "\n",
    "# Global initialization\n",
    "np.set_printoptions(precision=2, linewidth=200)\n"
   ]
  },
  {
   "cell_type": "markdown",
   "id": "349000fa-4547-4717-9f0d-2d037f10f60a",
   "metadata": {},
   "source": [
    "## COM Parameter Values\n",
    "\n",
    "The following COM parameter values _should_ come from D1.n, but the current draft: D1.1, has many \"TBD\"s in their place still.  \n",
    "So, for now, I'm using the values found in Adam Healey's January 24, 2024 presentation titled, \"Reference receiver framework for 200G/lane electrical interfaces and PHYs\"."
   ]
  },
  {
   "cell_type": "code",
   "execution_count": null,
   "id": "81217c78-99e7-48bb-b58b-39c3be7323a0",
   "metadata": {
    "execution": {
     "iopub.status.busy": "2024-10-21T10:54:23.368857Z",
     "iopub.status.idle": "2024-10-21T10:54:23.369017Z",
     "shell.execute_reply": "2024-10-21T10:54:23.368961Z",
     "shell.execute_reply.started": "2024-10-21T10:54:23.368954Z"
    }
   },
   "outputs": [],
   "source": [
    "# https://www.ieee802.org/3/dj/public/24_01/healey_3dj_01_2401.pdf, slides 17-18\n",
    "# (Eventually, should be: IEEE-P802.3dj D1.n, Tables 179-15/16)\n",
    "N_RX_FFE_TAPS    = COM.nRxTaps\n",
    "N_RX_FFE_PRETAPS = COM.nRxPreTaps\n",
    "params = {\n",
    "    # General\n",
    "    \"fb\":   106.25,  # (GBaud)\n",
    "    \"fstep\": 10e6,   # (Hz)\n",
    "    \"L\":  4,\n",
    "    \"M\": 32,\n",
    "    \"DER_0\": 2e-4,\n",
    "    \"T_r\":  0.004,  # Tx output driver risetime (ns).\n",
    "    \"RLM\":  0.95,   # Table 179-7\n",
    "    \"A_v\":  0.413,  # victim TBD.\n",
    "    \"A_fe\": 0.413,  # far end aggressor TBD.\n",
    "    \"A_ne\": 0.45,   # near end aggressor TBD.\n",
    "    \"R_0\": 50,      # system reference impedance (Ohms)\n",
    "    # Noise\n",
    "    \"A_DD\":     0.02,      # (UI)\n",
    "    # \"SNR_TX\":  33.5,       # (dB) Table 179-7\n",
    "    \"SNR_TX\":  33.0,       # (dB)\n",
    "    # \"eta_0\":    5.20E-08,  # (V^2/GHz) TBD.\n",
    "    \"eta_0\":    6.0E-09,  # (V^2/GHz) TBD.\n",
    "    \"sigma_Rj\": 0.01,      # (UI)\n",
    "    # CTLE\n",
    "    # \"f_z\":   42.5,    # (GHz)\n",
    "    # \"f_p1\":  42.5,    # (GHz)\n",
    "    # \"f_p2\": 106.25,   # (GHz)\n",
    "    \"f_z\":   1e100,    # (GHz)\n",
    "    \"f_p1\":  1e100,    # (GHz)\n",
    "    \"f_p2\":  1e100,    # (GHz)\n",
    "    \"f_LF\":   1.328125,  # (GHz)\n",
    "    # \"g_DC\":  [-n for n in range(21)],  # (dB)\n",
    "    \"g_DC\":  [0],                        # (dB)\n",
    "    \"g_DC2\": [-n/2 for n in range(11)],  # (dB)\n",
    "    # Tx FFE\n",
    "    #                           c(-1)  c(+1)\n",
    "    \"tx_taps_min\":  [0, 0,     0.00,  0.00, 0, 0],\n",
    "    \"tx_taps_max\":  [0, 0.00,  0.00,  0.00, 0, 0],\n",
    "    \"tx_taps_step\": [0, 0.00,  0.00,  0.00, 0, 0],\n",
    "    \"c0_min\": 1.00,\n",
    "    # Rx EQ\n",
    "    \"f_r\": 0.58,  # (fb)\n",
    "    \"dfe_min\": [0],\n",
    "    \"dfe_max\": [0.85],\n",
    "    \"rx_taps_min\": [-0.15, -0.2, -0.6, 0.9, -0.6, -0.4] + [-0.15]*4 + [-0.1]*5,\n",
    "    \"rx_taps_max\": [ 0.15,  0.3,  0.2, 2.2,  0.2,  0.3] + [ 0.15]*4 + [ 0.1]*5,\n",
    "    # \"rx_taps_step\": [ 0.3]*N_RX_FFE_TAPS,\n",
    "    # \"w0_min\": 0.0,\n",
    "    \"dw\": N_RX_FFE_PRETAPS,\n",
    "    # Die & Package (Class A, Test 1) Sec. 178.10.1\n",
    "    \"R_d\": 50,                  # (Ohms)\n",
    "    \"C_d\": [0.04, 0.09, 0.11],  # (pF)\n",
    "    \"C_b\": 0.03,                # (pF)\n",
    "    \"C_p\": 0.04,                # (pF)\n",
    "    \"L_s\": [0.13, 0.15, 0.14],  # (nH)\n",
    "    \"z_c\": [87.5, 92.5],        # (Ohms)\n",
    "    \"z_p\": [33,    1.8],        # (mm)\n",
    "    \"gamma0\": 5.0e-4,           # (1/mm)\n",
    "    \"a1\":     8.9e-4,           # (sqrt_ns/mm)\n",
    "    \"a2\":     2.0e-4,            # (ns/mm)\n",
    "    \"tau\":    6.141e-3,          # (ns/mm)\n",
    "}\n"
   ]
  },
  {
   "cell_type": "markdown",
   "id": "05574949-95ee-473f-b76b-52ace11d79a5",
   "metadata": {},
   "source": [
    "## Identify channel sets\n",
    "\n",
    "Given a top-level directory, assemble the dictionary of groups of \"channel sets\" to be tested.\n",
    "\n",
    "A group of channel sets is created for each subdirectory found.\n",
    "\n",
    "A channel set consists of:\n",
    "\n",
    "- a thru channel,\n",
    "- some number of NEXT aggressors, and\n",
    "- some number of FEXT aggressors.\n",
    "\n",
    "NEXT/FEXT aggressors are associated with thru channels, via simple file name pattern matching, substituting \"next\"/\"fext\" in for \"thru\".\n",
    "\n",
    "**Note:** You can find the channels contributed for work on 802.3dj here:  \n",
    "[IEEE P802.3dj Tools and Channel Data Area (After 27 Jan 2024)](https://www.ieee802.org/3/dj/public/tools/index.html)\n"
   ]
  },
  {
   "cell_type": "code",
   "execution_count": null,
   "id": "b54b3312-9c0c-46ee-ad76-14e85557fe68",
   "metadata": {
    "execution": {
     "iopub.status.busy": "2024-10-21T10:54:23.369342Z",
     "iopub.status.idle": "2024-10-21T10:54:23.369443Z",
     "shell.execute_reply": "2024-10-21T10:54:23.369393Z",
     "shell.execute_reply.started": "2024-10-21T10:54:23.369387Z"
    }
   },
   "outputs": [],
   "source": [
    "top_dir = Path(\"chnl_data/P8023dj/KR\")\n",
    "channel_sets = get_channel_sets(top_dir)\n",
    "print(f\"Channel groups found in '{top_dir}':\")\n",
    "for grp, chnls in channel_sets.items():\n",
    "    print(f\"\\t{grp:30s}:\\t{len(chnls):4d} channels found.\")\n",
    "\n",
    "if False:\n",
    "    for chnl_grp in channel_sets.keys():\n",
    "        print(f\"{chnl_grp}:\")\n",
    "        for chnl_set in channel_sets[chnl_grp]:\n",
    "            print(f\"\\t{chnl_set['thru'].stem}\")\n",
    "            print(\"\\t\\tNEXT:\")\n",
    "            for next in chnl_set['next']:\n",
    "                print(f\"\\t\\t\\t{next.stem}\")\n",
    "            print(\"\\t\\tFEXT:\")\n",
    "            for fext in chnl_set['fext']:\n",
    "                print(f\"\\t\\t\\t{fext.stem}\")\n",
    "            print(\"\")\n"
   ]
  },
  {
   "cell_type": "markdown",
   "id": "6bc3291f-b74c-4616-a973-d29a6ff2ad02",
   "metadata": {},
   "source": [
    "## Run COM on imported channels.\n",
    "\n",
    "Here, we run COM on some subset of the channels imported above.\n",
    "\n",
    "**Note:** Each channels requires about 10 seconds of simulation time."
   ]
  },
  {
   "cell_type": "code",
   "execution_count": null,
   "id": "82eecfa6-4899-4c0a-9263-acfde5f47d0d",
   "metadata": {
    "execution": {
     "iopub.status.busy": "2024-10-21T10:54:23.369894Z",
     "iopub.status.idle": "2024-10-21T10:54:23.370086Z",
     "shell.execute_reply": "2024-10-21T10:54:23.370022Z",
     "shell.execute_reply.started": "2024-10-21T10:54:23.370015Z"
    }
   },
   "outputs": [],
   "source": [
    "ch_sets = [(k, chnl_set) for k, v in channel_sets.items()\n",
    "                         for chnl_set in v]\n",
    "# tested_ch_sets = ch_sets  # Use this one for normal operation.\n",
    "tested_ch_sets = sample(ch_sets, 9)  # Random selection w/ no duplication; used for quick-turn debugging sessions.\n",
    "\n",
    "# Use all channels in the named group:\n",
    "# grp  = \"shanbhag_3dj_02_2305\"\n",
    "# tested_ch_sets = [(grp, ch_set) for ch_set in channel_sets[grp]]\n",
    "\n",
    "# Use a subset of the channels in the named group:\n",
    "# tested_ch_sets = [(grp, channel_sets[grp][n]) for n in range(1, 3)]  # Selects two channels: second and third.\n",
    "\n",
    "# Use only the named channels in the named group:\n",
    "# grp  = \"mellitz_3dj_02_elec_230504\"\n",
    "# chnls = [\"KRCA_wXTALK_MX_17_PCB-50-50_mm_FO-300-300_mm_CA-500_mm_thru\", \"KRCA_wXTALK_MX_16_PCB-25-25_mm_FO-300-300_mm_CA-500_mm_thru\"]\n",
    "# tested_ch_sets = [(grp, cset) for cset in filter(lambda cs: cs['thru'].stem in chnls, channel_sets[grp])]\n",
    "\n",
    "nTests = len(tested_ch_sets)\n",
    "print(f\"{nTests} channels selected for testing. (Approximately {nTests * 10 / 60: .1f} minutes.)\")\n",
    "theCOMs = run_com(tested_ch_sets, params)\n"
   ]
  },
  {
   "cell_type": "markdown",
   "id": "ee26e7f6-a60d-4c3c-a089-1e4991164d4d",
   "metadata": {},
   "source": [
    "### Tabulated Results\n",
    "\n",
    "The tabulated results below suggest the following:\n",
    "\n",
    "1. The COM values are too high.\n",
    "\n",
    "    - The range in Adam's plots is about: [-3, 6].\n",
    "    - Note the FOM numbers, below, fit into that range quite nicely.\n",
    "  \n",
    "2. The other noise components are dwarfed by `Sigma_ISI`.\n",
    "\n",
    "    - The next largest component, `Sigma_Tx`, is down by an order of magnitude!\n",
    "    - The rest barely even register; why?\n"
   ]
  },
  {
   "cell_type": "code",
   "execution_count": null,
   "id": "deb201f8-2cb6-4d97-b355-40840c6d557a",
   "metadata": {
    "execution": {
     "iopub.status.busy": "2024-10-21T10:54:23.370455Z",
     "iopub.status.idle": "2024-10-21T10:54:23.370539Z",
     "shell.execute_reply": "2024-10-21T10:54:23.370493Z",
     "shell.execute_reply.started": "2024-10-21T10:54:23.370489Z"
    }
   },
   "outputs": [],
   "source": [
    "print(\"All 'Sigma_?' values have units of mV.\")\n",
    "print(\"\\nGroup\\tChannel\\t\\t\\t\\t\\t  COM (dB)   FOM (dB)    ME (mV)   As (mV)  Ani (mV)  Sigma_Tx\\t Sigma_ISI   Sigma_J\\tSigma_Xt   Sigma_N\")\n",
    "print(\"=\" * 154)\n",
    "for grp in theCOMs.keys():\n",
    "    print(grp)\n",
    "    for lbl in theCOMs[grp].keys():\n",
    "        print(f\"\\t{lbl[-40:]:41s}\", end=\"\")\n",
    "        com  = theCOMs[grp][lbl]\n",
    "        print(f\"  {com.com:4.1f}       {com.fom:4.1f}        {np.sqrt(com.mse) * 1e3:.1g}   {com.As * 1e3:7.1f}   {com.Ani * 1e3:7.1f}     {com.com_sigma_Tx * 1e3:4.2f}\\t   {com.com_sigma_ISI * 1e3:4.2f}      {com.sigma_J * 1e3:4.2f}\\t  {com.sigma_XT * 1e3:4.2f}       {com.com_sigma_N * 1e3:4.2f}\")\n"
   ]
  },
  {
   "cell_type": "code",
   "execution_count": null,
   "id": "35f7351d-1f07-4e57-b5be-950a4aed6b48",
   "metadata": {
    "execution": {
     "iopub.status.busy": "2024-10-21T10:54:23.370919Z",
     "iopub.status.idle": "2024-10-21T10:54:23.371025Z",
     "shell.execute_reply": "2024-10-21T10:54:23.370968Z",
     "shell.execute_reply.started": "2024-10-21T10:54:23.370963Z"
    }
   },
   "outputs": [],
   "source": [
    "print(\"\\nGroup\\tChannel\\t\\t\\t\\t\\t  Py(>=DER0)\\tpy0[0]\\tpy1[0]\\tpy[0]\")\n",
    "print(\"=\" * 154)\n",
    "for grp in theCOMs.keys():\n",
    "    print(grp)\n",
    "    for lbl in theCOMs[grp].keys():\n",
    "        print(f\"\\t{lbl[-40:]:41s}\", end=\"\")\n",
    "        com  = theCOMs[grp][lbl]\n",
    "        print(f\"   {np.where(com.rslts['Py'] >= com.DER0)[0][0] : 3d}\\t\\t{com.rslts['py0'][0]:.2g}\\t{com.rslts['py1'][0]:.2g}\\t{com.rslts['py'][0]:.2g}\")  # \\t{com.com_sigma_G:.2g}\\t{com.y}\")\n"
   ]
  },
  {
   "cell_type": "code",
   "execution_count": null,
   "id": "c2e93f15-8b24-413b-a6fe-8b01e96f96d4",
   "metadata": {
    "execution": {
     "iopub.status.busy": "2024-10-21T10:54:23.371327Z",
     "iopub.status.idle": "2024-10-21T10:54:23.371422Z",
     "shell.execute_reply": "2024-10-21T10:54:23.371369Z",
     "shell.execute_reply.started": "2024-10-21T10:54:23.371364Z"
    }
   },
   "outputs": [],
   "source": [
    "print(\"\\nGroup\\tChannel\\t\\t\\t\\t\\t   Lambda     MSE/varX    Hit b limit\")\n",
    "print(\"=\" * 85)\n",
    "for grp in theCOMs.keys():\n",
    "    print(grp)\n",
    "    for lbl in theCOMs[grp].keys():\n",
    "        print(f\"\\t{lbl[-40:]:41s}\", end=\"\")\n",
    "        com  = theCOMs[grp][lbl]\n",
    "        L = com.L\n",
    "        varX = (L**2 - 1) / (3 * (L - 1)**2)  # (93A-29)\n",
    "        print(f\"   {com.mmse_rslt['lambda']:5.3f}\\t{com.mse / varX:5.3f}\\t    {com.mmse_rslt['hit_b_limit']}\")\n",
    "        plt.plot(com.mmse_rslt['delta_w'])\n",
    "plt.show()\n"
   ]
  },
  {
   "cell_type": "markdown",
   "id": "9024ef8c-651d-43a5-9683-d8149737bf2f",
   "metadata": {},
   "source": [
    "### Histogram of Intermediate Results\n",
    "\n",
    "As a sanity check on our runs, we plot the histograms of some important intermediate results below.\n",
    "\n",
    "**Note:** The _Bandwidth_ refers to the raw interconnect, while the _Reflectivity_ includes the effect of the package, but not the equalization."
   ]
  },
  {
   "cell_type": "code",
   "execution_count": null,
   "id": "f0e652db-4275-4c8f-b38f-18d504484a98",
   "metadata": {
    "execution": {
     "iopub.status.busy": "2024-10-21T10:54:23.371631Z",
     "iopub.status.idle": "2024-10-21T10:54:23.371722Z",
     "shell.execute_reply": "2024-10-21T10:54:23.371670Z",
     "shell.execute_reply.started": "2024-10-21T10:54:23.371666Z"
    }
   },
   "outputs": [],
   "source": [
    "names     = []\n",
    "com_vals  = []\n",
    "com_rslts = []\n",
    "for grp, d in theCOMs.items():\n",
    "    for lbl, theCOM in d.items():\n",
    "        names.append(grp + \":\" + lbl)\n",
    "        com_vals.append(theCOM.rslts['com'])\n",
    "        com_rslts.append([\n",
    "            theCOM.rslts['As'],\n",
    "            theCOM.rslts['Ani'],\n",
    "            theCOM.rslts['fom'],\n",
    "            theCOM.rslts['sigma_ISI'],\n",
    "            theCOM.rslts['sigma_XT'],\n",
    "            theCOM.rslts['sigma_J'],\n",
    "            theCOM.rslts['sigma_G'],\n",
    "            theCOM.rslts['sigma_Tx'],\n",
    "            theCOM.rslts['sigma_N'],\n",
    "            1 / (fwhm(theCOM.pulse_resps_nopkg[0]) * theCOM.times[1]),  # raw channel bandwidth\n",
    "            reflectivity(theCOM.pulse_resps_noeq[0]) * theCOM.times[1],\n",
    "        ])\n"
   ]
  },
  {
   "cell_type": "code",
   "execution_count": null,
   "id": "267066c8-d1af-441b-ab6f-b8c18186120f",
   "metadata": {
    "execution": {
     "iopub.status.busy": "2024-10-21T10:54:23.371993Z",
     "iopub.status.idle": "2024-10-21T10:54:23.372099Z",
     "shell.execute_reply": "2024-10-21T10:54:23.372043Z",
     "shell.execute_reply.started": "2024-10-21T10:54:23.372038Z"
    }
   },
   "outputs": [],
   "source": [
    "plt.figure(figsize=(12, 9))\n",
    "labels = [\"As\", \"Ani\", \"fom\", \"sigma_ISI\", \"sigma_XT\", \"sigma_J\", \"sigma_G\", \"sigma_Tx\", \"sigma_N\", \"Bandwidth\", \"Reflectivity\"]\n",
    "for ix, (label, values) in enumerate(zip(labels, np.array(com_rslts).T)):\n",
    "    plt.subplot(3, 4, 1 + ix)\n",
    "    plt.hist(values)\n",
    "    plt.title(label)\n",
    "plt.tight_layout()\n",
    "plt.show()\n"
   ]
  },
  {
   "cell_type": "markdown",
   "id": "e14321f0-4740-4a86-97d0-a5397f924e22",
   "metadata": {},
   "source": [
    "### Random Sampling of Equalized Pulse Responses\n",
    "\n",
    "As a further sanity check on the results, below are plotted the equalized pulse responses for 12 randomly selected cases."
   ]
  },
  {
   "cell_type": "code",
   "execution_count": null,
   "id": "7b24e798-83a7-4e70-b514-ab2286a4edf3",
   "metadata": {
    "execution": {
     "iopub.status.busy": "2024-10-21T10:54:23.372521Z",
     "iopub.status.idle": "2024-10-21T10:54:23.372618Z",
     "shell.execute_reply": "2024-10-21T10:54:23.372567Z",
     "shell.execute_reply.started": "2024-10-21T10:54:23.372562Z"
    }
   },
   "outputs": [],
   "source": [
    "plt.figure(figsize=(12, 9))\n",
    "labeled_coms_by_group = [\n",
    "    (grp, theCOMs[grp].items())\n",
    "    for grp in theCOMs.keys()\n",
    "]\n",
    "for ix in range(12):\n",
    "    grp, coms = labeled_coms_by_group[ix % len(labeled_coms_by_group)]\n",
    "    lbl, com = choice(list(coms))\n",
    "    plt.subplot(3, 4, 1 + ix)\n",
    "    plt.plot(com.times * 1e9, com.pulse_resps[0] * 1e3, label=f\"...{lbl[-15:]}\")\n",
    "    plt.title(grp[:20])\n",
    "    plt.xlabel(\"Time (ns)\")\n",
    "    plt.ylabel(\"Pulse Response (mV)\")\n",
    "    # plt.axis(xmin=0, xmax=10, ymin=-10, ymax=100)\n",
    "    plt.legend()\n",
    "plt.tight_layout()\n",
    "plt.show()\n"
   ]
  },
  {
   "cell_type": "markdown",
   "id": "ca70fe6a-0006-45ad-895e-38a7a476b5d1",
   "metadata": {},
   "source": [
    "### COM vs. FOM\n",
    "\n",
    "Still sanity checking, here we compare COM to FOM."
   ]
  },
  {
   "cell_type": "code",
   "execution_count": null,
   "id": "03ec0cdc-5d2f-40f0-af7b-17d923eec984",
   "metadata": {
    "execution": {
     "iopub.status.busy": "2024-10-21T10:54:23.372915Z",
     "iopub.status.idle": "2024-10-21T10:54:23.373155Z",
     "shell.execute_reply": "2024-10-21T10:54:23.373100Z",
     "shell.execute_reply.started": "2024-10-21T10:54:23.373094Z"
    }
   },
   "outputs": [],
   "source": [
    "fom = np.array(list(map(lambda tup: tup[2], com_rslts)))\n",
    "plt.figure(figsize=(12, 4))\n",
    "plt.plot(fom, com_vals, \".\")\n",
    "plt.plot(fom, fom + 0.0)\n",
    "plt.title(\"COM vs. FOM\")\n",
    "plt.xlabel(\"FOM (dB)\")\n",
    "plt.ylabel(\"COM (dB)\")\n",
    "plt.grid()\n",
    "plt.show()\n"
   ]
  },
  {
   "cell_type": "markdown",
   "id": "8b987b06-c730-4c1e-8e61-8aac8496f743",
   "metadata": {},
   "source": [
    "There appears to be no correlation between FOM and COM.\n"
   ]
  },
  {
   "cell_type": "markdown",
   "id": "015534cc-0dd1-490b-af8f-73e61a8f0fa8",
   "metadata": {},
   "source": [
    "## PRZF vs. MMSE\n",
    "\n",
    "Let's compare the old _Pulse Response Zero Forcing_ (PRZF) method of EQ optimization to the new _Minimum Mean Squared Error_ (MMSE) method, to see if we can flush out any bugs in the new (or, old) approach.\n"
   ]
  },
  {
   "cell_type": "markdown",
   "id": "80b470aa-b648-46a8-b1cd-13bbe2d3ff4c",
   "metadata": {},
   "source": [
    "### FOM Comparison\n",
    "\n",
    "The FOM values above seem to be consistent w/ Adam's reported COM numbers.    \n",
    "Let's compare the old vs. new FOM calculations for a few randomly chosen channels,  \n",
    "which we'll re-run in PRZF mode, so we can compare results."
   ]
  },
  {
   "cell_type": "code",
   "execution_count": null,
   "id": "0cd180e6-9675-4d66-913a-db87d9254952",
   "metadata": {
    "execution": {
     "iopub.status.busy": "2024-10-21T10:54:23.373436Z",
     "iopub.status.idle": "2024-10-21T10:54:23.373532Z",
     "shell.execute_reply": "2024-10-21T10:54:23.373479Z",
     "shell.execute_reply.started": "2024-10-21T10:54:23.373474Z"
    }
   },
   "outputs": [],
   "source": [
    "_theCOMs = run_com(sample(tested_ch_sets, 9), params, opt_mode=OptMode.PRZF)\n"
   ]
  },
  {
   "cell_type": "code",
   "execution_count": null,
   "id": "73b598a2-d19d-47a3-b802-4f85fb96ca68",
   "metadata": {
    "execution": {
     "iopub.status.busy": "2024-10-21T10:54:23.373868Z",
     "iopub.status.idle": "2024-10-21T10:54:23.373991Z",
     "shell.execute_reply": "2024-10-21T10:54:23.373929Z",
     "shell.execute_reply.started": "2024-10-21T10:54:23.373924Z"
    }
   },
   "outputs": [],
   "source": [
    "print(\"Data pairs are: (PRZF) / (MMSE).\")\n",
    "print(\"All 'Sigma_?' values in (mV).\")\n",
    "print(\"\\nGroup\\tChannel\\t\\t\\t\\t\\t     FOM (dB)       Ani (mV)\\t  RMSE (mV)\\t  Sigma_Tx\\t    Sigma_J\\t    Sigma_Xt\\t    Sigma_N\\t     Sigma_ISI\")\n",
    "print(\"=\" * 175)\n",
    "for grp in _theCOMs.keys():\n",
    "    print(grp)\n",
    "    for lbl in _theCOMs[grp].keys():\n",
    "        print(f\"\\t{lbl[-40:]:41s}\", end=\"\")\n",
    "        _com = _theCOMs[grp][lbl]\n",
    "        com  = theCOMs[grp][lbl]\n",
    "        print(f\"  {_com.fom:4.1f} / {com.fom:4.1f}   {_com.Ani * 1e3:5.1f} / {com.Ani * 1e3:5.1f}    {np.sqrt(_com.mse) * 1e3:1.0f} / {np.sqrt(com.mse) * 1e3:5.1f}\", end=\"\")\n",
    "        print(f\"   {_com.sigma_Tx * 1e3:6.2f} / {com.sigma_Tx * 1e3:6.2f}\\t{_com.sigma_J * 1e3:6.2f} / {com.sigma_J * 1e3:6.2f}\\t{_com.sigma_XT * 1e3:6.2f} / {com.sigma_XT * 1e3:6.2f}\\t\", end=\"\")\n",
    "        print(f\"{_com.sigma_N * 1e3:6.2f} / {com.sigma_N * 1e3:6.2f}\\t     {_com.sigma_ISI * 1e3:6.2f} / {com.sigma_ISI * 1e3:1.0f}\")\n"
   ]
  },
  {
   "attachments": {},
   "cell_type": "markdown",
   "id": "6d72d4e2-d53a-47fe-8c35-02f316438dbb",
   "metadata": {},
   "source": [
    "**Observations:**\n",
    "\n",
    "1. The PRZF FOM values are much higher than their MMSE equivalents and somewhat consistent w/ the MMSE COM values above.\n",
    "    - This is quite strange, given that the `Ani` values are quite similar in all but one of the cases.\n",
    "    - This is also completely inconsistent w/ the noise numbers, which are substantially lower in the MMSE case!\n",
    "    (Note that the `Sigma_ISI` value is set to zero by the code, in the MMSE case.)\n",
    "\n",
    "        - How is that possible, given the FOM value comparisons?!\n",
    "            - Well, in the MMSE case, the FOM value calculation doesn't involve the noise sigma values directly:\n",
    "               \n",
    "                ```python\n",
    "                mse = varX * (w_lim @ R @ w_lim.T + 1 + b_lim @ b_lim - 2 * w_lim @ h0 - 2 * w_lim @ Hb.T @ b_lim).flatten()[0]\n",
    "                fom = 20 * log10(Rlm / (L - 1) / sqrt(mse))\n",
    "                ```  \n",
    "\n",
    "            - So, perhaps, there's a disconnect between `R` and the various sigma noise values, or the equation for `mse` is wrong?\n",
    "         \n",
    "The `R` matrix is built from the `Rn` vector coming from the `NoiseCalc` instance.  \n",
    "And that `Rn` vector is calculated by IFFT'ing a summation of the _power spectral densities_ (PSDs):\n",
    "\n",
    "```python\n",
    "def Rn(self) -> Rvec:\n",
    "    \"\"\"Noise autocorrelation vector at Rx FFE input.\"\"\"\n",
    "    Sn = self.Srn + sum(array(list(map(self.Sxn, self.agg_pulse_resps))), axis=0) + self.Stn + self.Sjn\n",
    "    return irfft(Sn) / self.Tb  # i.e. - `* fB`, which when combined w/ the implicit `1/N` of `irfft()` yields `* df`.\n",
    "```\n",
    "==> Okay, let's plot those PSDs and see what's going on..."
   ]
  },
  {
   "cell_type": "markdown",
   "id": "7646fe1f-4399-4fb1-b855-1ffe382f0b8a",
   "metadata": {},
   "source": [
    "#### Power Spectral Density\n",
    "\n",
    "Here, we plot the noise PSDs used to calculate `Rn`.\n",
    "(See the discussion above.)"
   ]
  },
  {
   "cell_type": "code",
   "execution_count": null,
   "id": "daf8db8a-7474-4136-876c-3773faca27b5",
   "metadata": {
    "execution": {
     "iopub.status.busy": "2024-10-21T10:54:23.374482Z",
     "iopub.status.idle": "2024-10-21T10:54:23.374586Z",
     "shell.execute_reply": "2024-10-21T10:54:23.374529Z",
     "shell.execute_reply.started": "2024-10-21T10:54:23.374525Z"
    }
   },
   "outputs": [],
   "source": [
    "plt.figure(figsize=(12, 12))\n",
    "n = 1\n",
    "for grp in theCOMs.keys():\n",
    "    for lbl in theCOMs[grp].keys():\n",
    "        com  = theCOMs[grp][lbl]\n",
    "        theNoiseCalc = com.theNoiseCalc\n",
    "        Srn = theNoiseCalc.Srn\n",
    "        Sxn = np.sum(np.array(list(map(theNoiseCalc.Sxn, theNoiseCalc.agg_pulse_resps))), axis=0)\n",
    "        Stn = theNoiseCalc.Stn\n",
    "        Sjn = theNoiseCalc.Sjn\n",
    "\n",
    "        plt.subplot(330 + n)\n",
    "        plt.tight_layout()\n",
    "        _f = np.linspace(0, 0.5, len(Srn))\n",
    "        plt.plot(_f, dBm_Hz(Srn), label=\"Srn\", color=\"blue\")\n",
    "        plt.plot(_f, dBm_Hz(Sxn), label=\"Sxn\", color=\"orange\")\n",
    "        plt.plot(_f, dBm_Hz(Stn), label=\"Stn\", color=\"purple\")\n",
    "        plt.plot(_f, dBm_Hz(Sjn), label=\"Sjn\", color=\"green\")\n",
    "        plt.title(f\"{grp[:12]}:{lbl[-15:]}\")\n",
    "        if n > 6:\n",
    "            plt.xlabel(\"Frequency (fBaud.)\")\n",
    "        if n % 3 == 1:\n",
    "            plt.ylabel(\"PSD (dBm/Hz)\")\n",
    "        plt.axis(ymin=-200, ymax=-135)\n",
    "        plt.grid()\n",
    "        plt.legend()\n",
    "        n += 1\n",
    "        if n > 9:\n",
    "            break\n",
    "plt.show()\n"
   ]
  },
  {
   "cell_type": "markdown",
   "id": "a1bc062d-6bd5-4a84-b4de-dda969652395",
   "metadata": {},
   "source": [
    "Well, those all seem to be, at least, in the same order of magnitude range as what Adam Healey reported in his January 2024 presentation to the 802.3dj task force:\n",
    "\n",
    "![Adam Healey's PSD Plots](Adams_PSDs.png)\n"
   ]
  },
  {
   "cell_type": "markdown",
   "id": "53256e82-7d77-421c-8baa-0bf77f82d820",
   "metadata": {},
   "source": [
    "#### Autocorrelation Vectors\n",
    "\n",
    "As a final check, let's plot the `Rn` for the test cases above."
   ]
  },
  {
   "cell_type": "code",
   "execution_count": null,
   "id": "91425e5c-f970-4262-a380-0d15f5e97724",
   "metadata": {
    "execution": {
     "iopub.status.busy": "2024-10-21T10:54:23.374870Z",
     "iopub.status.idle": "2024-10-21T10:54:23.374972Z",
     "shell.execute_reply": "2024-10-21T10:54:23.374918Z",
     "shell.execute_reply.started": "2024-10-21T10:54:23.374913Z"
    }
   },
   "outputs": [],
   "source": [
    "plt.figure(figsize=(12, 5))\n",
    "for grp in theCOMs.keys():\n",
    "    for lbl in theCOMs[grp].keys():\n",
    "        com  = theCOMs[grp][lbl]\n",
    "        theNoiseCalc = com.theNoiseCalc\n",
    "        Rn = np.abs(theNoiseCalc.Rn())\n",
    "        assert all(Rn >= 0)\n",
    "        assert not any(np.isnan(Rn))\n",
    "        ix = np.arange(len(Rn)) - len(Rn) // 2\n",
    "        plt.plot(ix, fftshift(np.sqrt(Rn)) * 1e3, label=grp[:14]+\"...:...\"+lbl[-26:])\n",
    "plt.title(\"Autocorrelation Vectors (mV)\")\n",
    "plt.xlabel(\"Vector Index\")\n",
    "# plt.axis(ymin=-200, ymax=-135)\n",
    "plt.grid()\n",
    "plt.legend()\n",
    "plt.show()\n"
   ]
  },
  {
   "cell_type": "markdown",
   "id": "ff184e84-502c-431e-8a18-001b01298e66",
   "metadata": {},
   "source": [
    "Well, those certainly look like autocorrelation vectors, but I don't really know how to judge whether the magnitude makes sense.\n",
    "Let's generate their noise PDFs and look at those..."
   ]
  },
  {
   "cell_type": "markdown",
   "id": "91898b62-016f-4fd0-9a62-6eb2831b5ee9",
   "metadata": {},
   "source": [
    "#### Rn PDFs\n",
    "\n",
    "Here, we use the autocorrelation vectors above to generate noise PDFs, just like in the COM calculation for $A_{ni}$."
   ]
  },
  {
   "cell_type": "code",
   "execution_count": null,
   "id": "a062dd30-8788-42b8-b179-0fda80c664b4",
   "metadata": {
    "execution": {
     "iopub.status.busy": "2024-10-21T10:54:23.375202Z",
     "iopub.status.idle": "2024-10-21T10:54:23.375294Z",
     "shell.execute_reply": "2024-10-21T10:54:23.375242Z",
     "shell.execute_reply.started": "2024-10-21T10:54:23.375238Z"
    }
   },
   "outputs": [],
   "source": [
    "from pychopmarg.utility import delta_pmf\n",
    "\n",
    "plt.figure(figsize=(12, 5))\n",
    "for grp in theCOMs.keys():\n",
    "    for lbl in theCOMs[grp].keys():\n",
    "        com = theCOMs[grp][lbl]\n",
    "        theNoiseCalc = com.theNoiseCalc\n",
    "        x, py = delta_pmf(np.sqrt(np.abs(theNoiseCalc.Rn())))\n",
    "        plt.plot(x * 1e3, py, label=grp[:14]+\"...:...\"+lbl[-26:])\n",
    "plt.title(\"Noise Amplitude PMF\")\n",
    "plt.xlabel(\"Noise Amplitude (mV)\")\n",
    "plt.grid()\n",
    "plt.legend()\n",
    "plt.show()\n"
   ]
  },
  {
   "cell_type": "markdown",
   "id": "531f2274-dcf4-4abc-b393-870ab6c9c220",
   "metadata": {},
   "source": [
    "### Pulse Response Comparison\n",
    "\n",
    "Let's plot the victim pulse response and compare.  \n",
    "We'll include the ISI for the MMSE case, as a visual indicator of the quality of the Rx FFE tap weight optimization process."
   ]
  },
  {
   "cell_type": "code",
   "execution_count": null,
   "id": "484bbcd3-20a7-4278-889e-74a83b726c22",
   "metadata": {
    "execution": {
     "iopub.status.busy": "2024-10-21T10:54:23.375493Z",
     "iopub.status.idle": "2024-10-21T10:54:23.375589Z",
     "shell.execute_reply": "2024-10-21T10:54:23.375535Z",
     "shell.execute_reply.started": "2024-10-21T10:54:23.375530Z"
    }
   },
   "outputs": [],
   "source": [
    "print(\"hISI samples shown as 'x's.\")\n",
    "plt.figure(figsize=(12, 12))\n",
    "n = 1\n",
    "for grp in _theCOMs.keys():\n",
    "    for lbl in _theCOMs[grp].keys():\n",
    "        _com = _theCOMs[grp][lbl]\n",
    "        com  = theCOMs[grp][lbl]\n",
    "        ui = 1 / com.fb\n",
    "        curs_ix = com.com_cursor_ix\n",
    "        nspui = com.nspui\n",
    "        first_ix = curs_ix - com.nRxPreTaps * nspui\n",
    "        last_ix = first_ix + com.nRxTaps * nspui\n",
    "        ix_isi = range(first_ix, last_ix, nspui)\n",
    "        plt.subplot(330 + n)\n",
    "        plt.tight_layout()\n",
    "        plt.plot(_com.times * 1e9, _com.pulse_resps[0] * 1e3, label=\"PRZF\", color=\"red\")\n",
    "        plt.plot(com.times * 1e9, com.pulse_resps[0] * 1e3, label=\"MMSE\", color=\"blue\")\n",
    "        for _n, _ix in enumerate(ix_isi):\n",
    "            _t = com.times[_ix]\n",
    "            if _n == com.nRxPreTaps:  # cursor\n",
    "                plt.axvline(_t * 1e9, color=\"blue\", linestyle=\"-\")\n",
    "            else:\n",
    "                plt.axvline(_t * 1e9, color=\"blue\", linestyle=\":\")\n",
    "        plt.plot(com.com_tISI * 1e9, com.com_hISI * 1e3, \"xk\")\n",
    "        plt.title(f\"{grp[:12]}:{lbl[-15:]}\")\n",
    "        plt.xlabel(\"Time (ns)\")\n",
    "        plt.ylabel(\"Pulse Response (mV)\")\n",
    "        plt.axis(xmin=(com.times[first_ix] - ui/2) * 1e9, xmax=(com.times[last_ix] - ui/2) * 1e9)\n",
    "        plt.grid()\n",
    "        plt.legend()\n",
    "        n += 1\n",
    "        if n > 9:\n",
    "            break\n",
    "plt.show()\n"
   ]
  },
  {
   "cell_type": "markdown",
   "id": "51fd3462-d713-4921-88af-327ad91c2898",
   "metadata": {},
   "source": [
    "### Rx FFE Tap Weight Comparison\n",
    "\n",
    "Let's compare the Rx FFE tap weights..."
   ]
  },
  {
   "cell_type": "code",
   "execution_count": null,
   "id": "8e73b424-94ac-4ff2-b629-3bd9294fdc2a",
   "metadata": {
    "execution": {
     "iopub.status.busy": "2024-10-21T10:54:23.375973Z",
     "iopub.status.idle": "2024-10-21T10:54:23.376112Z",
     "shell.execute_reply": "2024-10-21T10:54:23.376065Z",
     "shell.execute_reply.started": "2024-10-21T10:54:23.376061Z"
    }
   },
   "outputs": [],
   "source": [
    "from matplotlib.ticker import MultipleLocator\n",
    "\n",
    "print(\"Final Rx FFE Tap Weights (solid) and pre-FFE Pulse Response (dotted):\")\n",
    "fig, axs = plt.subplots(3, 3, figsize=(12, 12))\n",
    "n = 0\n",
    "for grp in _theCOMs.keys():\n",
    "    for lbl in _theCOMs[grp].keys():\n",
    "        _com = _theCOMs[grp][lbl]\n",
    "        com  = theCOMs[grp][lbl]\n",
    "        nTaps = len(_com.rx_taps)\n",
    "        nPreTaps = 3\n",
    "        tap_ix = np.arange(nTaps) + 1\n",
    "        row, col = divmod(n, 3)\n",
    "        ax1 = axs[row][col]\n",
    "        ax2 = ax1.twinx()\n",
    "        plt.tight_layout()\n",
    "        ax1.plot(tap_ix, _com.rx_taps, label=\"PRZF\", color=\"red\")\n",
    "        ax1.plot(tap_ix,  com.rx_taps, label=\"MMSE\", color=\"blue\")\n",
    "        pr_samps = com.pr_samps\n",
    "        curs_loc = np.argmax(pr_samps)\n",
    "        pr_samps = pr_samps[curs_loc - nPreTaps: curs_loc - nPreTaps + nTaps]\n",
    "        ax2.plot(tap_ix, pr_samps * 1e3, \":\", color=\"blue\")\n",
    "        _pr_samps = _com.pr_samps\n",
    "        _curs_loc = np.argmax(_pr_samps)\n",
    "        _pr_samps = _pr_samps[_curs_loc - nPreTaps: _curs_loc - nPreTaps + nTaps]\n",
    "        ax2.plot(tap_ix, _pr_samps * 1e3, \":\", color=\"red\")\n",
    "        plt.title(f\"{grp[:12]}:{lbl[-12:]}\")\n",
    "        ax1.set_xlabel(\"Tap #\")\n",
    "        ax1.set_ylabel(\"Weight\")\n",
    "        ax2.set_ylabel(\"Pulse Response (mV)\")\n",
    "        plt.axis(xmin=1, xmax=15)\n",
    "        ax1.xaxis.set_major_locator(MultipleLocator(1))\n",
    "        ax1.grid(which='major', axis='x')\n",
    "        ax2.grid(which='major', axis='y')\n",
    "        ax1.legend()\n",
    "        n += 1\n",
    "        if n > 8:\n",
    "            break\n",
    "plt.show()\n"
   ]
  },
  {
   "cell_type": "markdown",
   "id": "810ea08c-a3e6-463c-ab7f-dc96b5ad71a5",
   "metadata": {},
   "source": [
    "## Appendix A - Old Code\n",
    "\n",
    "This appendix contains old code, preserved here for potential future use."
   ]
  },
  {
   "cell_type": "markdown",
   "id": "000f40d0-b6cf-48de-8ccd-6eded076431b",
   "metadata": {},
   "source": [
    "### ISI Investigation\n",
    "\n",
    "Let's take a look at the ISI and see why it's so high."
   ]
  },
  {
   "cell_type": "code",
   "execution_count": null,
   "id": "b71f4336-b231-44ff-923e-4c9e439734c3",
   "metadata": {
    "execution": {
     "iopub.status.busy": "2024-10-21T10:54:23.376309Z",
     "iopub.status.idle": "2024-10-21T10:54:23.376428Z",
     "shell.execute_reply": "2024-10-21T10:54:23.376362Z",
     "shell.execute_reply.started": "2024-10-21T10:54:23.376357Z"
    }
   },
   "outputs": [],
   "source": [
    "plt.figure(figsize=(12, 9))\n",
    "labeled_coms_by_group = [\n",
    "    (grp, theCOMs[grp].items())\n",
    "    for grp in theCOMs.keys()\n",
    "]\n",
    "for ix in range(12):\n",
    "    grp, coms = labeled_coms_by_group[ix % len(labeled_coms_by_group)]\n",
    "    lbl, com = choice(list(coms))\n",
    "    vic_pr = com.pulse_resps[0]\n",
    "    _t_isi = com.com_tISI\n",
    "    ui = 1 / com.fb\n",
    "    plt.subplot(3, 4, 1 + ix)\n",
    "    plt.plot(com.times * 1e9, vic_pr       * 1e3, label=f\"...{lbl[-15:]}\")\n",
    "    plt.plot(_t_isi    * 1e9, com.com_hISI * 1e3, \"x\")\n",
    "    plt.axvline(com.times[com.com_cursor_ix] * 1e9, linestyle=\":\")\n",
    "    plt.title(grp[:20])\n",
    "    if ix > 7:\n",
    "        plt.xlabel(\"Time (ns)\")\n",
    "    if ix % 4 == 0:\n",
    "        plt.ylabel(\"hISI (mV)\")\n",
    "    plt.axis(xmin = (_t_isi[0] - ui/2) * 1e9, xmax = (_t_isi[20] + ui/2) * 1e9)  # , ymin=-10, ymax=100)\n",
    "    plt.grid()\n",
    "    plt.legend()\n",
    "plt.tight_layout()\n",
    "plt.show()\n"
   ]
  },
  {
   "cell_type": "markdown",
   "id": "746963e5-726e-408c-b46b-8b7e571cc434",
   "metadata": {},
   "source": [
    "### Srn Debugging\n",
    "\n",
    "Let's follow the process by which $S_{rn}$ is calculated and see if we can find the bug."
   ]
  },
  {
   "cell_type": "code",
   "execution_count": null,
   "id": "e10d9459-d3d5-4a24-bda7-7d3e4c4dcad5",
   "metadata": {
    "execution": {
     "iopub.status.busy": "2024-10-21T10:54:23.376931Z",
     "iopub.status.idle": "2024-10-21T10:54:23.377035Z",
     "shell.execute_reply": "2024-10-21T10:54:23.376979Z",
     "shell.execute_reply.started": "2024-10-21T10:54:23.376975Z"
    }
   },
   "outputs": [],
   "source": [
    "com  = list(list(theCOMs.items())[0][1].items())[0][1]\n",
    "theNoiseCalc = com.theNoiseCalc\n",
    "assert np.array_equal(com.freqs, theNoiseCalc.f)\n",
    "assert np.array_equal(com.times, theNoiseCalc.t)\n",
    "\n",
    "f = theNoiseCalc.f\n",
    "nspui = theNoiseCalc.nspui\n",
    "t       = theNoiseCalc.t\n",
    "t_irfft = theNoiseCalc.t_irfft\n",
    "t_samp  = t[::nspui]\n",
    "t_shift       = t - t[len(t) // 2]\n",
    "t_irfft_shift = t_irfft - t_irfft[len(t_irfft) // 2]\n",
    "t_samp_shift  = t_samp - t_samp[len(t_samp) // 2]\n",
    "f_samp = np.linspace(0, 0.5 / t_samp[1], len(t_samp) // 2 + 1)\n",
    "\n",
    "rslt  = theNoiseCalc.eta0 * 1e-9 * abs(theNoiseCalc.Hr * theNoiseCalc.Hctf) ** 2\n",
    "rslt1 = irfft(rslt) * f[-1]             # When combined w/ the implicit 1/N of `irfft()`, yields: * df.\n",
    "rslt2 = theNoiseCalc.from_irfft(rslt1)  # Interpolates to `t` and subsamples at fBaud.\n",
    "rslt4 = abs(rfft(rslt2)) * t_samp[1] * 2\n",
    "\n",
    "print(f\"sum(rslt * df): {sum(rslt) * f[1]: .2e}; sum(rslt1): {sum(rslt1): .2e}; sum(rslt2): {sum(rslt2): .2e}; sum(rslt4 * dfsamp): {sum(rslt4) * f_samp[1]: .2e}\")\n",
    "\n",
    "plt.figure(figsize=(12, 4))\n",
    "\n",
    "plot_f = f / 1e9\n",
    "plt.subplot(121)\n",
    "plt.plot(plot_f,       dBm_Hz(rslt),  label=\"$\\_S_{rn}(f)$\")\n",
    "plt.plot(f_samp / 1e9, dBm_Hz(rslt4), label=\"$\\_S_{rn}(\\Theta)$\")\n",
    "plt.plot(f_samp / 1e9, dBm_Hz(theNoiseCalc.Srn), label=\"$S_{rn}(\\Theta)$\")\n",
    "plt.title(\"Power Spectral Densities (dBm/Hz)\")\n",
    "plt.xlabel(\"Frequency (GHz)\")\n",
    "plt.grid()\n",
    "plt.legend()\n",
    "\n",
    "plt.subplot(122)\n",
    "plt.plot(t_irfft_shift * 1e12, fftshift(np.sqrt(abs(rslt1))) * 1e3, label=\"$\\_R(t)$\")\n",
    "plt.plot(t_samp_shift[:len(rslt2)]  * 1e12, fftshift(np.sqrt(abs(rslt2))) * 1e3, label=\"$\\_R_n$\")\n",
    "plt.title(\"Autocorrelation Vectors (mV)\")\n",
    "plt.xlabel(\"Time (ps)\")\n",
    "plt.axis(xmin=-100, xmax=100)\n",
    "plt.grid()\n",
    "plt.legend()\n",
    "\n",
    "plt.show()\n"
   ]
  },
  {
   "cell_type": "markdown",
   "id": "f88a74b2-8351-479f-b3f5-47153781b38a",
   "metadata": {},
   "source": [
    "The _Power Spectral Densities_ look exactly as expected, to wit:\n",
    "\n",
    "- the sampled and actual values agree at d.c., and\n",
    "- the sampled plot displays the aliasing we expect.\n",
    "\n",
    "We fixed this bug, by:\n",
    "\n",
    "- `fftshift()`ing the time domain waveforms before interpolation and/or sub-sampling, to avoid losing any non-causal behavior, which tends to appear at the end of a IFFT() output vector.\n"
   ]
  },
  {
   "cell_type": "markdown",
   "id": "b6cbbe27-7fc8-41e5-9f3f-daed2686197b",
   "metadata": {},
   "source": [
    "### Stn Debugging\n",
    "\n",
    "The following code was used to track down a bug in the calculation of $S_{tn}$."
   ]
  },
  {
   "cell_type": "code",
   "execution_count": null,
   "id": "907067e3-f561-4a63-b8cf-275d807336ad",
   "metadata": {
    "execution": {
     "iopub.status.busy": "2024-10-21T10:54:23.377344Z",
     "iopub.status.idle": "2024-10-21T10:54:23.377433Z",
     "shell.execute_reply": "2024-10-21T10:54:23.377384Z",
     "shell.execute_reply.started": "2024-10-21T10:54:23.377380Z"
    }
   },
   "outputs": [],
   "source": [
    "plt.figure(figsize=(12, 6))\n",
    "n = 1\n",
    "for grp in theCOMs.keys():\n",
    "    for lbl in theCOMs[grp].keys():\n",
    "        if n in [1, 2]:\n",
    "            print(f\"{n}: {grp}:{lbl}\")\n",
    "            com  = theCOMs[grp][lbl]\n",
    "            theNoiseCalc = com.theNoiseCalc\n",
    "            Tb = theNoiseCalc.Tb\n",
    "            nspui = theNoiseCalc.nspui\n",
    "            t = theNoiseCalc.t\n",
    "            f = theNoiseCalc.f\n",
    "            tf = theNoiseCalc.t_irfft\n",
    "            ts = t[::nspui]\n",
    "            Ht   = theNoiseCalc.Ht\n",
    "            H21  = theNoiseCalc.H21\n",
    "            Hr   = theNoiseCalc.Hr\n",
    "            Hctf = theNoiseCalc.Hctf\n",
    "            Htn  = Ht * H21 * Hr * Hctf\n",
    "            Hsinc = np.sinc(f * theNoiseCalc.Tb)\n",
    "            htn = irfft(Hsinc * Htn) * 2  # * f[-1] - Don't need `* df` when converting a transfer function to a pulse response.\n",
    "            htn_samp = theNoiseCalc.from_irfft(htn)\n",
    "            # Stn = 10**(-theNoiseCalc.snr_tx / 10) * abs(rfft(htn_samp) * Tb)**2 * Tb\n",
    "            Stn = 10**(-theNoiseCalc.snr_tx / 10) * abs(rfft(htn_samp))**2 * Tb\n",
    "            fnorm = np.linspace(0, 0.5, len(Stn))\n",
    "            plt.subplot(231)\n",
    "            plt.semilogx(theNoiseCalc.f / 1e9, mag_dB(Ht),   label=f\"Ht_{n}\")            \n",
    "            plt.subplot(232)\n",
    "            plt.semilogx(theNoiseCalc.f / 1e9, mag_dB(H21),  label=f\"H21_{n}\")            \n",
    "            plt.subplot(233)\n",
    "            plt.semilogx(theNoiseCalc.f / 1e9, mag_dB(Hr),   label=f\"Hr_{n}\")            \n",
    "            plt.semilogx(theNoiseCalc.f / 1e9, mag_dB(Hctf), label=f\"Hctf_{n}\")            \n",
    "            plt.subplot(234)\n",
    "            plt.semilogx(theNoiseCalc.f / 1e9, mag_dB(Htn),   label=f\"Htn_{n}\")            \n",
    "            plt.semilogx(theNoiseCalc.f / 1e9, mag_dB(Hsinc), label=f\"Hsinc_{n}\")            \n",
    "            plt.subplot(235)\n",
    "            plt.plot((tf - tf[len(tf) // 2]) * 1e9, fftshift(htn)      * 1e3, label=f\"$htn(t)$_{n}\")            \n",
    "            plt.plot((ts[:len(htn_samp)] - ts[len(ts) // 2]) * 1e9, fftshift(htn_samp) * 1e3, \"x\", label=f\"$htn(\\Theta)$_{n}\")            \n",
    "            plt.subplot(236)\n",
    "            plt.plot(fnorm, dBm_Hz(Stn), label=f\"Stn_{n}\")            \n",
    "        n += 1\n",
    "\n",
    "for n in range(4):\n",
    "    plt.subplot(231 + n)\n",
    "    plt.tight_layout()\n",
    "    plt.title(\"Transfer Functions (dB)\")\n",
    "    plt.xlabel(\"Frequency (GHz)\")\n",
    "    plt.grid()\n",
    "    plt.legend()\n",
    "\n",
    "plt.subplot(235)\n",
    "plt.tight_layout()\n",
    "plt.title(\"Pulse Response (mV)\")\n",
    "plt.xlabel(\"Time (ns)\")\n",
    "plt.axis(xmin=0.8, xmax=1.3)\n",
    "plt.grid()\n",
    "plt.legend()\n",
    "\n",
    "plt.subplot(236)\n",
    "plt.tight_layout()\n",
    "plt.title(\"Power Spectral Density (dBm/Hz)\")\n",
    "plt.xlabel(\"Frequency (fBaud.)\")\n",
    "plt.grid()\n",
    "plt.legend()\n",
    "\n",
    "plt.show()\n"
   ]
  },
  {
   "cell_type": "code",
   "execution_count": null,
   "id": "cc940f2c-313b-43a4-8574-d104166ec333",
   "metadata": {},
   "outputs": [],
   "source": []
  }
 ],
 "metadata": {
  "kernelspec": {
   "display_name": "Python 3 (ipykernel)",
   "language": "python",
   "name": "python3"
  },
  "language_info": {
   "codemirror_mode": {
    "name": "ipython",
    "version": 3
   },
   "file_extension": ".py",
   "mimetype": "text/x-python",
   "name": "python",
   "nbconvert_exporter": "python",
   "pygments_lexer": "ipython3",
   "version": "3.13.0"
  }
 },
 "nbformat": 4,
 "nbformat_minor": 5
}
