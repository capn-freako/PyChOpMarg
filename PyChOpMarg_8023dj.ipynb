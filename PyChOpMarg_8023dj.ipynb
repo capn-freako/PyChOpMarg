{
 "cells": [
  {
   "cell_type": "markdown",
   "id": "4296fe0b-8b35-4dcd-bace-54a3bb9eaeca",
   "metadata": {},
   "source": [
    "# _PyChOpMarg_ for IEEE 802.3dj\n",
    "\n",
    "Original author: David Banas <capn.freako@gmail.com>  \n",
    "Original date:   August 17, 2024\n",
    "\n",
    "Copyright &copy; 2024 David Banas; all rights reserved World wide."
   ]
  },
  {
   "cell_type": "markdown",
   "id": "c4ad37e6-16ad-4e4e-b2b3-81b2210d1118",
   "metadata": {},
   "source": [
    "## Introduction\n",
    "\n",
    "This [Jupyter](https://jupyter.org) notebook is intended to help debug recent additions made to the [_PyChOpMarg_](https://pychopmarg.readthedocs.io/en/latest/index.html) Python package in support of the coming IEEE 802.3dj Ethernet standard for 100 GBaud. signalling (200 Gbps using PAM-4).  \n",
    "I run it from my `pychopmarg` Python virtual environment, into which I've installed:\n",
    "\n",
    "- `jupyter`\n",
    "- `PyChOpMarg`\n",
    "- `matplotlib`\n",
    "- `xlrd`\n",
    "\n",
    "This new addition to the 802.3 standard introduces some significant changes to the way equalization optimization is performed for COM analysis.\n",
    "And I am trying to bring the _PyChOpMarg_ package up-to-date with those changes.\n",
    "I look at the results of applying COM to certain example channels pertinent to the work of the IEEE 802.3dj task force."
   ]
  },
  {
   "cell_type": "markdown",
   "id": "d3feda0b-be49-48a3-aa26-ccbd6733a8b4",
   "metadata": {},
   "source": [
    "## Imports & Utilities\n",
    "\n",
    "Here, we import everything we need and define some useful utilities.\n"
   ]
  },
  {
   "cell_type": "code",
   "execution_count": 1,
   "id": "cfba0026-350f-47c4-94e2-9b0d297d0302",
   "metadata": {
    "execution": {
     "iopub.execute_input": "2024-12-11T08:55:26.073657Z",
     "iopub.status.busy": "2024-12-11T08:55:26.072724Z",
     "iopub.status.idle": "2024-12-11T08:55:29.392941Z",
     "shell.execute_reply": "2024-12-11T08:55:29.391865Z",
     "shell.execute_reply.started": "2024-12-11T08:55:26.073621Z"
    }
   },
   "outputs": [],
   "source": [
    "%matplotlib inline\n",
    "# The following seem to cause flaky behavior of this notebook when they're enabled.\n",
    "# %load_ext autoreload\n",
    "# %autoreload 2\n",
    "\n",
    "import cProfile\n",
    "import pickle\n",
    "import re\n",
    "# import time\n",
    "\n",
    "import numpy    as np\n",
    "import skrf     as rf\n",
    "\n",
    "from enum               import Enum\n",
    "from matplotlib         import pyplot as plt\n",
    "from matplotlib.ticker  import MultipleLocator\n",
    "from numpy.fft          import fftshift, irfft, rfft\n",
    "from pathlib            import Path\n",
    "from random             import choice, sample\n",
    "from time               import time\n",
    "from typing             import Any, Callable, Dict, TypeAlias\n",
    "\n",
    "from pychopmarg.com         import COM, OptMode\n",
    "from pychopmarg.common      import *\n",
    "from pychopmarg.config.ieee_8023dj import IEEE_8023dj\n",
    "from pychopmarg.config.template import COMParams\n",
    "from pychopmarg.optimize    import NormMode\n",
    "from pychopmarg.utility     import calc_Hffe, from_irfft\n",
    "\n",
    "ChnlGrpName: TypeAlias = str  # channel group name\n",
    "ChnlSetName: TypeAlias = str  # channel set name (the stem of the thru channel s4p file name)\n",
    "ChnlTypName: TypeAlias = str  # channel type name (\"thru\", \"next\", or \"fext\")\n",
    "ChnlSetComp: TypeAlias = rf.Network | list[rf.Network]   # i.e. - a thru channel, or a list of NEXT/FEXT channels\n",
    "ChnlSet:     TypeAlias = dict[ChnlTypName, ChnlSetComp]\n",
    "\n",
    "\n",
    "def fwhm(pr: Rvec) -> float:\n",
    "    \"\"\"\n",
    "    Measure the full width at half maximum of the given pulse response.\n",
    "    \n",
    "    Args:\n",
    "        pr: Pulse response to measure.\n",
    "        \n",
    "    Returns:\n",
    "        fwhm: Full width at half max of largest peak in given signal.\n",
    "\n",
    "    Notes:\n",
    "        1. Used to characterize the _bandwidth_ of a given channel.\n",
    "    \"\"\"\n",
    "    pk_loc = np.where(pr == max(pr))[0][0]\n",
    "    half_max = 0.5 * pr[pk_loc]\n",
    "    left_hm = pk_loc\n",
    "    while left_hm > 0 and pr[left_hm] > half_max:\n",
    "        left_hm -= 1\n",
    "    right_hm = pk_loc\n",
    "    while right_hm < (len(pr) - 1) and pr[right_hm] > half_max:\n",
    "        right_hm += 1\n",
    "    return right_hm - left_hm\n",
    "\n",
    "\n",
    "def reflectivity(pr: Rvec) -> float:\n",
    "    \"\"\"\n",
    "    Measure the _reflectivity_ of a channel with the given pulse response.\n",
    "    \n",
    "    Args:\n",
    "        pr: Pulse response of channel.\n",
    "        \n",
    "    Returns:\n",
    "        ref: Reflectivity of channel.\n",
    "\n",
    "    Notes:\n",
    "        1. Use sum of: delta-x weighted by power at delta-x.\n",
    "    \"\"\"\n",
    "    pk_loc = np.where(pr == max(pr))[0][0]\n",
    "    return sum([dn * y**2 for dn, y in enumerate(pr[pk_loc:])])\n",
    "    \n",
    "\n",
    "def get_channel_sets(path: Path) -> dict[ChnlGrpName, list[ChnlSet]]:\n",
    "    \"\"\"\n",
    "    Return all available groups of channel sets in the given path.\n",
    "\n",
    "    Args:\n",
    "        path: The folder in which to begin searching.\n",
    "            (Assumed to contain some number of sub-directories,\n",
    "            in which the actual channel sets are contained.)\n",
    "\n",
    "    Returns:\n",
    "        Dictionary of channel groups, each containing a list of channel sets.\n",
    "\n",
    "    Notes:\n",
    "        1. A \"channel set\" is a dictionary containing a thru channel and some number\n",
    "            of NEXT and FEXT aggressors.\n",
    "    \"\"\"\n",
    "    \n",
    "    chnl_groups = list(filter(lambda p: p.is_dir(), path.iterdir()))\n",
    "    chnl_groups.sort()\n",
    "    channels = {}\n",
    "    for chnl_grp in chnl_groups:\n",
    "        channels[chnl_grp.name] = []\n",
    "        thru_chnls = list(chnl_grp.glob(\"*[tT][hH][rR][uU]*.[sS]4[pP]\"))  # No global option for case insensitive glob().\n",
    "        thru_chnls.sort()\n",
    "        for thru_chnl in thru_chnls:\n",
    "            nexts = list(chnl_grp.glob(re.sub(\"thru\", \"[nN][eE][xX][tT][0-9]\", thru_chnl.name, flags=re.IGNORECASE)))\n",
    "            nexts.sort()\n",
    "            fexts = list(chnl_grp.glob(re.sub(\"thru\", \"[fF][eE][xX][tT][0-9]\", thru_chnl.name, flags=re.IGNORECASE)))\n",
    "            fexts.sort()\n",
    "            channels[chnl_grp.name].append({  # Here we're constructing a \"channel set\" dictionary.\n",
    "                \"THRU\": [thru_chnl],\n",
    "                \"NEXT\": nexts,\n",
    "                \"FEXT\": fexts\n",
    "            })\n",
    "    return channels\n",
    "\n",
    "\n",
    "def run_com(\n",
    "    chnl_sets: list[tuple[ChnlGrpName, list[ChnlSet]]],\n",
    "    com_params: COMParams,\n",
    "    opt_mode: OptMode = OptMode.MMSE,\n",
    "    norm_mode: NormMode = NormMode.P8023dj,\n",
    "    unit_amp: bool = True,\n",
    "    dbg_dict: Dict[str, Any] = None\n",
    ") -> dict[ChnlGrpName, dict[ChnlSetName, COM]]:\n",
    "    \"\"\"\n",
    "    Run COM on a list of grouped channel sets.\n",
    "\n",
    "    Args:\n",
    "        chnl_sets: List of pairs, each consisting of:\n",
    "            - ch_grp_name: The group name for this list of channel sets.\n",
    "            - ch_sets: List of channel sets to run.\n",
    "        params: The COM configuration parameters to use.\n",
    "\n",
    "    Keyword Args:\n",
    "        opt_mode: The optimization mode desired.\n",
    "            Default: OptMode.MMSE\n",
    "        norm_mode: The normalization mode desired for Rx FFE tap weights.\n",
    "            Default: NormMode.P8023dj\n",
    "        dbg_dict: Optional dictionary into which debugging values may be stashed,\n",
    "            for later analysis.\n",
    "            Default: None\n",
    "    \n",
    "    Returns:\n",
    "        2D dictionary indexed by channel group name, then by channel set name, containing the completed COM objects.\n",
    "    \"\"\"\n",
    "\n",
    "    theCOMs = {}\n",
    "    for grp, ch_set in chnl_sets:\n",
    "        lbl = ch_set['THRU'][0].stem\n",
    "        theCOM = COM(com_params, ch_set)\n",
    "        \n",
    "        # Calling the object calculates the COM value, as well as many other intermediate results.\n",
    "        com = theCOM(opt_mode=opt_mode, norm_mode=norm_mode, unit_amp=unit_amp, dbg_dict=dbg_dict)\n",
    "    \n",
    "        if grp in theCOMs:\n",
    "            theCOMs[grp].update({ch_set['THRU'][0].stem: theCOM})\n",
    "        else:\n",
    "            theCOMs.update({grp: {ch_set['THRU'][0].stem: theCOM}})\n",
    "\n",
    "    return theCOMs\n",
    "\n",
    "\n",
    "def dBm_Hz(x: Rvec) -> Rvec:\n",
    "    \"Convert (V^2/Hz) to (dBm/Hz), assuming 100 Ohm system impedance.\"\n",
    "    return 10 * np.log10(1e3 * x / 100)\n",
    "\n",
    "\n",
    "def mag_dB(x: Cvec) -> Rvec:\n",
    "    \"Return the magnitude in dB of a complex amplitude vector.\"\n",
    "    return 20 * np.log10(np.abs(x))\n",
    "\n",
    "\n",
    "def plot_group_samps(\n",
    "    plot_func: Callable[[COM, str, str, str, dict[str, str], Any, Any], None],\n",
    "    x_lbl: str, y_lbls: tuple[str, str],\n",
    "    coms: list[tuple[str, dict[str, str], dict[str, dict[str, COM]]]],\n",
    "    maxRows: int = 3,\n",
    "    dx=4, dy=3\n",
    ") -> None:\n",
    "    \"\"\"\n",
    "    Call the given plotting function for several randomly chosen channel sets from each available group.\n",
    "\n",
    "    Args:\n",
    "        plot_func: The plotting function to use. Should take the following arguments:\n",
    "            com: The COM object to use for plotting.\n",
    "            grp: Channel set group name\n",
    "            lbl: Channel set name\n",
    "            name: COM set name\n",
    "            opts: Plotting options to use\n",
    "            ax1: First y-axis\n",
    "            ax2: Second y-axis\n",
    "        x_lbl: Label for x-axis\n",
    "        y_lbls: Pair of labels, one for each y-axis\n",
    "        coms: List of tuples, each containing:\n",
    "            - name: Identifying name,\n",
    "            - opts: Plotting options to use,\n",
    "            - coms: dictionary of COM objects to select from.\n",
    "                Should be indexed first by group name then by channel set name.\n",
    "\n",
    "    Keyword Args:\n",
    "        maxRows: Maximum number of rows desired in resultant plot matrix.\n",
    "            (Number of columns is equal to number of groups.)\n",
    "            Default: 3\n",
    "        dx: Width of individual plots (in.)\n",
    "            Default: 3\n",
    "        dy: Height of individual plots (in.)\n",
    "            Default: 2\n",
    "\n",
    "    Returns:\n",
    "        Nothing\n",
    "    \"\"\"\n",
    "    group_names = list(coms[0][2].keys())\n",
    "    nCols = len(group_names)\n",
    "    nRows = min(maxRows, min(list(map(lambda grp: len(list(coms[0][2][grp].keys())),\n",
    "                                      group_names))))\n",
    "    fig, axs = plt.subplots(nRows, nCols, figsize=(dx * nCols, dy * nRows))\n",
    "    try:\n",
    "        _dummy = axs[0][0]\n",
    "    except:\n",
    "        axs = [[axs,],]\n",
    "    n = 0\n",
    "    print(\"     \", end=\"\")\n",
    "    for grp in group_names:\n",
    "        print(f\"{grp : ^50s}\", end=\"\")\n",
    "        for lbl in sample(sorted(coms[0][2][grp].keys()), nRows):\n",
    "            col, row = divmod(n, nRows)\n",
    "            try:\n",
    "                ax1 = axs[row][col]\n",
    "            except:\n",
    "                print(f\"axs: {axs}, row: {row}, col: {col}, nRows: {nRows}, nCols: {nCols}\")\n",
    "                raise\n",
    "            ax2 = ax1.twinx()\n",
    "            plt.tight_layout()\n",
    "            for nm, opts, d in coms:\n",
    "                com  = d[grp][lbl]\n",
    "                plot_func(com, grp, lbl, nm, opts, ax1, ax2)\n",
    "            if row == nRows - 1:\n",
    "                ax1.set_xlabel(x_lbl)\n",
    "            if col == 0:\n",
    "                ax1.set_ylabel(y_lbls[0])\n",
    "            if col == nCols - 1:\n",
    "                ax2.set_ylabel(y_lbls[1])\n",
    "            n += 1\n",
    "    plt.show()\n",
    "\n",
    "\n",
    "# Global initialization\n",
    "np.set_printoptions(precision=2, linewidth=200)\n"
   ]
  },
  {
   "cell_type": "markdown",
   "id": "9ae512d9-35c7-47a9-81c2-e8da632deffb",
   "metadata": {},
   "source": [
    "### Excel Configuration File Reader\n",
    "\n",
    "The MATLAB COM code is driven from a MS Excel spreadsheet containing certain recognized variable names.\n",
    "So, if we want to run \"apples-to-apples\" comparisons then we'll need to write a reader that can convert an Excel configuration file into an instance of our own ``COMParams`` data type."
   ]
  },
  {
   "cell_type": "code",
   "execution_count": 22,
   "id": "c2aae122-6ab5-48ef-9284-7c1145c52018",
   "metadata": {
    "execution": {
     "iopub.execute_input": "2024-12-11T09:23:19.062691Z",
     "iopub.status.busy": "2024-12-11T09:23:19.062464Z",
     "iopub.status.idle": "2024-12-11T09:23:19.087138Z",
     "shell.execute_reply": "2024-12-11T09:23:19.085670Z",
     "shell.execute_reply.started": "2024-12-11T09:23:19.062676Z"
    }
   },
   "outputs": [],
   "source": [
    "from dataclasses import make_dataclass\n",
    "from functools import reduce\n",
    "from itertools import repeat\n",
    "from pathlib import Path\n",
    "import re\n",
    "from typing import Any, Callable, TypeVar\n",
    "from numpy import arange, array, concatenate\n",
    "from numpy.typing import NDArray\n",
    "import pandas as pd\n",
    "from pychopmarg.config.ieee_8023by import IEEE_8023by\n",
    "from pychopmarg.config.template import COMParams\n",
    "\n",
    "T1 = TypeVar(\"T1\")\n",
    "T2 = TypeVar(\"T2\")\n",
    "T3 = TypeVar(\"T3\")\n",
    "T4 = TypeVar(\"T4\")\n",
    "\n",
    "# Field name translation table (XLS => ``COMParams``)\n",
    "com_fields: dict[str, str] = {\n",
    "    \"z_p select\": \"zp_sel\",\n",
    "    \"z_p (TX)\": \"zp_tx\",\n",
    "    \"z_p (NEXT)\": \"zp_next\",\n",
    "    \"z_p (FEXT)\": \"zp_fext\",\n",
    "    \"z_p (RX)\": \"zp_rx\",\n",
    "    \"z_bp (TX)\": \"zbp_tx\",\n",
    "    \"z_bp (NEXT)\": \"zbp_next\",\n",
    "    \"z_bp (FEXT)\": \"zbp_fext\",\n",
    "    \"z_bp (RX)\": \"zbp_rx\",\n",
    "    \"c(0)\": \"c0_min\",\n",
    "    \"b_max(1)\": \"b_max1\",\n",
    "    \"b_max(2..N_b)\": \"b_maxN\",\n",
    "    \"ffe_pre_tap_len\": \"dw\",\n",
    "    \"f_b\": \"fb\",\n",
    "    \"Delta_f\": \"fstep\",\n",
    "}\n",
    "ignored_fields = [\n",
    "    \"Operational control\",\n",
    "    \"COM Pass threshold\",\n",
    "    \"Include PCB\",\n",
    "    \"Table 92–12 parameters\",\n",
    "    \"Parameter\",\n",
    "    \"PMD_type\",\n",
    "    \"Histogram_Window_Weight\",\n",
    "]\n",
    "\n",
    "def lazy_repeat(value):\n",
    "    def _repeat():\n",
    "        while True:\n",
    "            yield value\n",
    "    return _repeat\n",
    "\n",
    "def first(f: Callable[T1, T2]) -> Callable[tuple[T1, T3], tuple[T2, T3]]:\n",
    "    \"Translation of Haskell ``first`` function.\"\n",
    "    return lambda pr: (f(pr[0]), pr[1])\n",
    "\n",
    "def second(f: Callable[T1, T2]) -> Callable[tuple[T3, T1], tuple[T3, T2]]:\n",
    "    \"Translation of Haskell ``second`` function.\"\n",
    "    return lambda pr: (pr[0], f(pr[1]))\n",
    "\n",
    "def compose(*functions):\n",
    "    \"Function composition w/ NO TYPE CHECKING!\"\n",
    "    return reduce(lambda f, g: lambda x: f(g(x)), functions)\n",
    "\n",
    "def apply2(\n",
    "    f: Callable[T1, T2],\n",
    "    g: Callable[T3, T4]\n",
    ") -> Callable[tuple[T1, T3], tuple[T2, T4]]:\n",
    "    \"Translation of Haskell ``***`` operator.\"\n",
    "    return compose(first(f), second(g))\n",
    "\n",
    "def alternative(\n",
    "    f: Callable[T1, T2],\n",
    "    g: Callable[T1, T2],\n",
    "    x: T1\n",
    ") -> T2:\n",
    "    \"\"\"\n",
    "    Try ``f`` and if it fails apply ``g``.\n",
    "\n",
    "    Args:\n",
    "        f: First function to try.\n",
    "        g: Second function to try.\n",
    "        x: Function argument.\n",
    "\n",
    "    Notes:\n",
    "        1. It would be preferable to omit ``x`` from the argument list\n",
    "        and return a function, instead of a value, but we can't do that,\n",
    "        because Python doesn't allow a try/except block inside a lambda.\n",
    "    \"\"\"\n",
    "    try:\n",
    "        rslt = f(x)\n",
    "    except:\n",
    "        rslt = g(x)\n",
    "    return rslt\n",
    "\n",
    "def parse_Mrange(mStr: str) -> NDArray:\n",
    "    \"Parse a string containing an M-code range.\"\n",
    "    start, step, stop = list(map(float, mStr.strip(\"[] \").split(\":\")))\n",
    "    if start == stop == 0:\n",
    "        return array([0.0])\n",
    "    return arange(start, stop + step / 2, step)\n",
    "\n",
    "def parse_Mfloat(mStr: str) -> NDArray:\n",
    "    \"Parse a string containing a single M-code number.\"\n",
    "    return array([float(mStr)])\n",
    "\n",
    "def parse_Mfloats(mStr: str) -> NDArray:\n",
    "    \"Parse a string containing a repeated M-code number.\"\n",
    "    pattern = r\"([-]?[0-9.]+)\\*ones\\(1,\\s*([0-9]+)\\)\"\n",
    "    # match = re.search(pattern, mStr, re.DEBUG)  # Leave as example.\n",
    "    match = re.search(pattern, mStr)\n",
    "    if match:\n",
    "        return array([float(match.group(1))] * int(match.group(2)))\n",
    "    else:\n",
    "        raise RuntimeError(f\"Couldn't parse: '{mStr}'.\")\n",
    "\n",
    "def parse_Mlist(mStr: str) -> NDArray:\n",
    "    \"Parse a string containing an M-code list of numbers.\"\n",
    "    tokens = list(map(lambda s: s.strip(\",\"),\n",
    "                      mStr.strip(\"[] \").split()))\n",
    "    try:\n",
    "        rslt = concatenate(list(map(lambda s: alternative(parse_Mfloat, parse_Mfloats, s),\n",
    "                                    tokens)))\n",
    "    except:\n",
    "        print(f\"mStr: {mStr}\")\n",
    "        print(f\"tokens: {tokens}\")\n",
    "        # print(f\"rslt: {rslt}\")\n",
    "        raise\n",
    "        \n",
    "    return rslt\n",
    "    \n",
    "def parse_Marray(mStr: str) -> NDArray:\n",
    "    \"Parse a string containing either an M-code range or list of numbers.\"\n",
    "    return array(list(filter(lambda x: x is not None,\n",
    "                             alternative(parse_Mrange, parse_Mlist, mStr))))\n",
    "    \n",
    "def parse_Mmatrix(mStr: str) -> NDArray:\n",
    "    \"Parse a string containing an M-code matrix of numbers.\"\n",
    "    rslt = array(list(map(parse_Marray, mStr.strip(\"[]\").split(\";\"))))\n",
    "    if rslt.shape[0] == 1:\n",
    "        return rslt.flatten()\n",
    "    else:\n",
    "        return rslt\n",
    "\n",
    "def match_ignored_field_name_prefix(mName: str) -> bool:\n",
    "    \"Match MATLAB field name prefix to any ignored field name.\"\n",
    "    for nm in ignored_fields:\n",
    "        if mName.startswith(nm):\n",
    "            return True\n",
    "    return False\n",
    "    \n",
    "def cfg_trans(com_cfg: NDArray) -> dict[str, Any]:\n",
    "    \"Translate/filter the names/values of the given 2D NumPy array.\"\n",
    "    return dict(map(apply2(lambda s: com_fields[s] if s in com_fields else s,\n",
    "                           lambda s: parse_Mmatrix(s) if isinstance(s, str) else s),\n",
    "                    filter(lambda pr: not pd.isna(pr[0]) and not match_ignored_field_name_prefix(pr[0]),\n",
    "                           com_cfg)))\n",
    "\n",
    "com_params_dict = {}  # So I can inspect it, later while debugging.\n",
    "def get_com_params(cfg_file: Path) -> COMParams:\n",
    "    \"Read a COM configuration XLS file and return an equivalent ``COMParams`` instance.\"\n",
    "\n",
    "    global com_params_dict\n",
    "    \n",
    "    if cfg_file.suffix == \"xlsx\":\n",
    "        com_cfg = pd.read_excel(cfg_file, engine_kwargs={\"read_only\": True})\n",
    "    else:\n",
    "        com_cfg = pd.read_excel(cfg_file)\n",
    "\n",
    "    _com_cfg = com_cfg.to_numpy()\n",
    "    com_cfg1 = _com_cfg[:, range(0, 2)]\n",
    "    com_cfg2 = _com_cfg[:, range(9, 11)]\n",
    "\n",
    "    com_params_dict = vars(IEEE_8023dj).copy()\n",
    "    com_params_dict.update(cfg_trans(com_cfg1))\n",
    "    com_params_dict.update(cfg_trans(com_cfg2))\n",
    "\n",
    "    # Set the Tx tap ranges/steps.\n",
    "    N_TX_TAPS = 6  # not including the cursor\n",
    "    N_TX_TAPS_2 = N_TX_TAPS // 2\n",
    "    tx_taps_min = [0] * N_TX_TAPS\n",
    "    tx_taps_max = [0] * N_TX_TAPS\n",
    "    tx_taps_step = [0] * N_TX_TAPS\n",
    "        \n",
    "    def set_tap(ix, weights):\n",
    "        print(f\"weights: {weights}\")\n",
    "        if isinstance(weights, list) or isinstance(weights, np.ndarray):\n",
    "            tx_taps_min[ix] = min(weights)\n",
    "            tx_taps_max[ix] = max(weights)\n",
    "            tx_taps_step[ix] = (tx_taps_max[ix] - tx_taps_min[ix]) / (len(weights) - 1)\n",
    "        else:  # Assume scalar.\n",
    "            tx_taps_min[ix] = weights\n",
    "            tx_taps_max[ix] = weights\n",
    "            tx_taps_step[ix] = 0\n",
    "        \n",
    "    for n in range(N_TX_TAPS_2):\n",
    "        mKey = f\"c(-{n + 1})\"\n",
    "        pKey = f\"c({n + 1})\"\n",
    "        if mKey in com_params_dict:\n",
    "            set_tap(N_TX_TAPS_2 - (n + 1), com_params_dict[mKey])\n",
    "        if pKey in com_params_dict:\n",
    "            set_tap(N_TX_TAPS_2 + n, com_params_dict[pKey])\n",
    "\n",
    "    # Set Rx FFE config.\n",
    "    if \"dw\" in com_params_dict:\n",
    "        assert \"ffe_post_tap_len\" in com_params_dict, ValueError(\n",
    "            f\"Either both or neither of: 'ffe_pre_tap_len' & 'ffe_post_tap_len' must be given in the configuration spreadsheet!\")\n",
    "        nRxPreTaps = com_params_dict[\"dw\"]\n",
    "        nRxPostTaps = com_params_dict[\"ffe_post_tap_len\"]\n",
    "        nRxTaps = nRxPreTaps + 1 + nRxPostTaps  # Includes cursor tap.\n",
    "        rx_taps_min = [-0.7] * nRxTaps\n",
    "        rx_taps_max = [0.7] * nRxTaps\n",
    "        rx_taps_min[nRxPreTaps] = rx_taps_max[nRxPreTaps] = 1.0  # Set cursor max/min to 1.0 (i.e. - no clipping, because relative).\n",
    "        if \"ffe_pre_tap1_max\" in com_params_dict:\n",
    "            rx_taps_max[nRxPreTaps - 1] = com_params_dict[\"ffe_pre_tap1_max\"]\n",
    "            rx_taps_min[nRxPreTaps - 1] = -com_params_dict[\"ffe_pre_tap1_max\"]\n",
    "        if \"ffe_post_tap1_max\" in com_params_dict:\n",
    "            rx_taps_max[nRxPreTaps + 1] = com_params_dict[\"ffe_post_tap1_max\"]\n",
    "            rx_taps_min[nRxPreTaps + 1] = -com_params_dict[\"ffe_post_tap1_max\"]\n",
    "        if \"ffe_tapn_max\" in com_params_dict:\n",
    "            try:\n",
    "                rx_taps_max[:nRxPreTaps - 1] = repeat(com_params_dict[\"ffe_tapn_max\"], nRxPreTaps - 1)\n",
    "                rx_taps_max[nRxPreTaps + 2:] = repeat(com_params_dict[\"ffe_tapn_max\"], nRxTaps - nRxPreTaps - 2)\n",
    "                rx_taps_min[:nRxPreTaps - 1] = repeat(-com_params_dict[\"ffe_tapn_max\"], nRxPreTaps - 1)\n",
    "                rx_taps_min[nRxPreTaps + 2:] = repeat(-com_params_dict[\"ffe_tapn_max\"], nRxTaps - nRxPreTaps - 2)\n",
    "            except:\n",
    "                print(f\"nRxPreTaps: {nRxPreTaps}, com_params_dict['ffe_tapn_max']: {com_params_dict['ffe_tapn_max']}\")\n",
    "                raise\n",
    "\n",
    "    rslt = COMParams(\n",
    "        com_params_dict[\"fb\"],\n",
    "        com_params_dict[\"fstep\"],\n",
    "        com_params_dict[\"fmax\"],\n",
    "        com_params_dict[\"L\"],\n",
    "        com_params_dict[\"M\"],\n",
    "        com_params_dict[\"DER_0\"],\n",
    "        com_params_dict[\"T_r\"],\n",
    "        com_params_dict[\"RLM\"],\n",
    "        com_params_dict[\"A_v\"],\n",
    "        com_params_dict[\"A_fe\"],\n",
    "        com_params_dict[\"A_ne\"],\n",
    "        com_params_dict[\"R_0\"],\n",
    "        com_params_dict[\"A_DD\"],\n",
    "        com_params_dict[\"SNR_TX\"],\n",
    "        com_params_dict[\"eta_0\"],\n",
    "        com_params_dict[\"sigma_Rj\"],\n",
    "        com_params_dict[\"f_z\"],\n",
    "        com_params_dict[\"f_p1\"],\n",
    "        com_params_dict[\"f_p2\"],\n",
    "        com_params_dict[\"f_LF\"],\n",
    "        com_params_dict[\"g_DC\"],\n",
    "        com_params_dict[\"g_DC2\"],\n",
    "        tx_taps_min,\n",
    "        tx_taps_max,\n",
    "        tx_taps_step,\n",
    "        com_params_dict[\"c0_min\"],\n",
    "        com_params_dict[\"f_r\"],\n",
    "        com_params_dict[\"dfe_min\"],\n",
    "        com_params_dict[\"dfe_max\"],\n",
    "        rx_taps_min,\n",
    "        rx_taps_max,\n",
    "        com_params_dict[\"dw\"],\n",
    "        com_params_dict[\"R_d\"],\n",
    "        com_params_dict[\"C_d\"],\n",
    "        com_params_dict[\"C_b\"],\n",
    "        com_params_dict[\"C_p\"],\n",
    "        com_params_dict[\"L_s\"],\n",
    "        com_params_dict[\"z_c\"],\n",
    "        com_params_dict[\"z_p\"],\n",
    "        com_params_dict[\"gamma0\"],\n",
    "        com_params_dict[\"a1\"],\n",
    "        com_params_dict[\"a2\"],\n",
    "        com_params_dict[\"tau\"],\n",
    "    )\n",
    "    if \"z_pB\" in com_params_dict:\n",
    "        rslt.z_pB = com_params_dict[\"z_pB\"]\n",
    "    return rslt"
   ]
  },
  {
   "cell_type": "raw",
   "id": "c4c2b825-a22c-492a-8f5f-9f5a56c59a3e",
   "metadata": {
    "execution": {
     "iopub.execute_input": "2024-12-05T16:22:18.514925Z",
     "iopub.status.busy": "2024-12-05T16:22:18.514784Z",
     "iopub.status.idle": "2024-12-05T16:22:18.558523Z",
     "shell.execute_reply": "2024-12-05T16:22:18.558226Z",
     "shell.execute_reply.started": "2024-12-05T16:22:18.514916Z"
    }
   },
   "source": [
    "com_params = []\n",
    "for fname in ['config_com_ieee8023_93a=100GBASE-KR4.xls',\n",
    "               # 'config_com_ieee8023_93a=3ck_SA _TP0V_08_17_2022.xls',  # for ridiculously large values for zeros/poles\n",
    "               'config_com_ieee8023_93a=3ck_SA_120F_C2C_08_17_2022.xls',\n",
    "               # 'config_com_ieee8023_93a=3ck_SA_120g_C2M_tp1a_08_17_2022.xls',  # for improper syntax: \"- 0.14\" (Note the space.)\n",
    "               'config_com_ieee8023_93a=3ck_SA_120G_ERL_HOST_10_26_2022.xls',\n",
    "               'config_com_ieee8023_93a=3ck_SA_120G_ERL_MODULE_10_26_2022.xls',\n",
    "               'config_com_ieee8023_93a=3ck_SA_162_ERL_HOST_10_26_2022 .xls',\n",
    "               'config_com_ieee8023_93a=3ck_SA_CR_CA_08_17_2022.xls',\n",
    "               'config_com_ieee8023_93a=3ck_SA_KR_08_17_2022.xls',\n",
    "               'config_com_ieee8023_93a=224G_PAM4_VSR_TD_TP1a_10-6-22.xls']:\n",
    "    # print(fname)\n",
    "    com_params.append((fname, get_com_params(Path(fname))))\n"
   ]
  },
  {
   "cell_type": "markdown",
   "id": "349000fa-4547-4717-9f0d-2d037f10f60a",
   "metadata": {},
   "source": [
    "## COM Parameter Values\n",
    "\n",
    "Since I'm trying to compare against the results reported in Adam Healey's January 24, 2024 presentation titled, \"Reference receiver framework for 200G/lane electrical interfaces and PHYs\", I'm starting with the default configuration for IEEE 802.3dj, but zeroing out the Tx FFE and Rx CTLE, just as Adam does.\n",
    "I'm also making some other slight changes, according to Adam's list of his configuration values used.\n",
    "\n",
    "See [Adam's presentation](https://www.ieee802.org/3/dj/public/24_01/healey_3dj_01_2401.pdf), slides 17-18.\n",
    "\n",
    "(Eventually, should be: IEEE-P802.3dj D1.n, Tables 179-15/16)\n"
   ]
  },
  {
   "cell_type": "code",
   "execution_count": 23,
   "id": "81217c78-99e7-48bb-b58b-39c3be7323a0",
   "metadata": {
    "execution": {
     "iopub.execute_input": "2024-12-11T09:23:23.046559Z",
     "iopub.status.busy": "2024-12-11T09:23:23.046278Z",
     "iopub.status.idle": "2024-12-11T09:23:23.057673Z",
     "shell.execute_reply": "2024-12-11T09:23:23.056926Z",
     "shell.execute_reply.started": "2024-12-11T09:23:23.046540Z"
    }
   },
   "outputs": [
    {
     "name": "stdout",
     "output_type": "stream",
     "text": [
      "weights: [-0.1  -0.05  0.  ]\n",
      "weights: [-0.1  -0.05  0.  ]\n",
      "weights: 0\n",
      "weights: 0\n"
     ]
    }
   ],
   "source": [
    "USE_CFG_SHEET = True\n",
    "\n",
    "if USE_CFG_SHEET:\n",
    "    # COM_CFG_SHEET = 'config_com_ieee8023_93a=100GBASE-KR4.xls'\n",
    "    COM_CFG_SHEET = 'config_com_ieee8023dj_PyChOpMarg_vs_MATLAB.xls'\n",
    "    com_params = get_com_params(Path(COM_CFG_SHEET))\n",
    "    com_params_xcel = com_params\n",
    "else:\n",
    "    com_params = IEEE_8023dj\n",
    "    com_params.f_z = 1000\n",
    "    com_params.f_p1 = 1000\n",
    "    com_params.f_p2 = 1000\n",
    "    com_params.g_DC = [0]\n",
    "    com_params.g_DC2 = [-n/2 for n in range(11)]\n",
    "    com_params.tx_taps_min = [0] * 6\n",
    "    com_params.tx_taps_max = [0] * 6\n",
    "    com_params.tx_taps_step = [0] * 6\n",
    "    com_params.c0_min = 1.0\n",
    "    com_params.dw = 5\n",
    "    com_params.SNR_TX = 33.0\n",
    "    com_params.eta_0 = 6e-9\n"
   ]
  },
  {
   "cell_type": "code",
   "execution_count": 24,
   "id": "ffd29486-a649-4a0d-9530-6b7807a0ed7a",
   "metadata": {
    "execution": {
     "iopub.execute_input": "2024-12-11T09:25:38.281944Z",
     "iopub.status.busy": "2024-12-11T09:25:38.281573Z",
     "iopub.status.idle": "2024-12-11T09:25:38.289294Z",
     "shell.execute_reply": "2024-12-11T09:25:38.288283Z",
     "shell.execute_reply.started": "2024-12-11T09:25:38.281924Z"
    }
   },
   "outputs": [
    {
     "name": "stdout",
     "output_type": "stream",
     "text": [
      "COMParams(fb=106.25, fstep=0.01, fmax=40000000000.0, L=4, M=32, DER_0=0.0002, T_r=0.004, RLM=0.95, A_v=0.413, A_fe=0.413, A_ne=0.45, R_0=50, A_DD=0.02, SNR_TX=33, eta_0=6e-09, sigma_Rj=0.01, f_z=1000, f_p1=1000, f_p2=1000, f_LF=1.328125, g_DC=array([0.]), g_DC2=array([-5. , -4.5, -4. , -3.5, -3. , -2.5, -2. , -1.5, -1. , -0.5,  0. ]), tx_taps_min=[0, 0, np.float64(-0.1), np.float64(-0.1), 0, 0], tx_taps_max=[0, 0, np.float64(0.0), np.float64(0.0), 0, 0], tx_taps_step=[0, 0, np.float64(0.05), np.float64(0.05), 0, 0], c0_min=0.8, f_r=0.58, dfe_min=[0.0], dfe_max=[0.85], rx_taps_min=[-1, -1, -1, -1, -1, 1.0, -1, -1, -1, -1, -1, -1, -1, -1, -1, -1], rx_taps_max=[1, 1, 1, 1, 1, 1.0, 1, 1, 1, 1, 1, 1, 1, 1, 1, 1], dw=5, R_d=array([50., 50.]), C_d=array([[4.0e-05, 9.0e-05, 1.1e-04],\n",
      "       [4.0e-05, 9.0e-05, 1.1e-04]]), C_b=array([3.e-05, 3.e-05]), C_p=array([4.e-05, 4.e-05]), L_s=array([[0.13, 0.15, 0.14],\n",
      "       [0.13, 0.15, 0.14]]), z_c=[87.5, 92.5], z_p=[33, 1.8], gamma0=0.0005, a1=0.00089, a2=0.0002, tau=0.006141, z_pB=1.8)\n"
     ]
    }
   ],
   "source": [
    "print(com_params)\n"
   ]
  },
  {
   "cell_type": "raw",
   "id": "e0f3423d-3983-4782-b1bd-1b8b4cc3c80e",
   "metadata": {
    "execution": {
     "iopub.execute_input": "2024-12-09T11:51:23.409022Z",
     "iopub.status.busy": "2024-12-09T11:51:23.408694Z",
     "iopub.status.idle": "2024-12-09T11:51:23.415197Z",
     "shell.execute_reply": "2024-12-09T11:51:23.414551Z",
     "shell.execute_reply.started": "2024-12-09T11:51:23.408996Z"
    }
   },
   "source": [
    "def com_param_difs(p1: COMParams, p2: COMParams) -> None:\n",
    "    \"Print the differences between two `COMParam` instances.\"\n",
    "    v1 = vars(p1)\n",
    "    v2 = vars(p2)\n",
    "    for k in v1.keys():\n",
    "        if isinstance(v1[k], np.ndarray) or isinstance(v1[k], list):\n",
    "            if not np.array_equal(v1[k], v2[k]):\n",
    "                print(f\"{k}: {v1[k]}, {v2[k]}\")\n",
    "        else:\n",
    "            if v1[k] != v2[k]:\n",
    "                print(f\"{k}: {v1[k]}, {v2[k]}\")\n",
    "\n",
    "com_param_difs(com_params, com_params_xcel)\n"
   ]
  },
  {
   "cell_type": "markdown",
   "id": "05574949-95ee-473f-b76b-52ace11d79a5",
   "metadata": {},
   "source": [
    "## Identify and Run Channel Sets\n",
    "\n",
    "Given a top-level directory, assemble the dictionary of groups of \"channel sets\" available for testing.  \n",
    "Then, select a subset of these for simulation and run them.\n",
    "\n",
    "A _group_ of channel sets is created for each subdirectory found.\n",
    "\n",
    "A _channel set_ consists of:\n",
    "\n",
    "- a thru channel,\n",
    "- some number of NEXT aggressors, and\n",
    "- some number of FEXT aggressors.\n",
    "\n",
    "NEXT/FEXT aggressors are associated with thru channels, via simple file name pattern matching, substituting \"next\"/\"fext\" in for \"thru\".\n",
    "\n",
    "**Note:** You can find the channels contributed for work on 802.3dj here:  \n",
    "[IEEE P802.3dj Tools and Channel Data Area (After 27 Jan 2024)](https://www.ieee802.org/3/dj/public/tools/index.html)\n",
    "\n",
    "**Note:** Each channels requires about 20 seconds of simulation time.\n"
   ]
  },
  {
   "cell_type": "code",
   "execution_count": 25,
   "id": "b54b3312-9c0c-46ee-ad76-14e85557fe68",
   "metadata": {
    "execution": {
     "iopub.execute_input": "2024-12-11T09:27:56.816745Z",
     "iopub.status.busy": "2024-12-11T09:27:56.816428Z",
     "iopub.status.idle": "2024-12-11T09:27:57.389156Z",
     "shell.execute_reply": "2024-12-11T09:27:57.387904Z",
     "shell.execute_reply.started": "2024-12-11T09:27:56.816727Z"
    }
   },
   "outputs": [
    {
     "name": "stdout",
     "output_type": "stream",
     "text": [
      "Channel groups found in 'chnl_data\\P8023dj\\KR':\n",
      "\tmellitz_3dj_02_elec_230504    :\t  27 channels found.\n",
      "\tmellitz_3dj_03_elec_230504    :\t  25 channels found.\n",
      "\tshanbhag_3dj_02_2305          :\t   4 channels found.\n",
      "\tweaver_3dj_02_2305            :\t  36 channels found.\n"
     ]
    }
   ],
   "source": [
    "top_dir = Path(\"chnl_data/P8023dj/KR\")\n",
    "channel_sets = get_channel_sets(top_dir)\n",
    "print(f\"Channel groups found in '{top_dir}':\")\n",
    "for grp, chnls in channel_sets.items():\n",
    "    print(f\"\\t{grp:30s}:\\t{len(chnls):4d} channels found.\")\n"
   ]
  },
  {
   "cell_type": "code",
   "execution_count": 46,
   "id": "88625058-0947-4523-be7e-39e4b54a70f7",
   "metadata": {
    "execution": {
     "iopub.execute_input": "2024-12-11T12:04:00.196267Z",
     "iopub.status.busy": "2024-12-11T12:04:00.195858Z",
     "iopub.status.idle": "2024-12-11T12:04:00.206476Z",
     "shell.execute_reply": "2024-12-11T12:04:00.205466Z",
     "shell.execute_reply.started": "2024-12-11T12:04:00.196249Z"
    }
   },
   "outputs": [
    {
     "name": "stdout",
     "output_type": "stream",
     "text": [
      "1 channel(s) selected for testing. (Approximately  0.7 minutes.)\n"
     ]
    }
   ],
   "source": [
    "class ChnlSel(Enum):\n",
    "    \"Test channel selection mode.\"\n",
    "    FULL      = 1  # Use all available test channels.\n",
    "    RANDOM    = 2  # Use `N_RAND` randomly selected channels. (See below.)\n",
    "    GROUP     = 3  # Use all channels in group: `GRP_NAME`.\n",
    "    GROUP_SUB = 4  # Use channels: `CHNL_NUMS`, from group: `GRP_NAME`.\n",
    "    CHANNELS  = 5  # Use channels: `CHNL_NAMES`, from group: `GRP_NAME`.\n",
    "    RAND_ALL  = 6  # Use `N_RAND` randomly selected channels from each available group.\n",
    "\n",
    "# Change these, to customize the run of this notebook:\n",
    "channel_selection_mode = ChnlSel(ChnlSel.CHANNELS)\n",
    "N_RAND:     int       = 1                             # Number of channels used in `RANDOM`  and `RAND_ALL` modes.\n",
    "GRP_NAME:   str       = \"mellitz_3dj_02_elec_230504\"  # Name of group used in `GROUP` and `GROUP_SUB` modes.\n",
    "CHNL_NUMS:  list[int] = range(1, 3)                   # Channel selection indices used in `GROUP_SUB` mode.\n",
    "                                                      # Channel names used in `CHANNELS` mode:\n",
    "CHNL_NAMES: list[str] = [\"KRCA_wXTALK_MX_17_PCB-50-50_mm_FO-300-300_mm_CA-500_mm_thru\"]  # ,\n",
    "                         # \"KRCA_wXTALK_MX_16_PCB-25-25_mm_FO-300-300_mm_CA-500_mm_thru\"]\n",
    "\n",
    "# DON'T CHANGE ANYTHING ELSE BELOW THIS LINE, IN THIS CELL!\n",
    "\n",
    "# The full set of available test channels:\n",
    "ch_sets = [(k, chnl_set) for k, v in channel_sets.items()\n",
    "                         for chnl_set in v]\n",
    "\n",
    "# The subset of the above that we'll use in this notebook:\n",
    "match channel_selection_mode:\n",
    "    case ChnlSel.FULL:\n",
    "        tested_ch_sets = ch_sets\n",
    "    case ChnlSel.RANDOM:\n",
    "        tested_ch_sets = sample(ch_sets, N_RAND)\n",
    "    case ChnlSel.GROUP:\n",
    "        tested_ch_sets = [(GRP_NAME, ch_set) for ch_set in channel_sets[GRP_NAME]]\n",
    "    case ChnlSel.GROUP_SUB:\n",
    "        tested_ch_sets = [(GRP_NAME, channel_sets[GRP_NAME][n]) for n in CHNL_NUMS]\n",
    "    case ChnlSel.CHANNELS:\n",
    "        tested_ch_sets = [(GRP_NAME, cset) for cset in filter(lambda cs: cs['THRU'][0].stem in CHNL_NAMES, channel_sets[GRP_NAME])]\n",
    "    case ChnlSel.RAND_ALL:\n",
    "        tested_ch_sets = [(grp, ch_set) for grp in sorted(channel_sets.keys()) for ch_set in sample(channel_sets[grp], N_RAND)]\n",
    "    case _:\n",
    "        raise ValueError(f\"Unrecognized channel selection mode: {channel_selection_mode}, requested!\")\n",
    "\n",
    "nTests = len(tested_ch_sets)\n",
    "print(f\"{nTests} channel(s) selected for testing. (Approximately {2 * nTests * 20 / 60: .1f} minutes.)\")"
   ]
  },
  {
   "cell_type": "code",
   "execution_count": 27,
   "id": "308b82b3-c837-4b9b-ae29-c3ac61ebe506",
   "metadata": {
    "execution": {
     "iopub.execute_input": "2024-12-11T09:28:22.418215Z",
     "iopub.status.busy": "2024-12-11T09:28:22.417431Z",
     "iopub.status.idle": "2024-12-11T09:32:28.468907Z",
     "shell.execute_reply": "2024-12-11T09:32:28.467914Z",
     "shell.execute_reply.started": "2024-12-11T09:28:22.418192Z"
    }
   },
   "outputs": [
    {
     "name": "stderr",
     "output_type": "stream",
     "text": [
      "C:\\Users\\davibana\\.venv\\pychopmarg-py313\\Lib\\site-packages\\skrf\\network.py:5369: UserWarning: Using a frequency subset:\n",
      "0.0-100000000000.0 Hz, 1926 pts\n",
      "  return connect(ntwkA, N, ntwkB, 0, num=N)\n"
     ]
    },
    {
     "name": "stdout",
     "output_type": "stream",
     "text": [
      "Run times:\n",
      "\tMMSE: 7.947285970052083e-09 minutes\n",
      "\tPRZF: 4.100698387622833 minutes\n"
     ]
    }
   ],
   "source": [
    "USE_OLD_DATA  = False   # Set to `False` to re-run the simulation.\n",
    "SAVE_NEW_DATA = False  # Set to `True` to save new simulation data for future use.\n",
    "\n",
    "dbg_dict = {}\n",
    "\n",
    "if USE_OLD_DATA:\n",
    "    with open(\"theCOMs_MMSE.pickle\", \"rb\") as dump_file:\n",
    "        theCOMs = pickle.load(dump_file)\n",
    "    with open(\"theCOMs_PRZF.pickle\", \"rb\") as dump_file:\n",
    "        _theCOMs = pickle.load(dump_file)\n",
    "else:\n",
    "    norm_mode = NormMode.P8023dj\n",
    "    # cProfile.run(\"theCOMs  = run_com(tested_ch_sets, com_params, norm_mode=norm_mode)\", sort=\"tottime\")\n",
    "    # cProfile.run(\"_theCOMs = run_com(tested_ch_sets, com_params, norm_mode=norm_mode, opt_mode=OptMode.PRZF)\", sort=\"tottime\")\n",
    "    start_time = time()\n",
    "    # theCOMs  = run_com(tested_ch_sets, com_params, norm_mode=norm_mode)\n",
    "    split_time = time()\n",
    "    _theCOMs = run_com(tested_ch_sets, com_params, norm_mode=norm_mode, opt_mode=OptMode.PRZF)\n",
    "    theCOMs = _theCOMs\n",
    "    stop_time = time()\n",
    "    print(\"Run times:\")\n",
    "    print(f\"\\tMMSE: {(split_time - start_time) / 60.} minutes\")\n",
    "    print(f\"\\tPRZF: {(stop_time  - split_time) / 60.} minutes\")\n",
    "if not USE_OLD_DATA and SAVE_NEW_DATA:\n",
    "    with open(\"theCOMs_MMSE.pickle\", \"wb\") as dump_file:\n",
    "        pickle.dump(theCOMs, dump_file)\n",
    "    with open(\"theCOMs_PRZF.pickle\", \"wb\") as dump_file:\n",
    "        pickle.dump(_theCOMs, dump_file)\n"
   ]
  },
  {
   "cell_type": "markdown",
   "id": "e81bc0d3-04b2-4dcd-aeb5-54ca2dd52a15",
   "metadata": {},
   "source": [
    "## MMSE vs. PRZF\n",
    "\n",
    "Let's run some comparisons between the old PRZF and new MMSE methods of Rx FFE tap weight optimization.\n"
   ]
  },
  {
   "cell_type": "markdown",
   "id": "f1720462-1da5-49b1-9f8d-eed8d36c3165",
   "metadata": {},
   "source": [
    "### COM\n",
    "\n",
    "Let's compare our \"MMSE vs. PRZF\" COM results to Adam's, checking his conclusion that MMSE is better.\n"
   ]
  },
  {
   "cell_type": "code",
   "execution_count": 28,
   "id": "02528c40-511d-4f0c-ad96-8a4c998327f7",
   "metadata": {
    "execution": {
     "iopub.execute_input": "2024-12-11T09:32:39.600581Z",
     "iopub.status.busy": "2024-12-11T09:32:39.599747Z",
     "iopub.status.idle": "2024-12-11T09:32:39.877560Z",
     "shell.execute_reply": "2024-12-11T09:32:39.875667Z",
     "shell.execute_reply.started": "2024-12-11T09:32:39.600541Z"
    }
   },
   "outputs": [
    {
     "data": {
      "image/png": "[encoded data removed]",
      "text/plain": [
       "<Figure size 640x480 with 1 Axes>"
      ]
     },
     "metadata": {},
     "output_type": "display_data"
    }
   ],
   "source": [
    "for grp in list(theCOMs.keys()):\n",
    "    for lbl in list(theCOMs[grp].keys()):\n",
    "        plt.plot(_theCOMs[grp][lbl].com_rslts[\"COM\"], theCOMs[grp][lbl].com_rslts[\"COM\"], \".b\")\n",
    "ldata = range(-1, 8)\n",
    "plt.plot(ldata, ldata, \"gray\")\n",
    "plt.title(\"COM - MMSE vs. PRZF\")\n",
    "plt.ylabel(\"COM - MMSE (dB)\")\n",
    "plt.xlabel(\"COM - PRZF (dB)\")\n",
    "plt.grid()\n",
    "plt.show()\n"
   ]
  },
  {
   "cell_type": "markdown",
   "id": "e6a58166-37ca-42aa-b97a-6af2a8da35ca",
   "metadata": {},
   "source": [
    "I suppose there's a slight preponderance of points above the line, indicating that MMSE is outperforming PRZF.  \n",
    "However, MMSE's superior performance lies in the region _above_ 3 dB.  \n",
    "Where we actually need MMSE to shine is _below_ 3 dB, hopefully turning some failing cases into passing cases.\n",
    "\n",
    "My results don't match Adam Healey's very well:\n",
    "\n",
    "![Adam Healy Jan. 2024](Adams_Comparison.png)\n"
   ]
  },
  {
   "cell_type": "markdown",
   "id": "80b470aa-b648-46a8-b1cd-13bbe2d3ff4c",
   "metadata": {},
   "source": [
    "### FOM\n",
    "\n",
    "Here, we compare the _Figure of Merrit_ (FOM) values used to select optimum tap weight values.\n",
    "\n",
    "The linear regression is also plotted, for reference."
   ]
  },
  {
   "cell_type": "code",
   "execution_count": 29,
   "id": "bef72db6-04f5-4b80-8e24-1de3c7dafeea",
   "metadata": {
    "execution": {
     "iopub.execute_input": "2024-12-11T09:32:46.837613Z",
     "iopub.status.busy": "2024-12-11T09:32:46.837240Z",
     "iopub.status.idle": "2024-12-11T09:32:47.017232Z",
     "shell.execute_reply": "2024-12-11T09:32:47.016328Z",
     "shell.execute_reply.started": "2024-12-11T09:32:46.837586Z"
    }
   },
   "outputs": [
    {
     "name": "stderr",
     "output_type": "stream",
     "text": [
      "C:\\Users\\davibana\\.venv\\pychopmarg-py313\\Lib\\site-packages\\scipy\\stats\\_stats_py.py:10919: RuntimeWarning: invalid value encountered in scalar divide\n",
      "  slope = ssxym / ssxm\n",
      "C:\\Users\\davibana\\.venv\\pychopmarg-py313\\Lib\\site-packages\\scipy\\stats\\_stats_py.py:10933: RuntimeWarning: invalid value encountered in sqrt\n",
      "  t = r * np.sqrt(df / ((1.0 - r + TINY)*(1.0 + r + TINY)))\n",
      "C:\\Users\\davibana\\.venv\\pychopmarg-py313\\Lib\\site-packages\\scipy\\stats\\_stats_py.py:10936: RuntimeWarning: invalid value encountered in scalar divide\n",
      "  slope_stderr = np.sqrt((1 - r**2) * ssym / ssxm / df)\n"
     ]
    },
    {
     "data": {
      "image/png": "[encoded data removed]",
      "text/plain": [
       "<Figure size 640x480 with 1 Axes>"
      ]
     },
     "metadata": {},
     "output_type": "display_data"
    }
   ],
   "source": [
    "from scipy.stats import linregress\n",
    "\n",
    "xs = []\n",
    "ys = []\n",
    "for grp in list(theCOMs.keys()):\n",
    "    for lbl in list(theCOMs[grp].keys()):\n",
    "        x = _theCOMs[grp][lbl].fom_rslts[\"FOM\"]\n",
    "        y = theCOMs[grp][lbl].fom_rslts[\"FOM\"]\n",
    "        plt.plot(x, y, \".b\")\n",
    "        xs.append(x)\n",
    "        ys.append(y)\n",
    "\n",
    "rslt = linregress(xs, ys)\n",
    "m = rslt.slope\n",
    "b = rslt.intercept\n",
    "stderr = rslt.intercept_stderr\n",
    "\n",
    "plt.plot(xs, list(map(lambda x: m*x + b, xs)), \"gray\")\n",
    "plt.text(np.mean(xs), np.mean(ys), f\"y = {m:4.2f} x + ({b:4.2f} +/- {stderr:4.2f})\")\n",
    "plt.title(\"FOM - MMSE vs. PRZF\")\n",
    "plt.ylabel(\"FOM - MMSE (dB)\")\n",
    "plt.xlabel(\"FOM - PRZF (dB)\")\n",
    "plt.show()\n"
   ]
  },
  {
   "cell_type": "markdown",
   "id": "b06ccdb4-56ac-420a-9a68-20259b1f01c1",
   "metadata": {},
   "source": [
    "Overall, the linear regression is pretty good.  \n",
    "However, note that the new MMSE FOM runs over 7 dB lower than the old PRZF equivalent."
   ]
  },
  {
   "cell_type": "markdown",
   "id": "1326a667-184f-446d-ab23-b1a234734af6",
   "metadata": {},
   "source": [
    "### Victim Pulse Response\n",
    "\n",
    "Let's plot the victim pulse response and compare.  \n",
    "We'll include the ISI for the MMSE case, as a visual indicator of the quality of the Rx FFE tap weight optimization process."
   ]
  },
  {
   "cell_type": "code",
   "execution_count": 30,
   "id": "fe5cf84b-ad23-49b9-9c9f-9f89dcdc8c49",
   "metadata": {
    "execution": {
     "iopub.execute_input": "2024-12-11T09:32:53.663153Z",
     "iopub.status.busy": "2024-12-11T09:32:53.662707Z",
     "iopub.status.idle": "2024-12-11T09:32:54.031841Z",
     "shell.execute_reply": "2024-12-11T09:32:54.030626Z",
     "shell.execute_reply.started": "2024-12-11T09:32:53.663128Z"
    }
   },
   "outputs": [
    {
     "name": "stdout",
     "output_type": "stream",
     "text": [
      "                     weaver_3dj_02_2305                "
     ]
    },
    {
     "data": {
      "image/png": "[encoded data removed]",
      "text/plain": [
       "<Figure size 400x300 with 2 Axes>"
      ]
     },
     "metadata": {},
     "output_type": "display_data"
    }
   ],
   "source": [
    "def plot_pulse_resps2(com: COM, grp: str, lbl: str, nm: str, opts: dict[str, str], ax1: Any, ax2: Any) -> None:\n",
    "    \"Plot the post-FFE pulse responses.\"\n",
    "    \n",
    "    ui = 1 / com.fb\n",
    "    nspui = com.nspui\n",
    "    curs_ix = com.com_rslts[\"cursor_ix\"]\n",
    "    first_ix = curs_ix - com.nRxPreTaps * nspui\n",
    "    last_ix = first_ix + com.nRxTaps * nspui\n",
    "    ix_isi = range(first_ix, last_ix, nspui)\n",
    "    clr = opts[\"color\"]\n",
    "    ax1.plot(com.times * 1e9, com.com_rslts[\"pulse_resps\"][0] * 1e3, label=nm, color=clr)\n",
    "    ax1.legend(loc=\"upper right\")\n",
    "    if nm == \"MMSE\":\n",
    "        ax1.plot(com.com_rslts[\"tISI\"] * 1e9, com.com_rslts[\"hISI\"] * 1e3, \"xk\")\n",
    "        for _n, _ix in enumerate(ix_isi):\n",
    "            _t = com.times[_ix]\n",
    "            if _n == com.nRxPreTaps:  # cursor\n",
    "                plt.axvline(_t * 1e9, color=clr, linestyle=\"-\")\n",
    "            else:\n",
    "                plt.axvline(_t * 1e9, color=clr, linestyle=\":\")\n",
    "        ax1.axis(xmin=(com.times[first_ix] - ui/2) * 1e9, xmax=(com.times[last_ix] - ui/2) * 1e9)\n",
    "    ax1.grid()\n",
    "    plt.title(f\"{lbl[-25: -5]}\")\n",
    "\n",
    "plot_group_samps(\n",
    "    plot_pulse_resps2,\n",
    "    \"Time (ns)\",\n",
    "    (\"Pulse Response (mV)\", \"(n/a)\"),\n",
    "    [(\"MMSE\", {\"color\": \"blue\"}, theCOMs),\n",
    "     (\"PRZF\", {\"color\": \"red\"}, _theCOMs),\n",
    "    ],\n",
    "    dx=4,\n",
    "    dy=3\n",
    ")\n"
   ]
  },
  {
   "cell_type": "code",
   "execution_count": 11,
   "id": "7b0e4309-d817-4e9e-a4d0-5b1ae589ab61",
   "metadata": {
    "execution": {
     "iopub.execute_input": "2024-12-09T14:31:58.087251Z",
     "iopub.status.busy": "2024-12-09T14:31:58.086884Z",
     "iopub.status.idle": "2024-12-09T14:31:58.092844Z",
     "shell.execute_reply": "2024-12-09T14:31:58.091285Z",
     "shell.execute_reply.started": "2024-12-09T14:31:58.087225Z"
    }
   },
   "outputs": [],
   "source": [
    "theCOM = list(list(_theCOMs.items())[0][1].items())[0][1]"
   ]
  },
  {
   "cell_type": "code",
   "execution_count": 12,
   "id": "14ca0267-fb1f-4fd9-ae6b-4c6e2b547a65",
   "metadata": {
    "execution": {
     "iopub.execute_input": "2024-12-09T14:31:58.096110Z",
     "iopub.status.busy": "2024-12-09T14:31:58.094445Z",
     "iopub.status.idle": "2024-12-09T14:31:59.761377Z",
     "shell.execute_reply": "2024-12-09T14:31:59.760122Z",
     "shell.execute_reply.started": "2024-12-09T14:31:58.096074Z"
    }
   },
   "outputs": [
    {
     "data": {
      "image/png": "[encoded data removed]",
      "text/plain": [
       "<Figure size 640x480 with 1 Axes>"
      ]
     },
     "metadata": {},
     "output_type": "display_data"
    }
   ],
   "source": [
    "plt.plot(theCOM.fom_rslts['vic_pulse_resp'], label=\"vic_pulse_resp\")\n",
    "for n, pr in enumerate(theCOM.fom_rslts['pulse_resps']):\n",
    "    plt.plot(pr, label=f\"pulse_resps_preFFE[{n}]\")\n",
    "plt.title(\"PRZF Results\")\n",
    "plt.legend()\n",
    "plt.show()"
   ]
  },
  {
   "cell_type": "code",
   "execution_count": 13,
   "id": "c1f86010-8112-40cf-940d-3decc6fdf5ab",
   "metadata": {
    "execution": {
     "iopub.execute_input": "2024-12-09T14:31:59.763094Z",
     "iopub.status.busy": "2024-12-09T14:31:59.762473Z",
     "iopub.status.idle": "2024-12-09T14:32:00.319607Z",
     "shell.execute_reply": "2024-12-09T14:32:00.318720Z",
     "shell.execute_reply.started": "2024-12-09T14:31:59.763072Z"
    }
   },
   "outputs": [
    {
     "data": {
      "image/png": "[encoded data removed]",
      "text/plain": [
       "<Figure size 640x480 with 1 Axes>"
      ]
     },
     "metadata": {},
     "output_type": "display_data"
    }
   ],
   "source": [
    "Hctf = theCOM.calc_Hctf(0, 0)\n",
    "plt.semilogx(theCOM.freqs / 1e9, 20 * np.log10(np.abs(Hctf)))\n",
    "plt.title(\"|Hctf| vs. f\")\n",
    "plt.xlabel(\"Frequency (GHz)\")\n",
    "plt.ylabel(\"|Hctf| (dB)\")\n",
    "plt.grid()\n",
    "plt.show()\n"
   ]
  },
  {
   "cell_type": "code",
   "execution_count": 14,
   "id": "412c04c4-8910-498f-8dd0-7fe080f9dde0",
   "metadata": {
    "execution": {
     "iopub.execute_input": "2024-12-09T14:32:00.320189Z",
     "iopub.status.busy": "2024-12-09T14:32:00.320016Z",
     "iopub.status.idle": "2024-12-09T14:32:00.326738Z",
     "shell.execute_reply": "2024-12-09T14:32:00.325632Z",
     "shell.execute_reply.started": "2024-12-09T14:32:00.320177Z"
    }
   },
   "outputs": [
    {
     "data": {
      "text/plain": [
       "array([ 0. , -0.5, -1. , -1.5, -2. , -2.5, -3. , -3.5, -4. , -4.5, -5. ])"
      ]
     },
     "execution_count": 14,
     "metadata": {},
     "output_type": "execute_result"
    }
   ],
   "source": [
    "theCOM.com_params.g_DC2"
   ]
  },
  {
   "cell_type": "code",
   "execution_count": 15,
   "id": "703de8b2-c2bd-4df2-8827-63ef0aab252c",
   "metadata": {
    "execution": {
     "iopub.execute_input": "2024-12-09T14:32:00.329931Z",
     "iopub.status.busy": "2024-12-09T14:32:00.328572Z",
     "iopub.status.idle": "2024-12-09T14:32:00.353638Z",
     "shell.execute_reply": "2024-12-09T14:32:00.352645Z",
     "shell.execute_reply.started": "2024-12-09T14:32:00.329900Z"
    }
   },
   "outputs": [],
   "source": [
    "pulse_resp_noeq   = theCOM.gen_pulse_resps(chnls=[theCOM.chnls[0]], apply_eq=False)[0]\n",
    "pulse_resp_preFFE = theCOM.gen_pulse_resps(chnls=[theCOM.chnls[0]], tx_ix=0, Hctf=Hctf, rx_taps=array([1.0]), dfe_taps=array([]))[0]"
   ]
  },
  {
   "cell_type": "code",
   "execution_count": 16,
   "id": "c013ff75-c41a-485e-8c53-13fed0846c94",
   "metadata": {
    "execution": {
     "iopub.execute_input": "2024-12-09T14:32:00.354844Z",
     "iopub.status.busy": "2024-12-09T14:32:00.354520Z",
     "iopub.status.idle": "2024-12-09T14:32:00.372186Z",
     "shell.execute_reply": "2024-12-09T14:32:00.370933Z",
     "shell.execute_reply.started": "2024-12-09T14:32:00.354823Z"
    }
   },
   "outputs": [
    {
     "data": {
      "text/plain": [
       "array([9.86e-08, 9.81e-08, 9.77e-08, ..., 1.04e-07, 1.03e-07, 1.03e-07])"
      ]
     },
     "execution_count": 16,
     "metadata": {},
     "output_type": "execute_result"
    }
   ],
   "source": [
    "pulse_resp_noeq"
   ]
  },
  {
   "cell_type": "code",
   "execution_count": 17,
   "id": "b8008279-903f-49c2-8b51-863ebe81ea20",
   "metadata": {
    "execution": {
     "iopub.execute_input": "2024-12-09T14:32:00.374170Z",
     "iopub.status.busy": "2024-12-09T14:32:00.373701Z",
     "iopub.status.idle": "2024-12-09T14:32:00.829624Z",
     "shell.execute_reply": "2024-12-09T14:32:00.828146Z",
     "shell.execute_reply.started": "2024-12-09T14:32:00.374059Z"
    }
   },
   "outputs": [
    {
     "data": {
      "image/png": "[encoded data removed]",
      "text/plain": [
       "<Figure size 640x480 with 1 Axes>"
      ]
     },
     "metadata": {},
     "output_type": "display_data"
    }
   ],
   "source": [
    "plt.plot(pulse_resp_noeq,    label=\"No EQ\")\n",
    "plt.plot(pulse_resp_preFFE, label=\"No FFE\")\n",
    "plt.title(\"PRZF Victim Pulse Responses\")\n",
    "plt.legend()\n",
    "plt.show()\n"
   ]
  },
  {
   "cell_type": "markdown",
   "id": "038a29d7-d698-4a2e-b12c-0115e5bca0da",
   "metadata": {},
   "source": [
    "**Observations:**\n",
    "\n",
    "1. In general, there appears to be excessive ringing after the cursor in the PRZF case.\n",
    "2. The MMSE case seems to consistently yield a smaller _Full Width at Half Maximum_ (FWHM), although the difference is slight.\n"
   ]
  },
  {
   "cell_type": "markdown",
   "id": "51fd3462-d713-4921-88af-327ad91c2898",
   "metadata": {},
   "source": [
    "### Rx FFE Tap Weights\n",
    "\n",
    "Let's compare the Rx FFE tap weights..."
   ]
  },
  {
   "cell_type": "code",
   "execution_count": 31,
   "id": "8e73b424-94ac-4ff2-b629-3bd9294fdc2a",
   "metadata": {
    "execution": {
     "iopub.execute_input": "2024-12-11T09:33:33.846865Z",
     "iopub.status.busy": "2024-12-11T09:33:33.846509Z",
     "iopub.status.idle": "2024-12-11T09:33:34.217764Z",
     "shell.execute_reply": "2024-12-11T09:33:34.215123Z",
     "shell.execute_reply.started": "2024-12-11T09:33:33.846844Z"
    }
   },
   "outputs": [
    {
     "name": "stdout",
     "output_type": "stream",
     "text": [
      "Final Rx FFE Tap Weights (solid) and pre-FFE Pulse Response (dotted):\n",
      "\n",
      "                     weaver_3dj_02_2305                "
     ]
    },
    {
     "data": {
      "image/png": "[encoded data removed]",
      "text/plain": [
       "<Figure size 400x300 with 2 Axes>"
      ]
     },
     "metadata": {},
     "output_type": "display_data"
    }
   ],
   "source": [
    "print(\"Final Rx FFE Tap Weights (solid) and pre-FFE Pulse Response (dotted):\\n\")\n",
    "\n",
    "def plot_tap_weights(com: COM, grp: str, lbl: str, nm: str, opts: dict[str, str], ax1: Any, ax2: Any) -> None:\n",
    "    \"Plot Rx FFE tap weights and pre-FFE pulse response.\"\n",
    "    nTaps    = com.nRxTaps\n",
    "    if not nTaps:\n",
    "        nTaps = 1\n",
    "    nPreTaps = com.nRxPreTaps\n",
    "    tap_ix   = np.arange(nTaps) + 1\n",
    "    clr = opts[\"color\"]\n",
    "    ax1.plot(tap_ix, com.rx_taps, label=nm, color=clr)\n",
    "    pr_samps = com.fom_rslts[\"pr_samps\"]\n",
    "    curs_loc = np.argmax(pr_samps)\n",
    "    pr_samps = pr_samps[curs_loc - nPreTaps: curs_loc - nPreTaps + nTaps]\n",
    "    ax2.plot(tap_ix, pr_samps * 1e3, \":\", color=clr)\n",
    "    plt.title(f\"{lbl[-25:-5]}\")\n",
    "    ax1.set_xlabel(\"Tap #\")\n",
    "    ax1.set_ylabel(\"Weight\")\n",
    "    ax2.set_ylabel(\"Pulse Response (mV)\")\n",
    "    plt.axis(xmin=1, xmax=15)\n",
    "    ax1.xaxis.set_major_locator(MultipleLocator(1))\n",
    "    ax1.grid(which='major', axis='x')\n",
    "    ax2.grid(which='major', axis='y')\n",
    "    ax1.legend()\n",
    "\n",
    "plot_group_samps(\n",
    "    plot_tap_weights,\n",
    "    \"Tap #\",\n",
    "    (\"Weight\", \"Pulse Response (mV)\"),\n",
    "    [(\"MMSE\", {\"color\": \"blue\"}, theCOMs),\n",
    "     (\"PRZF\", {\"color\": \"red\"}, _theCOMs),\n",
    "    ],\n",
    "    dx=4,\n",
    "    dy=3\n",
    ")\n"
   ]
  },
  {
   "cell_type": "markdown",
   "id": "f5cd4189-555c-4e7b-97c6-85def68c45f8",
   "metadata": {},
   "source": [
    "**Observations:**\n",
    "\n",
    "1. The post-cursor tap weights in the PRZF case appear to be consistently over-aggressive.\n",
    "\n",
    "    - That seems consistent with the excessive post-cursor ringing in the victim pulse response noticed above.\n",
    "  \n",
    "**Questions:**\n",
    "\n",
    "1. What is the cause of the marked difference in pre-FFE pulse response in some cases above?\n",
    "\n",
    "    - Is this just the result of slight differences in cursor location selection?\n"
   ]
  },
  {
   "attachments": {},
   "cell_type": "markdown",
   "id": "deed3afb-06a2-4426-a0f7-9bfe244b42e6",
   "metadata": {},
   "source": [
    "#### Cursor Tap Weight Comparison\n",
    "\n",
    "Here, we plot the cursor tap weights for the MMSE case, as a function of their PRZF equivalents, to get a sense for how the two optimization approaches differ in this regard."
   ]
  },
  {
   "cell_type": "code",
   "execution_count": 19,
   "id": "adb9197f-c1b6-41e7-9c87-dfdd523a5ba0",
   "metadata": {
    "execution": {
     "iopub.execute_input": "2024-12-09T14:32:01.178726Z",
     "iopub.status.busy": "2024-12-09T14:32:01.178163Z",
     "iopub.status.idle": "2024-12-09T14:32:01.350588Z",
     "shell.execute_reply": "2024-12-09T14:32:01.348408Z",
     "shell.execute_reply.started": "2024-12-09T14:32:01.178693Z"
    }
   },
   "outputs": [
    {
     "data": {
      "image/png": "[encoded data removed]",
      "text/plain": [
       "<Figure size 640x480 with 1 Axes>"
      ]
     },
     "metadata": {},
     "output_type": "display_data"
    }
   ],
   "source": [
    "for grp in theCOMs.keys():\n",
    "    for lbl in theCOMs[grp].keys():\n",
    "        com  = theCOMs[grp][lbl]\n",
    "        _com = _theCOMs[grp][lbl]\n",
    "        plt.plot(_com.rx_taps[_com.nRxPreTaps], com.rx_taps[com.nRxPreTaps], \"b.\")\n",
    "ldata = range(150)\n",
    "plt.plot(ldata, ldata, \"gray\")\n",
    "plt.title(\"Rx FFE Cursor Tap Weight Comparison - MMSE vs. PRZF\")\n",
    "plt.xlabel(\"PRZF w0\")\n",
    "plt.ylabel(\"MMSE w0\")\n",
    "plt.show()\n"
   ]
  },
  {
   "cell_type": "markdown",
   "id": "b2fc030f-d142-439b-9cfc-8b4b34528e66",
   "metadata": {},
   "source": [
    "**Observations:**\n",
    "\n",
    "1. The MMSE approach consistently yields larger cursor tap weight values.\n"
   ]
  },
  {
   "attachments": {},
   "cell_type": "markdown",
   "id": "66ec88fd-d402-4d66-8468-ba8f870581fe",
   "metadata": {},
   "source": [
    "### Rx FFE Frequency Response\n",
    "\n",
    "Here, we plot the frequency response of the Rx FFE, again comparing the PRZF and MMSE cases."
   ]
  },
  {
   "cell_type": "code",
   "execution_count": 32,
   "id": "d95b6a3a-e5a0-4018-9496-85601f722716",
   "metadata": {
    "execution": {
     "iopub.execute_input": "2024-12-11T09:33:45.535003Z",
     "iopub.status.busy": "2024-12-11T09:33:45.534703Z",
     "iopub.status.idle": "2024-12-11T09:33:46.036834Z",
     "shell.execute_reply": "2024-12-11T09:33:46.034610Z",
     "shell.execute_reply.started": "2024-12-11T09:33:45.534984Z"
    }
   },
   "outputs": [
    {
     "name": "stdout",
     "output_type": "stream",
     "text": [
      "                     weaver_3dj_02_2305                "
     ]
    },
    {
     "data": {
      "image/png": "[encoded data removed]",
      "text/plain": [
       "<Figure size 400x300 with 2 Axes>"
      ]
     },
     "metadata": {},
     "output_type": "display_data"
    }
   ],
   "source": [
    "def plot_Hffe(com: COM, grp: str, lbl: str, nm: str, opts: dict[str, str], ax1: Any, ax2: Any) -> None:\n",
    "    \"Plot the Rx FFE transfer functions.\"\n",
    "    Hffe = calc_Hffe(com.freqs, 1/com.fb, np.array(com.rx_taps).flatten(), com.nRxTaps - com.nRxPreTaps - 1, hasCurs=True)\n",
    "    Hffe_2 = abs(rfft(from_irfft(irfft(np.abs(Hffe) ** 2), com.t_irfft, com.times, com.nspui)))\n",
    "    clr = opts[\"color\"]\n",
    "    _f = np.linspace(0, 0.5, len(Hffe_2))\n",
    "    ax1.plot(_f, 20*np.log10(abs(Hffe_2)), label=nm, color=clr)\n",
    "    ax1.grid()\n",
    "    ax1.legend()  # loc=\"lower left\")\n",
    "    plt.title(f\"{lbl[-25: -5]}\")\n",
    "\n",
    "plot_group_samps(plot_Hffe, \"Frequency (fBaud.)\", (\"|Hffe| (dB)\", \"(n/a)\"), [(\"MMSE\", {\"color\": \"blue\"}, theCOMs),\n",
    "                                                                             (\"PRZF\", {\"color\": \"red\"},  _theCOMs)])\n"
   ]
  },
  {
   "cell_type": "markdown",
   "id": "869537d3-abc7-4994-86fb-93e923086414",
   "metadata": {},
   "source": [
    "### Noise & Interference PMFs\n",
    "\n",
    "Here, we look at the difference in the noise and interference PMFs used to calculate $A_{ni}$.\n"
   ]
  },
  {
   "cell_type": "code",
   "execution_count": 33,
   "id": "f5ff8fd3-65da-4699-a2ea-2f63f3049585",
   "metadata": {
    "execution": {
     "iopub.execute_input": "2024-12-11T09:34:02.768803Z",
     "iopub.status.busy": "2024-12-11T09:34:02.768557Z",
     "iopub.status.idle": "2024-12-11T09:34:03.415734Z",
     "shell.execute_reply": "2024-12-11T09:34:03.414523Z",
     "shell.execute_reply.started": "2024-12-11T09:34:02.768782Z"
    }
   },
   "outputs": [
    {
     "name": "stdout",
     "output_type": "stream",
     "text": [
      "                     weaver_3dj_02_2305                "
     ]
    },
    {
     "name": "stderr",
     "output_type": "stream",
     "text": [
      "C:\\Users\\davibana\\AppData\\Local\\Temp\\ipykernel_13440\\618177864.py:7: UserWarning: Data has no positive values, and therefore cannot be log-scaled.\n",
      "  ax1.semilogy(y * 1e3, com.com_rslts['pJ'],   label=\"pJ\",   color=\"blue\",   linestyle=opts[\"linestyle\"])\n"
     ]
    },
    {
     "data": {
      "image/png": "[encoded data removed]",
      "text/plain": [
       "<Figure size 400x300 with 2 Axes>"
      ]
     },
     "metadata": {},
     "output_type": "display_data"
    }
   ],
   "source": [
    "def plot_pmfs(com: COM, grp: str, lbl: str, nm: str, opts: dict[str, str], ax1: Any, ax2: Any) -> None:\n",
    "    \"Plot various components of the noise & interference PMF.\"\n",
    "    ax1.plot([0, 1], [0, 0], label=nm, color=\"gray\", linestyle=opts[\"linestyle\"])  # Just for legend.\n",
    "    if nm == \"PRZF\":\n",
    "        ax1.legend(loc=\"lower left\")\n",
    "    y = com.com_rslts[\"y\"]\n",
    "    ax1.semilogy(y * 1e3, com.com_rslts['pJ'],   label=\"pJ\",   color=\"blue\",   linestyle=opts[\"linestyle\"])\n",
    "    ax1.semilogy(y * 1e3, com.com_rslts['pG'],   label=\"pG\",   color=\"orange\", linestyle=opts[\"linestyle\"])\n",
    "    ax1.semilogy(y * 1e3, com.com_rslts['pISI'], label=\"pISI\", color=\"green\",  linestyle=opts[\"linestyle\"])\n",
    "    pk = com.com_rslts[\"pks\"][0]\n",
    "    for _pk in com.com_rslts[\"pks\"][1:]:\n",
    "        pk = np.convolve(pk, _pk, mode=\"same\")\n",
    "    ax1.semilogy(y * 1e3, pk,               label=\"pXt\",  color=\"red\",    linestyle=opts[\"linestyle\"])\n",
    "    ax1.axis(ymin=1e-20, ymax=1)\n",
    "    ax1.grid()\n",
    "    plt.title(f\"{lbl[-25: -5]}\")\n",
    "\n",
    "plot_group_samps(\n",
    "    plot_pmfs,\n",
    "    \"y (mV)\",\n",
    "    (\"p[y]\", \"(n/a)\"),\n",
    "    [(\"MMSE\", {\"linestyle\": \"solid\"},  theCOMs),\n",
    "     (\"PRZF\", {\"linestyle\": \"dashed\"}, _theCOMs),\n",
    "    ],\n",
    "    dx=4,\n",
    "    dy=3\n",
    ")\n"
   ]
  },
  {
   "cell_type": "markdown",
   "id": "0552ffd7-578b-46d8-b9b0-a648c9258293",
   "metadata": {},
   "source": [
    "**Observations:**\n",
    "\n",
    "1. The PRZF case yields consistently larger ISI than the MMSE case.\n",
    "\n",
    "    - This seems consistent w/ the pulse response and tap weight plots, above.\n",
    "  \n",
    "2. The dominant factor seems to be the Rx thermal noise ($\\eta_0$), which is reflected in the `pG` curve in the plots above.\n",
    "\n",
    "    - In the cases where there exists significant discrepancy between the two cases, it is the MMSE case that shows larger values.  \n",
    "      And that seems consistent w/ the generally higher FFE gain, particularly at the upper end of the frequency band, as revealed in the _Rx FFE Frequency Response_ plots, above.\n"
   ]
  },
  {
   "cell_type": "markdown",
   "id": "4fab20ca-29f4-480c-b942-45e24d77bd03",
   "metadata": {},
   "source": [
    "## MATLAB vs. _PyChOpMarg_\n",
    "\n",
    "Let's compare the MATLAB results to our _PyChOpMarg_ (MMSE) results.  \n",
    "As per the request made in D1.2, we'll use the new v4.70 version of the M-code.\n"
   ]
  },
  {
   "cell_type": "markdown",
   "id": "7ce7c407-2aef-4c73-a635-9ea3378fd5d8",
   "metadata": {
    "execution": {
     "iopub.execute_input": "2024-11-28T18:26:18.815439Z",
     "iopub.status.busy": "2024-11-28T18:26:18.814893Z",
     "iopub.status.idle": "2024-11-28T18:26:18.822783Z",
     "shell.execute_reply": "2024-11-28T18:26:18.821777Z",
     "shell.execute_reply.started": "2024-11-28T18:26:18.815404Z"
    }
   },
   "source": [
    "### MATLAB Code Runner\n",
    "\n",
    "We need a way to run the MATLAB COM code under Python control.\n"
   ]
  },
  {
   "cell_type": "code",
   "execution_count": 51,
   "id": "4216e0e8-e9d3-4c8a-819e-bd660bb8d7a6",
   "metadata": {
    "execution": {
     "iopub.execute_input": "2024-12-11T12:56:02.299212Z",
     "iopub.status.busy": "2024-12-11T12:56:02.298927Z",
     "iopub.status.idle": "2024-12-11T12:56:02.307756Z",
     "shell.execute_reply": "2024-12-11T12:56:02.306574Z",
     "shell.execute_reply.started": "2024-12-11T12:56:02.299196Z"
    }
   },
   "outputs": [],
   "source": [
    "import subprocess\n",
    "\n",
    "# MATLAB_EXEC = \"/Applications/MATLAB_R2024b.app/bin/matlab\"  # Mac\n",
    "MATLAB_EXEC = \"C:/Program Files/MATLAB/R2024b/bin/matlab.exe\"  # PC\n",
    "\n",
    "COM_MATLAB_RESULTS: TypeAlias = dict[str, Any]\n",
    "\n",
    "def run_com_matlab(\n",
    "    chnl_sets: list[tuple[ChnlGrpName, list[ChnlSet]]],\n",
    "    cfg_sheet: Path,\n",
    "    # opt_mode: OptMode = OptMode.MMSE,\n",
    "    # norm_mode: NormMode = NormMode.P8023dj,\n",
    "    # unit_amp: bool = True,\n",
    "    # dbg_dict: Dict[str, Any] = None\n",
    ") -> dict[ChnlGrpName, dict[ChnlSetName, COM_MATLAB_RESULTS]]:\n",
    "    \"\"\"\n",
    "    Run COM on a list of grouped channel sets, using the MATLAB code.\n",
    "\n",
    "    Args:\n",
    "        chnl_sets: List of pairs, each consisting of:\n",
    "            - ch_grp_name: The group name for this list of channel sets.\n",
    "            - ch_sets: List of channel sets to run.\n",
    "        cfg_sheet: MS Excel configuration spreadsheet for all runs.\n",
    "    \"\"\"\n",
    "\n",
    "    results = {}\n",
    "    for grp, ch_set in chnl_sets:\n",
    "        lbl = ch_set['THRU'][0].stem\n",
    "        n_fexts = len(ch_set[\"FEXT\"])\n",
    "        cmd_str = \", \".join([\n",
    "             f\"com_ieee8023_93a_470('{cfg_sheet}'\",\n",
    "             f\"{len(ch_set['FEXT'])}, {len(ch_set['NEXT'])}, '{ch_set['THRU'][0]}'\",\n",
    "             \", \".join(list(map(lambda ch: f\"'{str(ch)}'\", ch_set['FEXT'] + ch_set['NEXT'])))]) + \");\"\n",
    "        print(cmd_str)\n",
    "        result = subprocess.run([MATLAB_EXEC, \"-nodisplay\", \"-batch\", cmd_str], capture_output=True, text=True)\n",
    "        # result = subprocess.run([MATLAB_EXEC, cmd_str], capture_output=True, text=True)\n",
    "        if grp in results:\n",
    "            results[grp].update({lbl: {\"proc_rslt\": result}})\n",
    "        else:\n",
    "            results.update({grp: {lbl: {\"proc_rslt\": result}}})\n",
    "    return results\n"
   ]
  },
  {
   "cell_type": "markdown",
   "id": "fd5a6db5-fa11-4414-a480-6b31084e9636",
   "metadata": {},
   "source": [
    "### Run Channels in MATLAB\n",
    "\n",
    "With all the pieces in place, let's run our set of test channels through MATLAB COM analysis."
   ]
  },
  {
   "cell_type": "code",
   "execution_count": 104,
   "id": "c4630243-a585-4ad9-8ef4-ce385b25091e",
   "metadata": {
    "execution": {
     "iopub.execute_input": "2024-12-11T16:02:35.448018Z",
     "iopub.status.busy": "2024-12-11T16:02:35.447522Z",
     "iopub.status.idle": "2024-12-11T16:06:42.046975Z",
     "shell.execute_reply": "2024-12-11T16:06:42.045146Z",
     "shell.execute_reply.started": "2024-12-11T16:02:35.447983Z"
    }
   },
   "outputs": [
    {
     "name": "stdout",
     "output_type": "stream",
     "text": [
      "com_ieee8023_93a_470('config_com_ieee8023dj_PyChOpMarg_vs_MATLAB.xls', 5, 3, 'chnl_data\\P8023dj\\KR\\mellitz_3dj_02_elec_230504\\KRCA_wXTALK_MX_17_PCB-50-50_mm_FO-300-300_mm_CA-500_mm_thru.s4p', 'chnl_data\\P8023dj\\KR\\mellitz_3dj_02_elec_230504\\KRCA_wXTALK_MX_17_PCB-50-50_mm_FO-300-300_mm_CA-500_mm_fext1.s4p', 'chnl_data\\P8023dj\\KR\\mellitz_3dj_02_elec_230504\\KRCA_wXTALK_MX_17_PCB-50-50_mm_FO-300-300_mm_CA-500_mm_fext2.s4p', 'chnl_data\\P8023dj\\KR\\mellitz_3dj_02_elec_230504\\KRCA_wXTALK_MX_17_PCB-50-50_mm_FO-300-300_mm_CA-500_mm_fext3.s4p', 'chnl_data\\P8023dj\\KR\\mellitz_3dj_02_elec_230504\\KRCA_wXTALK_MX_17_PCB-50-50_mm_FO-300-300_mm_CA-500_mm_fext4.s4p', 'chnl_data\\P8023dj\\KR\\mellitz_3dj_02_elec_230504\\KRCA_wXTALK_MX_17_PCB-50-50_mm_FO-300-300_mm_CA-500_mm_fext5.s4p', 'chnl_data\\P8023dj\\KR\\mellitz_3dj_02_elec_230504\\KRCA_wXTALK_MX_17_PCB-50-50_mm_FO-300-300_mm_CA-500_mm_next1.s4p', 'chnl_data\\P8023dj\\KR\\mellitz_3dj_02_elec_230504\\KRCA_wXTALK_MX_17_PCB-50-50_mm_FO-300-300_mm_CA-500_mm_next2.s4p', 'chnl_data\\P8023dj\\KR\\mellitz_3dj_02_elec_230504\\KRCA_wXTALK_MX_17_PCB-50-50_mm_FO-300-300_mm_CA-500_mm_next3.s4p');\n"
     ]
    }
   ],
   "source": [
    "# COM_CFG_SHEET = 'config_com_ieee8023_93a=100GBASE-KR4.xls'\n",
    "COM_CFG_SHEET = 'config_com_ieee8023dj_PyChOpMarg_vs_MATLAB.xls'\n",
    "matlab_results = run_com_matlab(tested_ch_sets, COM_CFG_SHEET)"
   ]
  },
  {
   "cell_type": "code",
   "execution_count": 105,
   "id": "a0057b90-7bc5-47c9-8f6b-a9970b547c93",
   "metadata": {
    "execution": {
     "iopub.execute_input": "2024-12-11T16:06:47.506483Z",
     "iopub.status.busy": "2024-12-11T16:06:47.505245Z",
     "iopub.status.idle": "2024-12-11T16:06:47.515861Z",
     "shell.execute_reply": "2024-12-11T16:06:47.514210Z",
     "shell.execute_reply.started": "2024-12-11T16:06:47.506445Z"
    }
   },
   "outputs": [
    {
     "name": "stdout",
     "output_type": "stream",
     "text": [
      "mellitz_3dj_02_elec_230504:\n",
      "\tKRCA_wXTALK_MX_17_PCB-50-50_mm_FO-300-300_mm_CA-500_mm_thru: SUCCESS\n",
      "Warning: Unrecognized command line option: nodisplay. \n",
      "\n",
      "\tThird Party Support License -- for use only to support products interfaced to MathWorks\n",
      "\tsoftware under terms specified in your company's restricted use license agreement.\n",
      "\n",
      "This is NOT an official IEEE document.\n",
      "Revision:<strong> 4.70 </strong>This is a computation example for exploring COM and ERL  \n",
      " for projects like IEEE P802.3bj/b/bs/cd/ck with some exploratory extensions and is not normative or official\n",
      " mellitz_3dj_02_elec_230504--KRCA_wXTALK_MX_17_PCB-50-50_mm_FO-300-300_mm_CA-500_mm_thru\tCausality correction = -50.4 dB (not applied)\n",
      " mellitz_3dj_02_elec_230504--KRCA_wXTALK_MX_17_PCB-50-50_mm_FO-300-300_mm_CA-500_mm_thru\tTruncation ratio = -48.9 dB\n",
      " mellitz_3dj_02_elec_230504--KRCA_wXTALK_MX_17_PCB-50-50_mm_FO-300-300_mm_CA-500_mm_fext1\tCausality correction = -49.4 dB (not applied)\n",
      " mellitz_3dj_02_elec_230504--KRCA_wXTALK_MX_17_PCB-50-50_mm_FO-300-300_mm_CA-500_mm_fext1\tTruncation ratio = -53.8 dB\n",
      " mellitz_3dj_02_elec_230504--KRCA_wXTALK_MX_17_PCB-50-50_mm_FO-300-300_mm_CA-500_mm_fext2\tCausality correction = -48.8 dB (not applied)\n",
      " mellitz_3dj_02_elec_230504--KRCA_wXTALK_MX_17_PCB-50-50_mm_FO-300-300_mm_CA-500_mm_fext2\tTruncation ratio = -50.7 dB\n",
      " mellitz_3dj_02_elec_230504--KRCA_wXTALK_MX_17_PCB-50-50_mm_FO-300-300_mm_CA-500_mm_fext3\tCausality correction = -48.6 dB (not applied)\n",
      " mellitz_3dj_02_elec_230504--KRCA_wXTALK_MX_17_PCB-50-50_mm_FO-300-300_mm_CA-500_mm_fext3\tTruncation ratio = -52.6 dB\n",
      " mellitz_3dj_02_elec_230504--KRCA_wXTALK_MX_17_PCB-50-50_mm_FO-300-300_mm_CA-500_mm_fext4\tCausality correction = -46.4 dB (not applied)\n",
      " mellitz_3dj_02_elec_230504--KRCA_wXTALK_MX_17_PCB-50-50_mm_FO-300-300_mm_CA-500_mm_fext4\tTruncation ratio = -54.2 dB\n",
      " mellitz_3dj_02_elec_230504--KRCA_wXTALK_MX_17_PCB-50-50_mm_FO-300-300_mm_CA-500_mm_fext5\tCausality correction = -40.1 dB (not applied)\n",
      " mellitz_3dj_02_elec_230504--KRCA_wXTALK_MX_17_PCB-50-50_mm_FO-300-300_mm_CA-500_mm_fext5\tTruncation ratio = -52.2 dB\n",
      " mellitz_3dj_02_elec_230504--KRCA_wXTALK_MX_17_PCB-50-50_mm_FO-300-300_mm_CA-500_mm_next1\tCausality correction = -55.8 dB (not applied)\n",
      " mellitz_3dj_02_elec_230504--KRCA_wXTALK_MX_17_PCB-50-50_mm_FO-300-300_mm_CA-500_mm_next1\tTruncation ratio = -52.9 dB\n",
      " mellitz_3dj_02_elec_230504--KRCA_wXTALK_MX_17_PCB-50-50_mm_FO-300-300_mm_CA-500_mm_next2\tCausality correction = -53.2 dB (not applied)\n",
      " mellitz_3dj_02_elec_230504--KRCA_wXTALK_MX_17_PCB-50-50_mm_FO-300-300_mm_CA-500_mm_next2\tTruncation ratio = -56.1 dB\n",
      " mellitz_3dj_02_elec_230504--KRCA_wXTALK_MX_17_PCB-50-50_mm_FO-300-300_mm_CA-500_mm_next3\tCausality correction = -32.8 dB (not applied)\n",
      " mellitz_3dj_02_elec_230504--KRCA_wXTALK_MX_17_PCB-50-50_mm_FO-300-300_mm_CA-500_mm_next3\tTruncation ratio = -Inf dB\n",
      "\n",
      "g_DC_HP_values =\n",
      "\n",
      "   -5.0000   -4.5000   -4.0000   -3.5000   -3.0000   -2.5000   -2.0000   -1.5000   -1.0000   -0.5000         0\n",
      "\n",
      "Just entered Gffe_index block\n",
      "\n",
      "gdc_values =\n",
      "\n",
      "     0\n",
      "\n",
      "Just entered ctle_index block\n",
      "About to check GDC Qual...\n",
      "About to check GDC Qual...\n",
      "About to check GDC Qual...\n",
      "About to check GDC Qual...\n",
      "About to check GDC Qual...\n",
      "About to check GDC Qual...\n",
      "About to check GDC Qual...\n",
      "About to check GDC Qual...\n",
      "About to check GDC Qual...\n",
      "About to check GDC Qual...\n",
      "About to check GDC Qual...\n",
      "FOM:                14 dB\n",
      "TXFFE coefficients: [0 1 0]\n",
      "SNR ISI:                30 dB\n",
      "CTLE DC gain:       0 dB\n",
      "CTF peaking gain:  -0.011 dB\n",
      "Symbol Available signal:   0.011251\n",
      " Die to die loss = 38.2954 dB \n",
      "run time = 1.99952 min \n",
      "<strong>--- Testcase 1 results ---</strong>\n",
      "                                       code_revision: '4.70'\n",
      "                                         config_file: 'config_com_ieee8023dj_PyChOpMarg_vs_MATLAB.xls'\n",
      "                                              Z11est: []\n",
      "                                              Z22est: []\n",
      "                                        tfx_estimate: []\n",
      "                                               ERL11: []\n",
      "                                               ERL22: []\n",
      "                                                 ERL: []\n",
      "                                              ICN_mV: 0.8274\n",
      "                                 MDNEXT_ICN_92_46_mV: 0.3284\n",
      "                                 MDFEXT_ICN_92_47_mV: 0.7595\n",
      "                                 fitted_IL_dB_at_Fnq: 26.0659\n",
      "                               cable__assembley_loss: []\n",
      "                                       loss_with_PCB: []\n",
      "                             VIP_to_VMP_IL_dB_at_Fnq: 41.0435\n",
      "                           IL_dB_channel_only_at_Fnq: 27.2428\n",
      "                                  VTF_loss_dB_at_Fnq: 42.1996\n",
      "                             IL_db_die_to_die_at_Fnq: 38.2954\n",
      "                                           FOM_TDILN: []\n",
      "                                              TD_ILN: []\n",
      "                                            FOM_RILN: []\n",
      "                                             FOM_ILD: 1.3163\n",
      "                                           VMC_HF_mV: 0\n",
      "                                             SCMR_dB: Inf\n",
      "                                         noiseRMS_mV: [1x1 struct]\n",
      "                                                 VMA: []\n",
      "                                          file_names: '\" mellitz_3dj_02_elec_230504--KRCA_wXTALK_MX_17_PCB-50-50_mm_FO-300-300_mm_CA-500_mm_thru, mellitz_3dj_02_elec_230504--KRCA_wXTALK_MX_17_PCB-50-50_mm_FO-300-300_mm_CA-500_mm_fext1, mellitz_3dj_02_elec_230504--KRCA_wXTALK_MX_17_PCB-50-50_mm_FO-300-300_mm_CA-500_mm_fext2, mellitz_3dj_02_elec_230504--KRCA_wXTALK_MX_17_PCB-50-50_mm_FO-300-300_mm_CA-500_mm_fext3, mellitz_3dj_02_elec_230504--KRCA_wXTALK_MX_17_PCB-50-50_mm_FO-300-300_mm_CA-500_mm_fext4, mellitz_3dj_02_elec_230504--KRCA_wXTALK_MX_17_PCB-50-50_mm_FO-300-300_mm_CA-500_mm_fext5, mellitz_3dj_02_elec_230504--KRCA_wXTALK_MX_17_PCB-50-50_mm_FO-300-300_mm_CA-500_mm_next1, mellitz_3dj_02_elec_230504--KRCA_wXTALK_MX_17_PCB-50-50_mm_FO-300-300_mm_CA-500_mm_next2, mellitz_3dj_02_elec_230504--KRCA_wXTALK_MX_17_PCB-50-50_mm_FO-300-300_mm_CA-500_mm_next3\"'\n",
      "                                            R_diepad: [50 50]\n",
      "                                            C_diepad: [2x3 double]\n",
      "                                              L_comp: [2x3 double]\n",
      "                                              C_bump: [3.0000e-14 3.0000e-14]\n",
      "                                              levels: 4\n",
      "                                          Pkg_len_TX: [34 1.8000 0 0]\n",
      "                                        Pkg_len_NEXT: [34 1.8000 0 0]\n",
      "                                        Pkg_len_FEXT: [34 1.8000 0 0]\n",
      "                                          Pkg_len_RX: [32 1.8000 0 0]\n",
      "                                             pkg_Z_c: [2x4 double]\n",
      "                                                 C_v: [0 0]\n",
      "                                       baud_rate_GHz: 106.2500\n",
      "                                       f_Nyquist_GHz: 53.1250\n",
      "                                                 BER: 2.0000e-04\n",
      "                                                 FOM: 14.4618\n",
      "                                             sigma_N: 0.0010\n",
      "                                            DFE4_RSS: 0\n",
      "                                            DFE2_RSS: 0\n",
      "                                            tail_RSS: 0\n",
      "                         channel_operating_margin_dB: 3.5901\n",
      "                        available_signal_after_eq_mV: 10.6887\n",
      "                                  peak_uneq_pulse_mV: 59.3713\n",
      "                                  uneq_FIR_peak_time: 5.8526e-09\n",
      "                             steady_state_voltage_mV: 107.9560\n",
      "                         steady_state_voltage_weq_mV: 57.4862\n",
      "                                            sigma_bn: []\n",
      "       Peak_ISI_XTK_and_Noise_interference_at_BER_mV: 7.0700\n",
      "                 peak_ISI_XTK_interference_at_BER_mV: 4.6000\n",
      "                     peak_ISI_interference_at_BER_mV: 4.4600\n",
      "    equivalent_ICI_sigma_assuming_PDF_is_Gaussian_mV: 1.2599\n",
      "                   peak_MDXTK_interference_at_BER_mV: 1.0600\n",
      "                  peak_MDNEXT_interference_at_BER_mV: 0.0300\n",
      "                  peak_MDFEXT_interference_at_BER_mV: 1.0600\n",
      "             equivalent_ICN_assuming_Gaussian_PDF_mV: 0.2994\n",
      "                      SNR_ISI_XTK_normalized_1_sigma: 18.3036\n",
      "                                         SNR_ISI_est: 29.5703\n",
      "                                      Pmax_by_Vf_est: 0.5500\n",
      "                            Tr_measured_from_step_ps: 11.7647\n",
      "                                     CTLE_zero_poles: [1.0000e+12 1.0000e+12 1.0000e+12]\n",
      "                                     CTLE_DC_gain_dB: 0\n",
      "                                             g_DC_HP: -3\n",
      "                                       HP_poles_zero: 1.3281e+09\n",
      "                                           TXLE_taps: [0 1 0]\n",
      "                                            Pre2Pmax: 0\n",
      "                                            DFE_taps: 0.7874\n",
      "                              floating_tap_locations: []\n",
      "                                               RxFFE: [16x1 double]\n",
      "                                           RxFFEgain: 0\n",
      "                                               itick: -5\n",
      "                       error_propagation_probability: []\n",
      "                                 burst_probabilities: []\n",
      "                               sgm_Ani__isi_xt_noise: 0.0020\n",
      "                                          sgm_isi_xt: 0.0013\n",
      "                      sgm_noise__gaussian_noise_p_DD: 0.0015\n",
      "                                            sgm_p_DD: 7.4034e-04\n",
      "                                  sgm_gaussian_noise: 0.0013\n",
      "                                               sgm_G: 0.0013\n",
      "                                            sgm_rjit: 3.6970e-04\n",
      "                                               sgm_N: 0.0010\n",
      "                                              sgm_TX: 7.1776e-04\n",
      "                                             sgm_isi: 0.0013\n",
      "                                              sgm_xt: 3.1040e-04\n",
      "                                              VEC_dB: 9.4074\n",
      "                                              VEO_mV: 7.2374\n",
      "                                           EW_UI_est: []\n",
      "                                         eye_contour: []\n",
      "                                      VEO_window_mUI: []\n",
      "                                sigma_ACCM_at_tp0_mV: []\n",
      "                     sigma_AC_CCM_at_rxpkg_output_mV: []\n",
      "                                              COM_dB: 3.5901\n",
      "                                          DER_thresh: 7.5161e-05\n",
      "                                               rtmin: 1.9995\n",
      "\n",
      "WC All cases <strong> PASS ... COM = 3.590 dB</strong>\n",
      "WC All cases DER = 7.516e-05 at COM threshold \n",
      " redo string is: eval(['My_var_0 = ' getappdata(0,'cmd_str')])\n",
      "\n",
      "\n"
     ]
    }
   ],
   "source": [
    "for grp in matlab_results.keys():\n",
    "    print(f\"{grp}:\")\n",
    "    rslts = matlab_results[grp]\n",
    "    for chnl in rslts.keys():\n",
    "        print(f\"\\t{chnl}: \", end=\"\")\n",
    "        rslt = rslts[chnl]\n",
    "        if rslt[\"proc_rslt\"].returncode:\n",
    "            print(f\"ERROR\")\n",
    "        else:\n",
    "            print(f\"SUCCESS\")\n",
    "    print(rslt[\"proc_rslt\"].stdout)\n",
    "    print(rslt[\"proc_rslt\"].stderr)\n",
    "\n",
    "# for grp in matlab_results.keys():\n",
    "#     rslts = matlab_results[grp]\n",
    "#     for chnl in rslts.keys():\n",
    "#         print(f\"{grp} => {chnl}:\")\n",
    "#         rslt = rslts[chnl]\n",
    "#         print(f\"STDOUT:\\n{rslt.stdout}\")\n",
    "#         print(f\"\\nSTDERR:\\n{rslt.stderr}\")"
   ]
  },
  {
   "cell_type": "markdown",
   "id": "f7327156-4678-4ce5-8bf2-59469a49c02f",
   "metadata": {
    "execution": {
     "iopub.execute_input": "2024-11-30T11:28:29.016954Z",
     "iopub.status.busy": "2024-11-30T11:28:29.016516Z",
     "iopub.status.idle": "2024-11-30T11:28:29.022208Z",
     "shell.execute_reply": "2024-11-30T11:28:29.020874Z",
     "shell.execute_reply.started": "2024-11-30T11:28:29.016931Z"
    }
   },
   "source": [
    "### Parse MATLAB Results\n",
    "\n",
    "Now, we need to parse the MATLAB COM script results, which are in Human readable text of the form:\n",
    "\n",
    "```\n",
    "<strong>--- Testcase <n> results ---</strong>\n",
    "<key>: <value>\n",
    "...\n",
    "```\n",
    "\n",
    "which lends itself quite naturally to the construction of a Python dictionary.\n"
   ]
  },
  {
   "cell_type": "code",
   "execution_count": 37,
   "id": "7ee5d163-1b54-4454-8e8f-cc1693cea9e5",
   "metadata": {
    "execution": {
     "iopub.execute_input": "2024-12-11T09:40:42.137957Z",
     "iopub.status.busy": "2024-12-11T09:40:42.137620Z",
     "iopub.status.idle": "2024-12-11T09:40:42.147566Z",
     "shell.execute_reply": "2024-12-11T09:40:42.146251Z",
     "shell.execute_reply.started": "2024-12-11T09:40:42.137937Z"
    },
    "scrolled": true
   },
   "outputs": [],
   "source": [
    "for grp in matlab_results.keys():\n",
    "    rslts = matlab_results[grp]\n",
    "    for chnl in rslts.keys():\n",
    "        rslt = rslts[chnl]\n",
    "        ds = []\n",
    "        d = {}\n",
    "        for line in rslt[\"proc_rslt\"].stdout.splitlines():\n",
    "            if \"<strong>--- Testcase\" in line:\n",
    "                ds.append(d)\n",
    "                d = {}\n",
    "            else:\n",
    "                toks = line.split(\":\")\n",
    "                if len(toks) == 2:\n",
    "                    d.update({toks[0].strip(): toks[1].strip()})\n",
    "        ds.append(d)\n",
    "        rslt.update({\"parse_rslts\": ds})"
   ]
  },
  {
   "cell_type": "code",
   "execution_count": 38,
   "id": "7e488c39-c8e5-4bc9-a008-42237cdb004a",
   "metadata": {
    "execution": {
     "iopub.execute_input": "2024-12-11T09:40:46.544713Z",
     "iopub.status.busy": "2024-12-11T09:40:46.544156Z",
     "iopub.status.idle": "2024-12-11T09:40:46.562175Z",
     "shell.execute_reply": "2024-12-11T09:40:46.560844Z",
     "shell.execute_reply.started": "2024-12-11T09:40:46.544696Z"
    },
    "scrolled": true
   },
   "outputs": [
    {
     "ename": "KeyError",
     "evalue": "'mellitz_3dj_02_elec_230504'",
     "output_type": "error",
     "traceback": [
      "\u001b[1;31m---------------------------------------------------------------------------\u001b[0m",
      "\u001b[1;31mKeyError\u001b[0m                                  Traceback (most recent call last)",
      "Cell \u001b[1;32mIn[38], line 1\u001b[0m\n\u001b[1;32m----> 1\u001b[0m \u001b[38;5;28;01mfor\u001b[39;00m d \u001b[38;5;129;01min\u001b[39;00m \u001b[43mmatlab_results\u001b[49m\u001b[43m[\u001b[49m\u001b[38;5;124;43m\"\u001b[39;49m\u001b[38;5;124;43mmellitz_3dj_02_elec_230504\u001b[39;49m\u001b[38;5;124;43m\"\u001b[39;49m\u001b[43m]\u001b[49m[\u001b[38;5;124m\"\u001b[39m\u001b[38;5;124mKRCA_wXTALK_MX_17_PCB-50-50_mm_FO-300-300_mm_CA-500_mm_thru\u001b[39m\u001b[38;5;124m\"\u001b[39m][\u001b[38;5;124m\"\u001b[39m\u001b[38;5;124mparse_rslts\u001b[39m\u001b[38;5;124m\"\u001b[39m]:\n\u001b[0;32m      2\u001b[0m     \u001b[38;5;28mprint\u001b[39m(d)\n",
      "\u001b[1;31mKeyError\u001b[0m: 'mellitz_3dj_02_elec_230504'"
     ]
    }
   ],
   "source": [
    "for d in matlab_results[\"mellitz_3dj_02_elec_230504\"][\"KRCA_wXTALK_MX_17_PCB-50-50_mm_FO-300-300_mm_CA-500_mm_thru\"][\"parse_rslts\"]:\n",
    "    print(d)\n"
   ]
  },
  {
   "cell_type": "markdown",
   "id": "f282915e-8ba9-4555-80bb-897fa279ea17",
   "metadata": {
    "execution": {
     "iopub.execute_input": "2024-11-30T16:28:09.141898Z",
     "iopub.status.busy": "2024-11-30T16:28:09.141526Z",
     "iopub.status.idle": "2024-11-30T16:28:09.145696Z",
     "shell.execute_reply": "2024-11-30T16:28:09.145146Z",
     "shell.execute_reply.started": "2024-11-30T16:28:09.141873Z"
    }
   },
   "source": [
    "### Comparison Results\n",
    "\n",
    "Now that we've got the MATLAB results parsed, let's see how they compare to those of _PyChOpMarg_."
   ]
  },
  {
   "cell_type": "code",
   "execution_count": 26,
   "id": "e4a244ce-af62-4ddc-80cb-3d8f2ae638b5",
   "metadata": {
    "execution": {
     "iopub.execute_input": "2024-12-09T14:33:59.729833Z",
     "iopub.status.busy": "2024-12-09T14:33:59.729276Z",
     "iopub.status.idle": "2024-12-09T14:34:00.806256Z",
     "shell.execute_reply": "2024-12-09T14:34:00.803094Z",
     "shell.execute_reply.started": "2024-12-09T14:33:59.729802Z"
    }
   },
   "outputs": [
    {
     "ename": "IndexError",
     "evalue": "list index out of range",
     "output_type": "error",
     "traceback": [
      "\u001b[1;31m---------------------------------------------------------------------------\u001b[0m",
      "\u001b[1;31mIndexError\u001b[0m                                Traceback (most recent call last)",
      "Cell \u001b[1;32mIn[26], line 8\u001b[0m\n\u001b[0;32m      6\u001b[0m         matlab_rslt \u001b[38;5;241m=\u001b[39m matlab_rslts[chnl]\n\u001b[0;32m      7\u001b[0m         pychopmarg_rslt \u001b[38;5;241m=\u001b[39m pychopmarg_rslts[chnl]\n\u001b[1;32m----> 8\u001b[0m         ax\u001b[38;5;241m.\u001b[39mplot(\u001b[38;5;28mfloat\u001b[39m(\u001b[43mmatlab_rslt\u001b[49m\u001b[43m[\u001b[49m\u001b[38;5;124;43m\"\u001b[39;49m\u001b[38;5;124;43mparse_rslts\u001b[39;49m\u001b[38;5;124;43m\"\u001b[39;49m\u001b[43m]\u001b[49m\u001b[43m[\u001b[49m\u001b[38;5;241;43m1\u001b[39;49m\u001b[43m]\u001b[49m[\u001b[38;5;124m\"\u001b[39m\u001b[38;5;124mchannel_operating_margin_dB\u001b[39m\u001b[38;5;124m\"\u001b[39m]),\n\u001b[0;32m      9\u001b[0m                 pychopmarg_rslt\u001b[38;5;241m.\u001b[39mcom_rslts[\u001b[38;5;124m\"\u001b[39m\u001b[38;5;124mCOM\u001b[39m\u001b[38;5;124m\"\u001b[39m],\n\u001b[0;32m     10\u001b[0m                 \u001b[38;5;124m\"\u001b[39m\u001b[38;5;124m.\u001b[39m\u001b[38;5;124m\"\u001b[39m)\n\u001b[0;32m     11\u001b[0m plt\u001b[38;5;241m.\u001b[39mtitle(\u001b[38;5;124m\"\u001b[39m\u001b[38;5;124mCOM Results - PyChOpMarg vs. MATLAB\u001b[39m\u001b[38;5;124m\"\u001b[39m)\n\u001b[0;32m     12\u001b[0m plt\u001b[38;5;241m.\u001b[39mxlabel(\u001b[38;5;124m\"\u001b[39m\u001b[38;5;124mMATLAB Result\u001b[39m\u001b[38;5;124m\"\u001b[39m)\n",
      "\u001b[1;31mIndexError\u001b[0m: list index out of range"
     ]
    },
    {
     "data": {
      "image/png": "[encoded data removed]",
      "text/plain": [
       "<Figure size 640x480 with 1 Axes>"
      ]
     },
     "metadata": {},
     "output_type": "display_data"
    }
   ],
   "source": [
    "fig, ax = plt.subplots()\n",
    "for grp in matlab_results.keys():\n",
    "    matlab_rslts = matlab_results[grp]\n",
    "    pychopmarg_rslts = _theCOMs[grp]\n",
    "    for chnl in matlab_rslts.keys():\n",
    "        matlab_rslt = matlab_rslts[chnl]\n",
    "        pychopmarg_rslt = pychopmarg_rslts[chnl]\n",
    "        ax.plot(float(matlab_rslt[\"parse_rslts\"][1][\"channel_operating_margin_dB\"]),\n",
    "                pychopmarg_rslt.com_rslts[\"COM\"],\n",
    "                \".\")\n",
    "plt.title(\"COM Results - PyChOpMarg vs. MATLAB\")\n",
    "plt.xlabel(\"MATLAB Result\")\n",
    "plt.ylabel(\"PyChOpMarg Result\")\n",
    "# ax.xaxis.set_major_formatter('{:.2f}'.format)\n",
    "plt.show()\n"
   ]
  },
  {
   "cell_type": "code",
   "execution_count": null,
   "id": "b69e79dc-f0ca-4567-9767-6a0186801977",
   "metadata": {
    "execution": {
     "iopub.status.busy": "2024-12-09T14:34:00.807050Z",
     "iopub.status.idle": "2024-12-09T14:34:00.807455Z",
     "shell.execute_reply": "2024-12-09T14:34:00.807305Z",
     "shell.execute_reply.started": "2024-12-09T14:34:00.807293Z"
    }
   },
   "outputs": [],
   "source": [
    "matlab_rslt[\"parse_rslts\"]"
   ]
  },
  {
   "cell_type": "code",
   "execution_count": null,
   "id": "8579c357-c539-4f04-b17d-756fdf4cf7cc",
   "metadata": {
    "execution": {
     "iopub.status.busy": "2024-12-09T14:34:00.808636Z",
     "iopub.status.idle": "2024-12-09T14:34:00.809583Z",
     "shell.execute_reply": "2024-12-09T14:34:00.809457Z",
     "shell.execute_reply.started": "2024-12-09T14:34:00.809444Z"
    }
   },
   "outputs": [],
   "source": [
    "raise RuntimeError(\"End of notebook.\")"
   ]
  },
  {
   "cell_type": "markdown",
   "id": "8eaf9419-dcd7-49c6-a89b-53bc1f1c07c4",
   "metadata": {},
   "source": [
    "## MMSE Details\n",
    "\n",
    "### COM vs. FOM\n",
    "\n",
    "Here, we compare COM to FOM."
   ]
  },
  {
   "cell_type": "code",
   "execution_count": null,
   "id": "f0e652db-4275-4c8f-b38f-18d504484a98",
   "metadata": {
    "execution": {
     "iopub.status.busy": "2024-12-09T14:34:00.810385Z",
     "iopub.status.idle": "2024-12-09T14:34:00.811579Z",
     "shell.execute_reply": "2024-12-09T14:34:00.811399Z",
     "shell.execute_reply.started": "2024-12-09T14:34:00.811379Z"
    }
   },
   "outputs": [],
   "source": [
    "names     = []\n",
    "com_vals  = []\n",
    "com_rslts = []\n",
    "for grp, d in theCOMs.items():\n",
    "    for lbl, theCOM in d.items():\n",
    "        names.append(grp + \":\" + lbl)\n",
    "        com_vals.append(theCOM.com_rslts['COM'])\n",
    "        com_rslts.append([\n",
    "            theCOM.com_rslts['As'],\n",
    "            theCOM.com_rslts['Ani'],\n",
    "            theCOM.fom_rslts['FOM'],\n",
    "            theCOM.com_rslts['sigma_ISI'],\n",
    "            theCOM.fom_rslts['sigma_XT'],\n",
    "            theCOM.fom_rslts['sigma_J'],\n",
    "            theCOM.com_rslts['sigma_G'],\n",
    "            theCOM.com_rslts['sigma_Tx'],\n",
    "            theCOM.com_rslts['sigma_N'],\n",
    "            1 / (fwhm(theCOM.pulse_resps_nopkg[0]) * theCOM.times[1]),  # raw channel bandwidth\n",
    "            reflectivity(theCOM.pulse_resps_noeq[0]) * theCOM.times[1],\n",
    "        ])\n"
   ]
  },
  {
   "cell_type": "code",
   "execution_count": null,
   "id": "03ec0cdc-5d2f-40f0-af7b-17d923eec984",
   "metadata": {
    "execution": {
     "iopub.status.busy": "2024-12-09T14:34:00.813066Z",
     "iopub.status.idle": "2024-12-09T14:34:00.814121Z",
     "shell.execute_reply": "2024-12-09T14:34:00.813557Z",
     "shell.execute_reply.started": "2024-12-09T14:34:00.813545Z"
    }
   },
   "outputs": [],
   "source": [
    "fom = np.array(list(map(lambda tup: tup[2], com_rslts)))\n",
    "plt.figure(figsize=(6, 4))\n",
    "plt.plot(fom, com_vals, \".\")\n",
    "plt.plot(fom, fom + 0.0)\n",
    "plt.title(\"COM vs. FOM\")\n",
    "plt.xlabel(\"FOM (dB)\")\n",
    "plt.ylabel(\"COM (dB)\")\n",
    "plt.grid()\n",
    "plt.show()\n"
   ]
  },
  {
   "cell_type": "markdown",
   "id": "2a22bd55-3e2a-458a-8fc6-65d6cb515a32",
   "metadata": {},
   "source": [
    "There seems to be pretty good correlation between COM and FOM, above zero.  \n",
    "And the range of FOM values is consistent w/ Adam's plots of COM values.  \n",
    "However, the COM values appear to be bounded from below by zero, which is incorrect."
   ]
  },
  {
   "cell_type": "markdown",
   "id": "7434d5e6-8edc-4c76-946d-40f657905221",
   "metadata": {},
   "source": [
    "### Tabulated Results\n",
    "\n",
    "The tabulated results below suggest the following:\n",
    "\n",
    "1. The COM & FOM values agree fairly well, both with each other and Adam's reported range of values for these channels, for _positive_ values of both.\n",
    "However, the agreement falls apart for negative FOM values.\n",
    "Indeed, the COM values seem to be bounded from below by zero.\n",
    "And that is incorrect.\n",
    "\n",
    "    - The range of COM values in Adam's plots is about: [-3, 6].\n",
    "    - Note the FOM numbers, below, fit into that range quite nicely.\n",
    "  \n",
    "3. The other noise components are dwarfed by `Sigma_ISI`.\n",
    "\n",
    "    - The next largest component, `Sigma_Tx`, is down by an order of magnitude!\n",
    "    - The rest barely even register; why?\n"
   ]
  },
  {
   "cell_type": "code",
   "execution_count": null,
   "id": "deb201f8-2cb6-4d97-b355-40840c6d557a",
   "metadata": {
    "execution": {
     "iopub.status.busy": "2024-12-09T14:34:00.815552Z",
     "iopub.status.idle": "2024-12-09T14:34:00.816575Z",
     "shell.execute_reply": "2024-12-09T14:34:00.816428Z",
     "shell.execute_reply.started": "2024-12-09T14:34:00.816413Z"
    }
   },
   "outputs": [],
   "source": [
    "print(\"All 'Sigma_?' values have units of mV.\")\n",
    "print(\"\\nGroup\\tChannel\\t\\t\\t\\t\\t  COM (dB)   FOM (dB)    ME (mV)   As (mV)  Ani (mV)  Sigma_Tx\\t Sigma_ISI   Sigma_J\\tSigma_Xt   Sigma_N\")\n",
    "print(\"=\" * 154)\n",
    "for grp in theCOMs.keys():\n",
    "    print(grp)\n",
    "    for lbl in theCOMs[grp].keys():\n",
    "        print(f\"\\t{lbl[-40:]:41s}\", end=\"\")\n",
    "        com  = theCOMs[grp][lbl]\n",
    "        print(f\"  {com.com_rslts['COM']:4.1f}       {com.fom_rslts['FOM']:4.1f}        {np.sqrt(com.fom_rslts['mse']) * 1e3:.1g}   {com.com_rslts['As'] * 1e3:7.1f}   {com.com_rslts['Ani'] * 1e3:7.1f}     {com.fom_rslts['sigma_Tx'] * 1e3:4.2f}\\t   {com.fom_rslts['sigma_ISI'] * 1e3:4.2f}      {com.fom_rslts['sigma_J'] * 1e3:4.2f}\\t  {com.fom_rslts['sigma_XT'] * 1e3:4.2f}       {com.fom_rslts['sigma_N'] * 1e3:4.2f}\")\n"
   ]
  },
  {
   "attachments": {},
   "cell_type": "markdown",
   "id": "44c1efb9-e80e-4c21-bda2-cbb0a32b216d",
   "metadata": {},
   "source": [
    "### Noise & Interf. PMF Plots\n",
    "\n",
    "Let's plot the various components of `py` and see if anything suspicious shows up...\n"
   ]
  },
  {
   "cell_type": "code",
   "execution_count": null,
   "id": "4eaef811-01e8-40f1-92e6-3844a4553961",
   "metadata": {
    "execution": {
     "iopub.status.busy": "2024-12-09T14:34:00.817893Z",
     "iopub.status.idle": "2024-12-09T14:34:00.818914Z",
     "shell.execute_reply": "2024-12-09T14:34:00.818744Z",
     "shell.execute_reply.started": "2024-12-09T14:34:00.818729Z"
    }
   },
   "outputs": [],
   "source": [
    "def plot_pys(com: COM, grp: str, lbl: str, nm: str, clr: str, ax1: Any, ax2: Any) -> None:\n",
    "    \"\"\"\n",
    "    Plot various components of the noise & interference PMF.\n",
    "\n",
    "    Args:\n",
    "        com: The COM object to use for plotting.\n",
    "        grp: The channel _group_ name.\n",
    "        lbl: The channel _set_ name.\n",
    "        nm: The COM group _name_ (i.e. - \"MMSE\" vs. \"PRZF\", for instance).\n",
    "        clr: The name of the _color_ to use for plotting.\n",
    "        ax1: Primary y-axis.\n",
    "        ax2: Secondary y-axis.\n",
    "\n",
    "    Returns:\n",
    "        None\n",
    "\n",
    "    Notes:\n",
    "        1. The calling signature of this function is defined by the `plot_group_samps()` function.\n",
    "            (See the _Imports & Utilities_ section, above.)\n",
    "    \"\"\"\n",
    "\n",
    "    y = com.com_rslts[\"y\"]\n",
    "    ax1.semilogy(y * 1e3, com.com_rslts['pJ'], label=\"pJ\")\n",
    "    ax1.semilogy(y * 1e3, com.com_rslts['pG'], label=\"pG\")\n",
    "    ax1.semilogy(y * 1e3, com.com_rslts['py'], label=\"pISI\")\n",
    "    pk = com.com_rslts['pks'][0]\n",
    "    for _pk in com.com_rslts['pks'][1:]:\n",
    "        pk = np.convolve(pk, _pk, mode=\"same\")\n",
    "    ax1.semilogy(y * 1e3, pk, label=\"pXt\")\n",
    "    ax1.axis(ymin=1e-20, ymax=1)\n",
    "    ax1.grid()\n",
    "    ax1.legend(loc=\"lower left\")\n",
    "    plt.title(f\"{lbl[-25: -5]}\")\n",
    "\n",
    "plot_group_samps(plot_pys, \"y (mV)\", (\"p[y]\", \"(n/a)\"), [(\"MMSE\", \"blue\", theCOMs),])\n"
   ]
  },
  {
   "cell_type": "markdown",
   "id": "7cb1a778-3420-4abf-9c8b-65213ac26fbc",
   "metadata": {},
   "source": [
    "The ISI is just too extreme.\n",
    "At 1e-4 (our DER0), we're already out about 500 mV!\n",
    "That's too much.\n",
    "Something must be wrong w/ the ISI calculation."
   ]
  },
  {
   "attachments": {},
   "cell_type": "markdown",
   "id": "104c7ffe-2ed2-46b1-8565-fbc4f97d81e4",
   "metadata": {},
   "source": [
    "### Power Spectral Density Plots\n",
    "\n",
    "In the new MMSE approach to Rx FFE tap weight optimization, the noise and interference _power spectral densities_ (PSDs) play a primary role.  \n",
    "Let's plot them and see if anything suspicious shows up...\n"
   ]
  },
  {
   "cell_type": "markdown",
   "id": "d4930fc4-032e-48f6-b54e-4ec412b73c68",
   "metadata": {},
   "source": [
    "### Noise PSDs\n",
    "\n",
    "Here, we plot the noise _Power Spectral Densities_ (PSDs).\n"
   ]
  },
  {
   "cell_type": "markdown",
   "id": "315aae27-75c0-47f4-81e9-c671ab534366",
   "metadata": {},
   "source": [
    "Well, those all seem to be, at least, in the same order of magnitude range as what Adam Healey reported in his January 2024 presentation to the 802.3dj task force:\n",
    "\n",
    "![Adam Healey's PSD Plots](Adams_PSDs.png)\n"
   ]
  },
  {
   "cell_type": "markdown",
   "id": "5b27836e-4ca6-4e87-a9b9-0800d6cc372f",
   "metadata": {},
   "source": [
    "#### Autocorrelation Vectors\n",
    "\n",
    "As a final check, let's plot the `Rn` for the test cases above."
   ]
  },
  {
   "cell_type": "code",
   "execution_count": null,
   "id": "91425e5c-f970-4262-a380-0d15f5e97724",
   "metadata": {
    "execution": {
     "iopub.status.busy": "2024-12-09T14:34:00.820225Z",
     "iopub.status.idle": "2024-12-09T14:34:00.821027Z",
     "shell.execute_reply": "2024-12-09T14:34:00.820863Z",
     "shell.execute_reply.started": "2024-12-09T14:34:00.820847Z"
    }
   },
   "outputs": [],
   "source": [
    "plt.figure(figsize=(12, 5))\n",
    "for grp in theCOMs.keys():\n",
    "    for lbl in theCOMs[grp].keys():\n",
    "        com  = theCOMs[grp][lbl]\n",
    "        theNoiseCalc = com.theNoiseCalc\n",
    "        Rn = np.abs(theNoiseCalc.Rn())\n",
    "        assert all(Rn >= 0)\n",
    "        assert not any(np.isnan(Rn))\n",
    "        ix = np.arange(len(Rn)) - len(Rn) // 2\n",
    "        plt.plot(ix, fftshift(np.sqrt(Rn)) * 1e3, label=grp[:14]+\"...:...\"+lbl[-26:])\n",
    "plt.title(\"Autocorrelation Vectors (mV)\")\n",
    "plt.xlabel(\"Vector Index\")\n",
    "# plt.axis(ymin=-200, ymax=-135)\n",
    "plt.grid()\n",
    "plt.legend()\n",
    "plt.show()\n"
   ]
  },
  {
   "cell_type": "markdown",
   "id": "ff752e1f-3673-46e8-8c18-57928f667a86",
   "metadata": {},
   "source": [
    "Well, those certainly look like autocorrelation vectors, but I don't really know how to judge whether the magnitude makes sense.\n",
    "Let's generate their noise PDFs and look at those..."
   ]
  },
  {
   "cell_type": "markdown",
   "id": "427b1278-1991-4973-b668-005023c39709",
   "metadata": {},
   "source": [
    "#### Rn PDFs\n",
    "\n",
    "Here, we use the autocorrelation vectors above to generate noise PDFs, just like in the COM calculation for $A_{ni}$."
   ]
  },
  {
   "cell_type": "code",
   "execution_count": null,
   "id": "a062dd30-8788-42b8-b179-0fda80c664b4",
   "metadata": {
    "execution": {
     "iopub.status.busy": "2024-12-09T14:34:00.822599Z",
     "iopub.status.idle": "2024-12-09T14:34:00.823141Z",
     "shell.execute_reply": "2024-12-09T14:34:00.822973Z",
     "shell.execute_reply.started": "2024-12-09T14:34:00.822959Z"
    }
   },
   "outputs": [],
   "source": [
    "from pychopmarg.utility import delta_pmf\n",
    "\n",
    "plt.figure(figsize=(12, 5))\n",
    "for grp in theCOMs.keys():\n",
    "    for lbl in theCOMs[grp].keys():\n",
    "        com = theCOMs[grp][lbl]\n",
    "        theNoiseCalc = com.theNoiseCalc\n",
    "        x, py = delta_pmf(np.sqrt(np.abs(theNoiseCalc.Rn())))\n",
    "        plt.plot(x * 1e3, py, label=grp[:14]+\"...:...\"+lbl[-26:])\n",
    "plt.title(\"Noise Amplitude PMF\")\n",
    "plt.xlabel(\"Noise Amplitude (mV)\")\n",
    "plt.grid()\n",
    "plt.legend()\n",
    "plt.show()\n"
   ]
  },
  {
   "cell_type": "code",
   "execution_count": null,
   "id": "4c867052-8752-4102-90f9-8da81f0e9af9",
   "metadata": {
    "execution": {
     "iopub.status.busy": "2024-12-09T14:34:00.824563Z",
     "iopub.status.idle": "2024-12-09T14:34:00.825312Z",
     "shell.execute_reply": "2024-12-09T14:34:00.825163Z",
     "shell.execute_reply.started": "2024-12-09T14:34:00.825150Z"
    }
   },
   "outputs": [],
   "source": [
    "def plot_psds(com: COM, grp: str, lbl: str, nm: str, clr: str, ax1: Any, ax2: Any) -> None:\n",
    "    \"Plot various components of the noise & interference PSD.\"\n",
    "    theNoiseCalc = com.theNoiseCalc\n",
    "    Srn = theNoiseCalc.Srn\n",
    "    Sxn = np.sum(np.array(list(map(theNoiseCalc.Sxn, theNoiseCalc.agg_pulse_resps))), axis=0)\n",
    "    Stn = theNoiseCalc.Stn\n",
    "    Sjn = theNoiseCalc.Sjn\n",
    "\n",
    "    Hffe = calc_Hffe(theNoiseCalc.f, theNoiseCalc.Tb, np.array(com.rx_taps).flatten(), com.nRxTaps - com.nRxPreTaps - 1, hasCurs=True)\n",
    "    Hffe_2 = abs(rfft(theNoiseCalc.from_irfft(irfft(np.abs(Hffe) ** 2))))\n",
    "    # The next step seems necessary, in order to match Adam's results, below.\n",
    "    Hffe_2 /= max(Hffe_2)  # Normalize to enforce passivity. (Is that correct? Should I normalize for unity d.c. gain, instead?)\n",
    "    \n",
    "    _f = np.linspace(0, 0.5, len(Srn))\n",
    "    ax1.plot(_f, dBm_Hz(Srn * Hffe_2), label=\"Srn\", color=\"blue\")\n",
    "    ax1.plot(_f, dBm_Hz(Sxn * Hffe_2), label=\"Sxn\", color=\"orange\")\n",
    "    ax1.plot(_f, dBm_Hz(Stn * Hffe_2), label=\"Stn\", color=\"purple\")\n",
    "    ax1.plot(_f, dBm_Hz(Sjn * Hffe_2), label=\"Sjn\", color=\"green\")\n",
    "    plt.title(f\"{grp[:12]}:{lbl[-15:]}\")\n",
    "\n",
    "    ax1.axis(ymin=-200, ymax=-140)\n",
    "    ax1.grid()\n",
    "    ax1.legend(loc=\"lower left\")\n",
    "    plt.title(f\"{lbl[-25: -5]}\")\n",
    "\n",
    "plot_group_samps(plot_psds, \"Frequency (fBaud.)\", (\"PSD (dBm/Hz)\", \"(n/a)\"), [(\"MMSE\", \"blue\", theCOMs),])\n"
   ]
  },
  {
   "cell_type": "markdown",
   "id": "b8b16fb8-ddd5-4208-95ee-10bc7f439774",
   "metadata": {},
   "source": [
    "Comparing the above to Adam's reported values (See plot below, taken from his Jan. 2024 presentation.) shows pretty good agreement.\n",
    "\n",
    "**However, note that I've had to _normalize_ the FFE transfer function, above, in order to get this agreement!**\n",
    "\n",
    "I'm _not_ doing that in my noise & interference calculation code.\n",
    "And now I'm wondering if this is the source of my extreme ISI.\n",
    "\n",
    "![Adam Healey's PSD Plots](Adams_PSDs.png)\n"
   ]
  },
  {
   "attachments": {},
   "cell_type": "markdown",
   "id": "cba20032-c2b4-494e-ad8b-ff1a8ebee57a",
   "metadata": {},
   "source": [
    "### Hffe Plots\n",
    "\n",
    "The revelation, above, that $H_{ffe}$ needs to be normalized for passivity, in order to get a good match to Adam's reported results, casts suspicion on my Rx FFE tap weight results.\n",
    "Let's get the transfer functions plotted here, for the record.\n"
   ]
  },
  {
   "cell_type": "code",
   "execution_count": null,
   "id": "6fd5b047-98be-408c-b296-eb4a79bc2801",
   "metadata": {
    "execution": {
     "iopub.status.busy": "2024-12-09T14:34:00.826579Z",
     "iopub.status.idle": "2024-12-09T14:34:00.827709Z",
     "shell.execute_reply": "2024-12-09T14:34:00.827236Z",
     "shell.execute_reply.started": "2024-12-09T14:34:00.827217Z"
    }
   },
   "outputs": [],
   "source": [
    "print(\"\\nGroup\\tChannel\\t\\t\\t\\t\\t\\tRx FFE Cursor Tap Weight\")\n",
    "print(\"=\" * 80)\n",
    "for grp in theCOMs.keys():\n",
    "    print(grp)\n",
    "    for lbl in theCOMs[grp].keys():\n",
    "        print(f\"\\t{lbl[-40:]:41s}\", end=\"\")\n",
    "        com  = theCOMs[grp][lbl]\n",
    "        print(f\"\\t\\t{com.rx_taps[com.nRxPreTaps]:4.1f}\")\n"
   ]
  },
  {
   "cell_type": "code",
   "execution_count": null,
   "id": "5aed631c-3de5-44b0-bd21-c78d930a5e99",
   "metadata": {
    "execution": {
     "iopub.status.busy": "2024-12-09T14:34:00.829752Z",
     "iopub.status.idle": "2024-12-09T14:34:00.831009Z",
     "shell.execute_reply": "2024-12-09T14:34:00.830748Z",
     "shell.execute_reply.started": "2024-12-09T14:34:00.830724Z"
    }
   },
   "outputs": [],
   "source": [
    "def plot_Hffe(com: COM, grp: str, lbl: str, nm: str, clr: str, ax1: Any, ax2: Any) -> None:\n",
    "    \"Plot the Rx FFE transfer functions.\"\n",
    "    theNoiseCalc = com.theNoiseCalc\n",
    "\n",
    "    Hffe = calc_Hffe(com.freqs, 1/com.fb, np.array(com.rx_taps).flatten(), com.nRxTaps - com.nRxPreTaps - 1, hasCurs=True)\n",
    "    Hffe_2 = abs(rfft(theNoiseCalc.from_irfft(irfft(np.abs(Hffe) ** 2))))\n",
    "    # The next step seems necessary, in order to match Adam's results, below.\n",
    "    # Hffe_2 /= max(Hffe_2)  # Normalize to enforce passivity. (Is that correct? Should I normalize for unity d.c. gain, instead?)\n",
    "    \n",
    "    _f = np.linspace(0, 0.5, len(Hffe_2))\n",
    "    ax1.plot(_f, 10*np.log10(Hffe_2), label=\"Raw\", color=\"blue\")\n",
    "    # ax1.plot(_f, 10*np.log10(Hffe_2 / max(Hffe_2)), label=\"Norm.\", color=\"red\")\n",
    "    plt.title(f\"{grp[:12]}:{lbl[-15:]}\")\n",
    "\n",
    "    ax1.grid()\n",
    "    # ax1.legend(loc=\"lower left\")\n",
    "    plt.title(f\"{lbl[-25: -5]}\")\n",
    "\n",
    "plot_group_samps(plot_Hffe, \"Frequency (fBaud.)\", (\"|Hffe| (dB)\", \"(n/a)\"), [(\"MMSE\", \"blue\", theCOMs),])\n"
   ]
  },
  {
   "cell_type": "markdown",
   "id": "68af446a-04de-4716-ac97-c651433eaa2e",
   "metadata": {},
   "source": [
    "### Lambda vs. MSE/varX\n",
    "\n",
    "The Lagrange multiplier value, $\\lambda$, from the MMSE matrix equation solution for the optimum Rx FFE tap weights is supposed to equal the _minimum mean squared error_ (MMSE) normalized to the average signal power, $\\sigma_X^2$.  \n",
    "Let's see if that holds true..."
   ]
  },
  {
   "cell_type": "code",
   "execution_count": null,
   "id": "c2e93f15-8b24-413b-a6fe-8b01e96f96d4",
   "metadata": {
    "execution": {
     "iopub.status.busy": "2024-12-09T14:34:00.833189Z",
     "iopub.status.idle": "2024-12-09T14:34:00.834058Z",
     "shell.execute_reply": "2024-12-09T14:34:00.833903Z",
     "shell.execute_reply.started": "2024-12-09T14:34:00.833887Z"
    }
   },
   "outputs": [],
   "source": [
    "print(\"\\nGroup\\tChannel\\t\\t\\t\\t\\t   Lambda     MSE/varX    Hit b limit    Hit w limit\")\n",
    "print(\"=\" * 100)\n",
    "for grp in theCOMs.keys():\n",
    "    print(grp)\n",
    "    for lbl in list(theCOMs[grp].keys())[:3]:\n",
    "        print(f\"\\t{lbl[-40:]:41s}\", end=\"\")\n",
    "        com  = theCOMs[grp][lbl]\n",
    "        L = com.L\n",
    "        varX = (L**2 - 1) / (3 * (L - 1)**2)  # (93A-29)\n",
    "        print(f\"   {com.mmse_rslt['lambda']:5.3f}\\t{com.mse / varX:5.3f}\\t    {com.mmse_rslt['hit_b_limit']}\\t    {(com.rx_taps > com.rx_taps_max).any() or (com.rx_taps < com.rx_taps_min).any()}\")\n"
   ]
  },
  {
   "cell_type": "markdown",
   "id": "e8fd23c8-20db-4bca-a744-dc0b1f391556",
   "metadata": {},
   "source": [
    "That large difference between `Lambda` and `MSE/varX` is suspicious.  \n",
    "Adam claims that they should be roughly equal.\n"
   ]
  },
  {
   "cell_type": "markdown",
   "id": "84c0a07b-65b4-4873-b5cb-144bb15e91de",
   "metadata": {},
   "source": [
    "### Passive Rx FFE\n",
    "\n",
    "The results above strongly suggest that I should be normalizing the Rx FFE tap weights for passivity.  \n",
    "Let's try that on a few randomly selected channel sets..."
   ]
  },
  {
   "cell_type": "code",
   "execution_count": null,
   "id": "d4002b6d-d552-448d-b1ea-c3266c4b6946",
   "metadata": {
    "execution": {
     "iopub.status.busy": "2024-12-09T14:34:00.835674Z",
     "iopub.status.idle": "2024-12-09T14:34:00.836396Z",
     "shell.execute_reply": "2024-12-09T14:34:00.836251Z",
     "shell.execute_reply.started": "2024-12-09T14:34:00.836238Z"
    }
   },
   "outputs": [],
   "source": [
    "_tested_ch_sets = sample(ch_sets, 9)  # Random selection w/ no duplication; used for quick-turn debugging sessions.\n",
    "nTests = len(_tested_ch_sets)\n",
    "print(f\"{nTests} channels selected for testing. (Approximately {nTests * 30 / 60: .1f} minutes.)\")\n",
    "# theCOMs_FFE = run_com(_tested_ch_sets, params)\n"
   ]
  },
  {
   "cell_type": "markdown",
   "id": "9f92ed54-981a-492b-a808-578951925615",
   "metadata": {},
   "source": [
    "### Rx FFE Normalization\n",
    "\n",
    "Here, we compare the 3 different available modes of Rx FFE tap weight normalization during optimization:\n",
    "\n",
    "1. (`P8023dj`) As per the standard (D1.2).\n",
    "2. (`Scaled`) Uniformly and minimally scaled, to meet limits.\n",
    "3. (`Unaltered`) Unchanged from constrained optimization solution.\n"
   ]
  },
  {
   "cell_type": "code",
   "execution_count": null,
   "id": "f3452463-c744-46db-8959-274173905044",
   "metadata": {
    "execution": {
     "iopub.status.busy": "2024-12-09T14:34:00.837713Z",
     "iopub.status.idle": "2024-12-09T14:34:00.838519Z",
     "shell.execute_reply": "2024-12-09T14:34:00.838303Z",
     "shell.execute_reply.started": "2024-12-09T14:34:00.838288Z"
    }
   },
   "outputs": [],
   "source": [
    "# `theCOMs` already contains the \"UnitDcGain\" case.\n",
    "theCOMs_UnitDcGain = theCOMs\n",
    "theCOMs_Unaltered = run_com(tested_ch_sets, params, norm_mode=NormMode.Unaltered)\n",
    "theCOMs_Scaled    = run_com(tested_ch_sets, params, norm_mode=NormMode.Scaled)\n",
    "theCOMs_P8023dj   = run_com(tested_ch_sets, params, norm_mode=NormMode.P8023dj)\n"
   ]
  },
  {
   "cell_type": "code",
   "execution_count": null,
   "id": "02e21811-7abf-41c2-8078-a446a59389e1",
   "metadata": {
    "execution": {
     "iopub.status.busy": "2024-12-09T14:34:00.839692Z",
     "iopub.status.idle": "2024-12-09T14:34:00.840413Z",
     "shell.execute_reply": "2024-12-09T14:34:00.840264Z",
     "shell.execute_reply.started": "2024-12-09T14:34:00.840250Z"
    }
   },
   "outputs": [],
   "source": [
    "with open(\"theCOMs_Unaltered.pickle\", \"wb\") as dump_file:\n",
    "    pickle.dump(theCOMs_Unaltered, dump_file)\n",
    "with open(\"theCOMs_Scaled.pickle\", \"wb\") as dump_file:\n",
    "    pickle.dump(theCOMs_Scaled, dump_file)\n",
    "with open(\"theCOMs_P8023dj.pickle\", \"wb\") as dump_file:\n",
    "    pickle.dump(theCOMs_P8023dj, dump_file)\n"
   ]
  },
  {
   "cell_type": "markdown",
   "id": "9b8d7282-f006-4e02-8938-c5186741fd87",
   "metadata": {},
   "source": [
    "#### Tabulated Results\n",
    "\n",
    "Here, we look at the difference in certain key metrics of the analysis.\n"
   ]
  },
  {
   "cell_type": "code",
   "execution_count": null,
   "id": "1aa5a92c-2b4a-40b4-9628-65d0898b6185",
   "metadata": {
    "execution": {
     "iopub.status.busy": "2024-12-09T14:34:00.841870Z",
     "iopub.status.idle": "2024-12-09T14:34:00.843124Z",
     "shell.execute_reply": "2024-12-09T14:34:00.842953Z",
     "shell.execute_reply.started": "2024-12-09T14:34:00.842937Z"
    }
   },
   "outputs": [],
   "source": [
    "print(\"Data triplets are: (P8023dj) / (Unaltered) / (Scaled).\")\n",
    "print(\"\\nGroup\\tChannel\\t\\t\\t\\t\\t     COM (dB)\\t\\t  FOM (dB)\\t\\t   Sigma_ISI (mV)\\t\\tLambda\\t\\t\\t\\tMSE/varX\")\n",
    "print(\"=\" * 173)\n",
    "for grp in theCOMs.keys():\n",
    "    print(grp)\n",
    "    for lbl in theCOMs[grp].keys():\n",
    "        print(f\"\\t{lbl[-40:-5]:36s}\", end=\"\")\n",
    "\n",
    "        com   = theCOMs[grp][lbl]\n",
    "        com_u = theCOMs_Unaltered[grp][lbl]\n",
    "        com_s = theCOMs_Scaled[grp][lbl]\n",
    "\n",
    "        L   = com.L\n",
    "        L_u = com_u.L\n",
    "        L_s = com_s.L\n",
    "\n",
    "        def calcVar(L):\n",
    "            return (L**2 - 1) / (3 * (L - 1)**2)  # (93A-29)\n",
    "\n",
    "        varX   = calcVar(L)\n",
    "        varX_u = calcVar(L_u)\n",
    "        varX_s = calcVar(L_s)\n",
    "        \n",
    "        print(f\"  {com.com:4.1f} / {com_u.com:4.1f} / {com_s.com:4.1f}     {com.fom:4.1f} / {com_u.fom:4.1f} / {com_s.fom:4.1f}\", end=\"\")\n",
    "        print(f\"\\t\\t{com.rslts['sigma_ISI'] : 4.0f} / {com_u.rslts['sigma_ISI'] : 4.0f} / {com_s.rslts['sigma_ISI'] : 4.0f}\", end=\"\")\n",
    "        print(f\"\\t{com.mmse_rslt['lambda']:5.3f} / {com_u.mmse_rslt['lambda']:5.3f} / {com_s.mmse_rslt['lambda']:5.3f}\\t\\t{com.mse / varX:5.3f} / {com_u.mse / varX_u:5.3f} / {com_s.mse / varX_s:5.3f}\")\n"
   ]
  },
  {
   "cell_type": "markdown",
   "id": "d6df660f-4b8b-4b42-a075-19486c2366e0",
   "metadata": {},
   "source": [
    "**Observations:**\n",
    "\n",
    "1. The _Unaltered_ case consistently provides the best COM & FOM results.\n",
    "2. The ISI is significantly reduced in the _Unaltered_ case, relative to the _P8023dj_ case.\n",
    "    - It doesn't make sense to compare the _Scaled_ case, since its pulse response amplitude is greatly diminished, relative to the other two.\n",
    "    - The numbers reported for the _Scaled_ case suggest insufficient resolution in the $A_{ni}$ calculation in that case.\n",
    "3. $\\lambda$ is equal to $MSE / \\sigma_X^2$, in the _Unaltered_ case, as predicted by Adam, validating our matrix equation solution."
   ]
  },
  {
   "cell_type": "markdown",
   "id": "2dd4e70c-5e0d-44b7-9f8d-68432323cb9e",
   "metadata": {},
   "source": [
    "#### Frequency Response\n",
    "\n",
    "Here, we look at the difference in the frequency response of the Rx FFE.\n"
   ]
  },
  {
   "cell_type": "code",
   "execution_count": null,
   "id": "438f292e-a5b4-4c65-b9ff-d2adee0936b0",
   "metadata": {
    "execution": {
     "iopub.status.busy": "2024-12-09T14:34:00.844568Z",
     "iopub.status.idle": "2024-12-09T14:34:00.845448Z",
     "shell.execute_reply": "2024-12-09T14:34:00.845184Z",
     "shell.execute_reply.started": "2024-12-09T14:34:00.845161Z"
    }
   },
   "outputs": [],
   "source": [
    "def plot_freq_resps(com: COM, grp: str, lbl: str, nm: str, opts: dict[str, str], ax1: Any, ax2: Any) -> None:\n",
    "    \"Plot the Rx FFE frequency responses.\"    \n",
    "    f = com.freqs\n",
    "    tb = 1 / com.fb\n",
    "    ax1.semilogx(f, 20 * np.log10(np.abs(calc_Hffe(f, tb, com.rx_taps, com.nRxTaps - com.nRxPreTaps - 1, hasCurs=True))), label=nm, color=opts[\"color\"])\n",
    "    # ax1.axis(xmin=(com.times[first_ix] - ui/2) * 1e9, xmax=(com.times[last_ix] - ui/2) * 1e9)\n",
    "    ax1.grid()\n",
    "    ax1.legend()\n",
    "    plt.title(f\"{lbl[-25: -5]}\")\n",
    "\n",
    "plot_group_samps(\n",
    "    plot_freq_resps,\n",
    "    \"Frequency (Hz)\",\n",
    "    (\"|Hffe| (dB)\", \"(n/a)\"),\n",
    "    [(\"P8023dj\",   {\"color\": \"gray\"}, theCOMs),\n",
    "     (\"Scaled\",    {\"color\": \"blue\"}, theCOMs_Scaled),\n",
    "     (\"Unaltered\", {\"color\": \"red\"},  theCOMs_Unaltered),\n",
    "    ],\n",
    "    dx=4,\n",
    "    dy=3\n",
    ")\n"
   ]
  },
  {
   "cell_type": "markdown",
   "id": "ee181fd3-a5b7-4e8f-a9d7-86389e57bf4f",
   "metadata": {},
   "source": [
    "**Observations:**\n",
    "\n",
    "1. The detrimental effect to the _P8023dj_ case of arbitrary tap weight clipping is evident in the plots above.\n",
    "2. For the most part, the _Scaled_ case is just that: a scaled version of the _Unaltered_ case.  \n",
    "However, there are some peculiar differences in peak shape, which need to be explained.  \n",
    "(Perhaps, more evidence that we're running out of numerical precision, in the _Scaled_ case, due to the lower numerical values there?)\n",
    "3. The large gain (20 dB) in the _P8023dj_ and _Unaltered_ cases is expected.  \n",
    "It represents a 10x voltage gain, which is what is required to bring a 100mV pulse response amplitude (fairly typical for these channels) up to the desired 1V required by the constraint on our matrix solver."
   ]
  },
  {
   "cell_type": "markdown",
   "id": "665c155c-2672-4e1d-82e1-197b7461ef21",
   "metadata": {},
   "source": [
    "#### Pulse Response & ISI\n",
    "\n",
    "Here, we look at the difference in pulse response characteristics, with an eye towards assessing the relative degree of ISI.\n",
    "To that end, we've identified the sampling locations, for the _Unaltered_ case, and marked its ISI w/ black \"x\"s."
   ]
  },
  {
   "cell_type": "code",
   "execution_count": null,
   "id": "ef07ddd4-82a4-4e50-958d-ae0b8061e500",
   "metadata": {
    "execution": {
     "iopub.status.busy": "2024-12-09T14:34:00.847615Z",
     "iopub.status.idle": "2024-12-09T14:34:00.848473Z",
     "shell.execute_reply": "2024-12-09T14:34:00.848289Z",
     "shell.execute_reply.started": "2024-12-09T14:34:00.848275Z"
    }
   },
   "outputs": [],
   "source": [
    "def plot_pulse_resps(com: COM, grp: str, lbl: str, nm: str, opts: dict[str, str], ax1: Any, ax2: Any) -> None:\n",
    "    \"Plot the post-FFE pulse responses.\"\n",
    "    \n",
    "    ui = 1 / com.fb\n",
    "    curs_ix = com.com_cursor_ix\n",
    "    nspui = com.nspui\n",
    "    first_ix = curs_ix - com.nRxPreTaps * nspui\n",
    "    last_ix = first_ix + com.nRxTaps * nspui\n",
    "    ix_isi = range(first_ix, last_ix, nspui)\n",
    "    clr = opts[\"color\"]\n",
    "    if nm == \"Scaled\":\n",
    "        ax2.plot(com.times * 1e9, com.pulse_resps[0] * 1e3, label=nm, color=clr)\n",
    "        ax2.legend(loc=\"right\")\n",
    "    else:\n",
    "        ax1.plot(com.times * 1e9, com.pulse_resps[0] * 1e3, label=nm, color=clr)\n",
    "        ax1.legend(loc=\"upper center\")\n",
    "    if nm == \"Unaltered\":\n",
    "        ax1.plot(com.com_tISI * 1e9, com.com_hISI * 1e3, \"xk\")\n",
    "        for _n, _ix in enumerate(ix_isi):\n",
    "            _t = com.times[_ix]\n",
    "            if _n == com.nRxPreTaps:  # cursor\n",
    "                plt.axvline(_t * 1e9, color=clr, linestyle=\"-\")\n",
    "            else:\n",
    "                plt.axvline(_t * 1e9, color=clr, linestyle=\":\")\n",
    "        ax1.axis(xmin=(com.times[first_ix] - ui/2) * 1e9, xmax=(com.times[last_ix] - ui/2) * 1e9)\n",
    "    ax1.grid()\n",
    "    plt.title(f\"{lbl[-25: -5]}\")\n",
    "\n",
    "plot_group_samps(\n",
    "    plot_pulse_resps,\n",
    "    \"Time (ns)\",\n",
    "    (\"Pulse Response (mV)\", \"Scaled\"),\n",
    "    [(\"P8023dj\",   {\"color\": \"gray\"}, theCOMs),\n",
    "     (\"Scaled\",    {\"color\": \"blue\"}, theCOMs_Scaled),\n",
    "     (\"Unaltered\", {\"color\": \"red\"},  theCOMs_Unaltered),\n",
    "    ],\n",
    "    dx=4,\n",
    "    dy=3\n",
    ")\n"
   ]
  },
  {
   "cell_type": "markdown",
   "id": "73f9363a-d437-4e6d-b20a-bf88b7c077df",
   "metadata": {},
   "source": [
    "**Observations:**\n",
    "\n",
    "1. The detrimental effect that arbitrary clipping of the Rx FFE tap weight values (_P8023dj_) is having on ISI is self-evident in the plots above.\n",
    "\n",
    "**Questions:**\n",
    "\n",
    "1. What is causing the shift in peak location in some cases?\n",
    "\n",
    "    - A single UI shift can be explained by the \"slack\" in the Muller-Mueller cursor identification algorithm.\n",
    "      But, I'm seeing a shift of several UIs in a few cases!\n",
    "\n",
    "    - It's interesting that the most extreme case also happens to exhibit uncharacteristically large ISI in the _Unaltered_ plot."
   ]
  },
  {
   "cell_type": "markdown",
   "id": "318687cc-9f6f-46a0-92c9-ff281dd6566d",
   "metadata": {},
   "source": [
    "#### Noise & Interference PMFs\n",
    "\n",
    "Here, we look at the difference in the noise and interference PMFs used to calculate $A_{ni}$.  \n",
    "Initially, recall, ISI completely dominated the other components.  \n",
    "The results above leave us hopeful that this will no longer be the case, for the _Unaltered_ and _Scaled_ cases.  \n",
    "Let's see..."
   ]
  },
  {
   "cell_type": "code",
   "execution_count": null,
   "id": "b3b63619-fec5-4fe0-95a3-2b98ff2e6d52",
   "metadata": {
    "execution": {
     "iopub.status.busy": "2024-12-09T14:34:00.850358Z",
     "iopub.status.idle": "2024-12-09T14:34:00.850853Z",
     "shell.execute_reply": "2024-12-09T14:34:00.850702Z",
     "shell.execute_reply.started": "2024-12-09T14:34:00.850685Z"
    }
   },
   "outputs": [],
   "source": [
    "def plot_pmfs(com: COM, grp: str, lbl: str, nm: str, opts: dict[str, str], ax1: Any, ax2: Any) -> None:\n",
    "    \"Plot various components of the noise & interference PMF.\"\n",
    "    ax1.plot([0, 1], [0, 0], label=nm, color=\"gray\", linestyle=opts[\"linestyle\"])  # Just for legend.\n",
    "    if nm == \"P8023dj\":\n",
    "        ax1.legend(loc=\"lower left\")\n",
    "    y = com.rslts[\"y\"]\n",
    "    ax1.semilogy(y * 1e3, com.dbg['pJ'],    label=\"pJ\",   color=\"blue\",   linestyle=opts[\"linestyle\"])\n",
    "    ax1.semilogy(y * 1e3, com.rslts['pG'],  label=\"pG\",   color=\"orange\", linestyle=opts[\"linestyle\"])\n",
    "    ax1.semilogy(y * 1e3, com.rslts['py0'], label=\"pISI\", color=\"green\",  linestyle=opts[\"linestyle\"])\n",
    "    pk = com.pks[0]\n",
    "    for _pk in com.pks[1:]:\n",
    "        pk = np.convolve(pk, _pk, mode=\"same\")\n",
    "    ax1.semilogy(y * 1e3, pk,               label=\"pXt\",  color=\"red\",    linestyle=opts[\"linestyle\"])\n",
    "    ax1.axis(ymin=1e-20, ymax=1)\n",
    "    ax1.grid()\n",
    "    plt.title(f\"{lbl[-25: -5]}\")\n",
    "\n",
    "plot_group_samps(\n",
    "    plot_pmfs,\n",
    "    \"y (mV)\",\n",
    "    (\"p[y]\", \"(n/a)\"),\n",
    "    [(\"Unaltered\", {\"linestyle\": \"solid\"}, theCOMs_Unaltered),\n",
    "     (\"P8023dj\",   {\"linestyle\": \"dashed\"}, theCOMs),\n",
    "     # (\"Scaled\",    {\"linestyle\": \"solid\"},  theCOMs_Scaled),\n",
    "    ],\n",
    "    dx=4,\n",
    "    dy=3\n",
    ")\n"
   ]
  },
  {
   "cell_type": "markdown",
   "id": "c16fdd18-1e48-4509-86cc-9ca4e8197f6a",
   "metadata": {},
   "source": [
    "**Observations:**\n",
    "\n",
    "1. It looks like the arbitrary tap weight clipping occurring in the _P8023dj_ case was artificially inflating the relative significance of the ISI component of $A_{ni}$, which is what we would expect, based on the results above.\n"
   ]
  },
  {
   "cell_type": "markdown",
   "id": "ad0bda39-69aa-437a-970c-3f6ea3e5153c",
   "metadata": {},
   "source": [
    "### Histogram of Intermediate Results\n",
    "\n",
    "As a sanity check on our runs, we plot the histograms of some important intermediate results below.\n",
    "\n",
    "**Note:** The _Bandwidth_ refers to the raw interconnect, while the _Reflectivity_ includes the effect of the package, but not the equalization."
   ]
  },
  {
   "cell_type": "code",
   "execution_count": null,
   "id": "267066c8-d1af-441b-ab6f-b8c18186120f",
   "metadata": {
    "execution": {
     "iopub.status.busy": "2024-12-09T14:34:00.852197Z",
     "iopub.status.idle": "2024-12-09T14:34:00.852990Z",
     "shell.execute_reply": "2024-12-09T14:34:00.852815Z",
     "shell.execute_reply.started": "2024-12-09T14:34:00.852797Z"
    }
   },
   "outputs": [],
   "source": [
    "plt.figure(figsize=(12, 9))\n",
    "labels = [\"As\", \"Ani\", \"fom\", \"sigma_ISI\", \"sigma_XT\", \"sigma_J\", \"sigma_G\", \"sigma_Tx\", \"sigma_N\", \"Bandwidth\", \"Reflectivity\"]\n",
    "for ix, (label, values) in enumerate(zip(labels, np.array(com_rslts).T)):\n",
    "    plt.subplot(3, 4, 1 + ix)\n",
    "    plt.hist(values)\n",
    "    plt.title(label)\n",
    "plt.tight_layout()\n",
    "plt.show()\n"
   ]
  },
  {
   "cell_type": "markdown",
   "id": "4dbcb1c2-8194-42df-957c-f86e7bb21727",
   "metadata": {},
   "source": [
    "### Random Sampling of Equalized Pulse Responses\n",
    "\n",
    "As a further sanity check on the results, below are plotted the equalized pulse responses for 12 randomly selected cases."
   ]
  },
  {
   "cell_type": "markdown",
   "id": "810ea08c-a3e6-463c-ab7f-dc96b5ad71a5",
   "metadata": {},
   "source": [
    "## Appendix A - Old Code\n",
    "\n",
    "This appendix contains old code, preserved here for potential future use."
   ]
  },
  {
   "cell_type": "code",
   "execution_count": null,
   "id": "7b24e798-83a7-4e70-b514-ab2286a4edf3",
   "metadata": {
    "execution": {
     "iopub.status.busy": "2024-12-09T14:34:00.854690Z",
     "iopub.status.idle": "2024-12-09T14:34:00.855340Z",
     "shell.execute_reply": "2024-12-09T14:34:00.855145Z",
     "shell.execute_reply.started": "2024-12-09T14:34:00.855124Z"
    }
   },
   "outputs": [],
   "source": [
    "plt.figure(figsize=(12, 9))\n",
    "labeled_coms_by_group = [\n",
    "    (grp, theCOMs[grp].items())\n",
    "    for grp in theCOMs.keys()\n",
    "]\n",
    "for ix in range(12):\n",
    "    grp, coms = labeled_coms_by_group[ix % len(labeled_coms_by_group)]\n",
    "    lbl, com = choice(list(coms))\n",
    "    plt.subplot(3, 4, 1 + ix)\n",
    "    plt.plot(com.times * 1e9, com.pulse_resps[0] * 1e3, label=f\"...{lbl[-15:]}\")\n",
    "    plt.title(grp[:20])\n",
    "    plt.xlabel(\"Time (ns)\")\n",
    "    plt.ylabel(\"Pulse Response (mV)\")\n",
    "    # plt.axis(xmin=0, xmax=10, ymin=-10, ymax=100)\n",
    "    plt.legend()\n",
    "plt.tight_layout()\n",
    "plt.show()\n"
   ]
  },
  {
   "cell_type": "code",
   "execution_count": null,
   "id": "73b598a2-d19d-47a3-b802-4f85fb96ca68",
   "metadata": {
    "execution": {
     "iopub.status.busy": "2024-12-09T14:34:00.857049Z",
     "iopub.status.idle": "2024-12-09T14:34:00.857454Z",
     "shell.execute_reply": "2024-12-09T14:34:00.857307Z",
     "shell.execute_reply.started": "2024-12-09T14:34:00.857287Z"
    }
   },
   "outputs": [],
   "source": [
    "print(\"Data pairs are: (PRZF) / (MMSE).\")\n",
    "print(\"All 'Sigma_?' values in (mV).\")\n",
    "print(\"\\nGroup\\tChannel\\t\\t\\t\\t\\t     FOM (dB)       Ani (mV)\\t  RMSE (mV)\\t  Sigma_Tx\\t    Sigma_J\\t    Sigma_Xt\\t    Sigma_N\\t     Sigma_ISI\")\n",
    "print(\"=\" * 175)\n",
    "for grp in _theCOMs.keys():\n",
    "    print(grp)\n",
    "    for lbl in _theCOMs[grp].keys():\n",
    "        print(f\"\\t{lbl[-40:]:41s}\", end=\"\")\n",
    "        _com = _theCOMs[grp][lbl]\n",
    "        com  = theCOMs[grp][lbl]\n",
    "        print(f\"  {_com.fom:4.1f} / {com.fom:4.1f}   {_com.Ani * 1e3:5.1f} / {com.Ani * 1e3:5.1f}    {np.sqrt(_com.mse) * 1e3:1.0f} / {np.sqrt(com.mse) * 1e3:5.1f}\", end=\"\")\n",
    "        print(f\"   {_com.sigma_Tx * 1e3:6.2f} / {com.sigma_Tx * 1e3:6.2f}\\t{_com.sigma_J * 1e3:6.2f} / {com.sigma_J * 1e3:6.2f}\\t{_com.sigma_XT * 1e3:6.2f} / {com.sigma_XT * 1e3:6.2f}\\t\", end=\"\")\n",
    "        print(f\"{_com.sigma_N * 1e3:6.2f} / {com.sigma_N * 1e3:6.2f}\\t     {_com.sigma_ISI * 1e3:6.2f} / {com.sigma_ISI * 1e3:1.0f}\")\n"
   ]
  },
  {
   "attachments": {},
   "cell_type": "markdown",
   "id": "f3d3f464-137a-4c26-a464-a5e36637ce95",
   "metadata": {},
   "source": [
    "**Observations:**\n",
    "\n",
    "1. The PRZF FOM values are much higher than their MMSE equivalents and somewhat consistent w/ the MMSE COM values above.\n",
    "    - This is quite strange, given that the `Ani` values are quite similar in all but one of the cases.\n",
    "    - This is also completely inconsistent w/ the noise numbers, which are substantially lower in the MMSE case!\n",
    "    (Note that the `Sigma_ISI` value is set to zero by the code, in the MMSE case.)\n",
    "\n",
    "        - How is that possible, given the FOM value comparisons?!\n",
    "            - Well, in the MMSE case, the FOM value calculation doesn't involve the noise sigma values directly:\n",
    "               \n",
    "                ```python\n",
    "                mse = varX * (w_lim @ R @ w_lim.T + 1 + b_lim @ b_lim - 2 * w_lim @ h0 - 2 * w_lim @ Hb.T @ b_lim).flatten()[0]\n",
    "                fom = 20 * log10(Rlm / (L - 1) / sqrt(mse))\n",
    "                ```  \n",
    "\n",
    "            - So, perhaps, there's a disconnect between `R` and the various sigma noise values, or the equation for `mse` is wrong?\n",
    "         \n",
    "The `R` matrix is built from the `Rn` vector coming from the `NoiseCalc` instance.  \n",
    "And that `Rn` vector is calculated by IFFT'ing a summation of the _power spectral densities_ (PSDs):\n",
    "\n",
    "```python\n",
    "def Rn(self) -> Rvec:\n",
    "    \"\"\"Noise autocorrelation vector at Rx FFE input.\"\"\"\n",
    "    Sn = self.Srn + sum(array(list(map(self.Sxn, self.agg_pulse_resps))), axis=0) + self.Stn + self.Sjn\n",
    "    return irfft(Sn) / self.Tb  # i.e. - `* fB`, which when combined w/ the implicit `1/N` of `irfft()` yields `* df`.\n",
    "```\n",
    "==> Okay, let's plot those PSDs and see what's going on..."
   ]
  },
  {
   "cell_type": "markdown",
   "id": "000f40d0-b6cf-48de-8ccd-6eded076431b",
   "metadata": {},
   "source": [
    "### ISI Investigation\n",
    "\n",
    "Let's take a look at the ISI and see why it's so high."
   ]
  },
  {
   "cell_type": "code",
   "execution_count": null,
   "id": "b71f4336-b231-44ff-923e-4c9e439734c3",
   "metadata": {
    "execution": {
     "iopub.status.busy": "2024-12-09T14:34:00.858910Z",
     "iopub.status.idle": "2024-12-09T14:34:00.859989Z",
     "shell.execute_reply": "2024-12-09T14:34:00.859722Z",
     "shell.execute_reply.started": "2024-12-09T14:34:00.859704Z"
    }
   },
   "outputs": [],
   "source": [
    "plt.figure(figsize=(12, 9))\n",
    "labeled_coms_by_group = [\n",
    "    (grp, theCOMs[grp].items())\n",
    "    for grp in theCOMs.keys()\n",
    "]\n",
    "for ix in range(12):\n",
    "    grp, coms = labeled_coms_by_group[ix % len(labeled_coms_by_group)]\n",
    "    lbl, com = choice(list(coms))\n",
    "    vic_pr = com.pulse_resps[0]\n",
    "    _t_isi = com.com_tISI\n",
    "    ui = 1 / com.fb\n",
    "    plt.subplot(3, 4, 1 + ix)\n",
    "    plt.plot(com.times * 1e9, vic_pr       * 1e3, label=f\"...{lbl[-15:]}\")\n",
    "    plt.plot(_t_isi    * 1e9, com.com_hISI * 1e3, \"x\")\n",
    "    plt.axvline(com.times[com.com_cursor_ix] * 1e9, linestyle=\":\")\n",
    "    plt.title(grp[:20])\n",
    "    if ix > 7:\n",
    "        plt.xlabel(\"Time (ns)\")\n",
    "    if ix % 4 == 0:\n",
    "        plt.ylabel(\"hISI (mV)\")\n",
    "    plt.axis(xmin = (_t_isi[0] - ui/2) * 1e9, xmax = (_t_isi[20] + ui/2) * 1e9)  # , ymin=-10, ymax=100)\n",
    "    plt.grid()\n",
    "    plt.legend()\n",
    "plt.tight_layout()\n",
    "plt.show()\n"
   ]
  },
  {
   "cell_type": "markdown",
   "id": "746963e5-726e-408c-b46b-8b7e571cc434",
   "metadata": {},
   "source": [
    "### Srn Debugging\n",
    "\n",
    "Let's follow the process by which $S_{rn}$ is calculated and see if we can find the bug."
   ]
  },
  {
   "cell_type": "code",
   "execution_count": null,
   "id": "e10d9459-d3d5-4a24-bda7-7d3e4c4dcad5",
   "metadata": {
    "execution": {
     "iopub.status.busy": "2024-12-09T14:34:00.861746Z",
     "iopub.status.idle": "2024-12-09T14:34:00.863026Z",
     "shell.execute_reply": "2024-12-09T14:34:00.862686Z",
     "shell.execute_reply.started": "2024-12-09T14:34:00.862653Z"
    }
   },
   "outputs": [],
   "source": [
    "com  = list(list(theCOMs.items())[0][1].items())[0][1]\n",
    "theNoiseCalc = com.theNoiseCalc\n",
    "assert np.array_equal(com.freqs, theNoiseCalc.f)\n",
    "assert np.array_equal(com.times, theNoiseCalc.t)\n",
    "\n",
    "f = theNoiseCalc.f\n",
    "nspui = theNoiseCalc.nspui\n",
    "t       = theNoiseCalc.t\n",
    "t_irfft = theNoiseCalc.t_irfft\n",
    "t_samp  = t[::nspui]\n",
    "t_shift       = t - t[len(t) // 2]\n",
    "t_irfft_shift = t_irfft - t_irfft[len(t_irfft) // 2]\n",
    "t_samp_shift  = t_samp - t_samp[len(t_samp) // 2]\n",
    "f_samp = np.linspace(0, 0.5 / t_samp[1], len(t_samp) // 2 + 1)\n",
    "\n",
    "rslt  = theNoiseCalc.eta0 * 1e-9 * abs(theNoiseCalc.Hr * theNoiseCalc.Hctf) ** 2\n",
    "rslt1 = irfft(rslt) * f[-1]             # When combined w/ the implicit 1/N of `irfft()`, yields: * df.\n",
    "rslt2 = theNoiseCalc.from_irfft(rslt1)  # Interpolates to `t` and subsamples at fBaud.\n",
    "rslt4 = abs(rfft(rslt2)) * t_samp[1] * 2\n",
    "\n",
    "print(f\"sum(rslt * df): {sum(rslt) * f[1]: .2e}; sum(rslt1): {sum(rslt1): .2e}; sum(rslt2): {sum(rslt2): .2e}; sum(rslt4 * dfsamp): {sum(rslt4) * f_samp[1]: .2e}\")\n",
    "\n",
    "plt.figure(figsize=(12, 4))\n",
    "\n",
    "plot_f = f / 1e9\n",
    "plt.subplot(121)\n",
    "plt.plot(plot_f,       dBm_Hz(rslt),  label=\"$\\_S_{rn}(f)$\")\n",
    "plt.plot(f_samp / 1e9, dBm_Hz(rslt4), label=\"$\\_S_{rn}(\\Theta)$\")\n",
    "plt.plot(f_samp / 1e9, dBm_Hz(theNoiseCalc.Srn), label=\"$S_{rn}(\\Theta)$\")\n",
    "plt.title(\"Power Spectral Densities (dBm/Hz)\")\n",
    "plt.xlabel(\"Frequency (GHz)\")\n",
    "plt.grid()\n",
    "plt.legend()\n",
    "\n",
    "plt.subplot(122)\n",
    "plt.plot(t_irfft_shift * 1e12, fftshift(np.sqrt(abs(rslt1))) * 1e3, label=\"$\\_R(t)$\")\n",
    "plt.plot(t_samp_shift[:len(rslt2)]  * 1e12, fftshift(np.sqrt(abs(rslt2))) * 1e3, label=\"$\\_R_n$\")\n",
    "plt.title(\"Autocorrelation Vectors (mV)\")\n",
    "plt.xlabel(\"Time (ps)\")\n",
    "plt.axis(xmin=-100, xmax=100)\n",
    "plt.grid()\n",
    "plt.legend()\n",
    "\n",
    "plt.show()\n"
   ]
  },
  {
   "cell_type": "markdown",
   "id": "f88a74b2-8351-479f-b3f5-47153781b38a",
   "metadata": {},
   "source": [
    "The _Power Spectral Densities_ look exactly as expected, to wit:\n",
    "\n",
    "- the sampled and actual values agree at d.c., and\n",
    "- the sampled plot displays the aliasing we expect.\n",
    "\n",
    "We fixed this bug, by:\n",
    "\n",
    "- `fftshift()`ing the time domain waveforms before interpolation and/or sub-sampling, to avoid losing any non-causal behavior, which tends to appear at the end of a IFFT() output vector.\n"
   ]
  },
  {
   "cell_type": "markdown",
   "id": "b6cbbe27-7fc8-41e5-9f3f-daed2686197b",
   "metadata": {},
   "source": [
    "### Stn Debugging\n",
    "\n",
    "The following code was used to track down a bug in the calculation of $S_{tn}$."
   ]
  },
  {
   "cell_type": "code",
   "execution_count": null,
   "id": "907067e3-f561-4a63-b8cf-275d807336ad",
   "metadata": {
    "execution": {
     "iopub.status.busy": "2024-12-09T14:34:00.864940Z",
     "iopub.status.idle": "2024-12-09T14:34:00.865451Z",
     "shell.execute_reply": "2024-12-09T14:34:00.865301Z",
     "shell.execute_reply.started": "2024-12-09T14:34:00.865287Z"
    }
   },
   "outputs": [],
   "source": [
    "plt.figure(figsize=(12, 6))\n",
    "n = 1\n",
    "for grp in theCOMs.keys():\n",
    "    for lbl in theCOMs[grp].keys():\n",
    "        if n in [1, 2]:\n",
    "            print(f\"{n}: {grp}:{lbl}\")\n",
    "            com  = theCOMs[grp][lbl]\n",
    "            theNoiseCalc = com.theNoiseCalc\n",
    "            Tb = theNoiseCalc.Tb\n",
    "            nspui = theNoiseCalc.nspui\n",
    "            t = theNoiseCalc.t\n",
    "            f = theNoiseCalc.f\n",
    "            tf = theNoiseCalc.t_irfft\n",
    "            ts = t[::nspui]\n",
    "            Ht   = theNoiseCalc.Ht\n",
    "            H21  = theNoiseCalc.H21\n",
    "            Hr   = theNoiseCalc.Hr\n",
    "            Hctf = theNoiseCalc.Hctf\n",
    "            Htn  = Ht * H21 * Hr * Hctf\n",
    "            Hsinc = np.sinc(f * theNoiseCalc.Tb)\n",
    "            htn = irfft(Hsinc * Htn) * 2  # * f[-1] - Don't need `* df` when converting a transfer function to a pulse response.\n",
    "            htn_samp = theNoiseCalc.from_irfft(htn)\n",
    "            # Stn = 10**(-theNoiseCalc.snr_tx / 10) * abs(rfft(htn_samp) * Tb)**2 * Tb\n",
    "            Stn = 10**(-theNoiseCalc.snr_tx / 10) * abs(rfft(htn_samp))**2 * Tb\n",
    "            fnorm = np.linspace(0, 0.5, len(Stn))\n",
    "            plt.subplot(231)\n",
    "            plt.semilogx(theNoiseCalc.f / 1e9, mag_dB(Ht),   label=f\"Ht_{n}\")            \n",
    "            plt.subplot(232)\n",
    "            plt.semilogx(theNoiseCalc.f / 1e9, mag_dB(H21),  label=f\"H21_{n}\")            \n",
    "            plt.subplot(233)\n",
    "            plt.semilogx(theNoiseCalc.f / 1e9, mag_dB(Hr),   label=f\"Hr_{n}\")            \n",
    "            plt.semilogx(theNoiseCalc.f / 1e9, mag_dB(Hctf), label=f\"Hctf_{n}\")            \n",
    "            plt.subplot(234)\n",
    "            plt.semilogx(theNoiseCalc.f / 1e9, mag_dB(Htn),   label=f\"Htn_{n}\")            \n",
    "            plt.semilogx(theNoiseCalc.f / 1e9, mag_dB(Hsinc), label=f\"Hsinc_{n}\")            \n",
    "            plt.subplot(235)\n",
    "            plt.plot((tf - tf[len(tf) // 2]) * 1e9, fftshift(htn)      * 1e3, label=f\"$htn(t)$_{n}\")            \n",
    "            plt.plot((ts[:len(htn_samp)] - ts[len(ts) // 2]) * 1e9, fftshift(htn_samp) * 1e3, \"x\", label=f\"$htn(\\Theta)$_{n}\")            \n",
    "            plt.subplot(236)\n",
    "            plt.plot(fnorm, dBm_Hz(Stn), label=f\"Stn_{n}\")            \n",
    "        n += 1\n",
    "\n",
    "for n in range(4):\n",
    "    plt.subplot(231 + n)\n",
    "    plt.tight_layout()\n",
    "    plt.title(\"Transfer Functions (dB)\")\n",
    "    plt.xlabel(\"Frequency (GHz)\")\n",
    "    plt.grid()\n",
    "    plt.legend()\n",
    "\n",
    "plt.subplot(235)\n",
    "plt.tight_layout()\n",
    "plt.title(\"Pulse Response (mV)\")\n",
    "plt.xlabel(\"Time (ns)\")\n",
    "plt.axis(xmin=0.8, xmax=1.3)\n",
    "plt.grid()\n",
    "plt.legend()\n",
    "\n",
    "plt.subplot(236)\n",
    "plt.tight_layout()\n",
    "plt.title(\"Power Spectral Density (dBm/Hz)\")\n",
    "plt.xlabel(\"Frequency (fBaud.)\")\n",
    "plt.grid()\n",
    "plt.legend()\n",
    "\n",
    "plt.show()\n"
   ]
  },
  {
   "cell_type": "code",
   "execution_count": null,
   "id": "cc940f2c-313b-43a4-8574-d104166ec333",
   "metadata": {},
   "outputs": [],
   "source": []
  }
 ],
 "metadata": {
  "kernelspec": {
   "display_name": "Python 3 (ipykernel)",
   "language": "python",
   "name": "python3"
  },
  "language_info": {
   "codemirror_mode": {
    "name": "ipython",
    "version": 3
   },
   "file_extension": ".py",
   "mimetype": "text/x-python",
   "name": "python",
   "nbconvert_exporter": "python",
   "pygments_lexer": "ipython3",
   "version": "3.13.0"
  }
 },
 "nbformat": 4,
 "nbformat_minor": 5
}
